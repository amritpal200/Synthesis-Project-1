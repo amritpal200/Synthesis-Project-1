{
 "cells": [
  {
   "cell_type": "markdown",
   "metadata": {},
   "source": [
    "# Data guide\n",
    "This is just a short guide for understanding what do features look like and how to use them properly for giving them to any model."
   ]
  },
  {
   "cell_type": "markdown",
   "metadata": {},
   "source": [
    "## Overview"
   ]
  },
  {
   "cell_type": "code",
   "execution_count": 1,
   "metadata": {},
   "outputs": [],
   "source": [
    "import pandas as pd\n",
    "import os\n",
    "\n",
    "ROOT_DIR = os.path.dirname(os.path.abspath(\"\"))\n",
    "assert ROOT_DIR.endswith(\"Synthesis-Project-1\"),\\\n",
    "\t'Root directory is not Synthesis-Project-1. Ensure your python file is in the \"src/\" directory of the repository'\n",
    "\n",
    "file = os.path.join(ROOT_DIR, \"data/sitges_access_clean.csv\")\n",
    "df = pd.read_csv(file)"
   ]
  },
  {
   "cell_type": "code",
   "execution_count": 2,
   "metadata": {},
   "outputs": [
    {
     "data": {
      "text/html": [
       "<div>\n",
       "<style scoped>\n",
       "    .dataframe tbody tr th:only-of-type {\n",
       "        vertical-align: middle;\n",
       "    }\n",
       "\n",
       "    .dataframe tbody tr th {\n",
       "        vertical-align: top;\n",
       "    }\n",
       "\n",
       "    .dataframe thead th {\n",
       "        text-align: right;\n",
       "    }\n",
       "</style>\n",
       "<table border=\"1\" class=\"dataframe\">\n",
       "  <thead>\n",
       "    <tr style=\"text-align: right;\">\n",
       "      <th></th>\n",
       "      <th>URL</th>\n",
       "      <th>bytes</th>\n",
       "      <th>referer</th>\n",
       "      <th>user-agent</th>\n",
       "      <th>level</th>\n",
       "      <th>group</th>\n",
       "      <th>elapsed</th>\n",
       "      <th>IP_oct0</th>\n",
       "      <th>IP_oct1</th>\n",
       "      <th>IP_oct2</th>\n",
       "      <th>...</th>\n",
       "      <th>petition_-</th>\n",
       "      <th>petition_GET</th>\n",
       "      <th>petition_HEAD</th>\n",
       "      <th>petition_POST</th>\n",
       "      <th>petition_other</th>\n",
       "      <th>status_1</th>\n",
       "      <th>status_2</th>\n",
       "      <th>status_3</th>\n",
       "      <th>status_4</th>\n",
       "      <th>status_5</th>\n",
       "    </tr>\n",
       "  </thead>\n",
       "  <tbody>\n",
       "    <tr>\n",
       "      <th>0</th>\n",
       "      <td>/fr/pag492/explora-platges-i-ports-2/id12/les-...</td>\n",
       "      <td>0.157270</td>\n",
       "      <td>-</td>\n",
       "      <td>Mozilla/5.0 (Windows NT 10.0; Win64; x64) Appl...</td>\n",
       "      <td>0.000000</td>\n",
       "      <td>14921</td>\n",
       "      <td>0.000000</td>\n",
       "      <td>-1.478924</td>\n",
       "      <td>-0.936277</td>\n",
       "      <td>-1.236864</td>\n",
       "      <td>...</td>\n",
       "      <td>0</td>\n",
       "      <td>0</td>\n",
       "      <td>1</td>\n",
       "      <td>0</td>\n",
       "      <td>0</td>\n",
       "      <td>False</td>\n",
       "      <td>0</td>\n",
       "      <td>1</td>\n",
       "      <td>0</td>\n",
       "      <td>0</td>\n",
       "    </tr>\n",
       "    <tr>\n",
       "      <th>1</th>\n",
       "      <td>/fr/pag492/explora-platges-i-ports-2/id12/les-...</td>\n",
       "      <td>0.203884</td>\n",
       "      <td>-</td>\n",
       "      <td>Mozilla/5.0 (Windows NT 10.0; Win64; x64) Appl...</td>\n",
       "      <td>0.000000</td>\n",
       "      <td>14921</td>\n",
       "      <td>0.693147</td>\n",
       "      <td>-1.478924</td>\n",
       "      <td>-0.936277</td>\n",
       "      <td>-1.236864</td>\n",
       "      <td>...</td>\n",
       "      <td>0</td>\n",
       "      <td>0</td>\n",
       "      <td>1</td>\n",
       "      <td>0</td>\n",
       "      <td>0</td>\n",
       "      <td>False</td>\n",
       "      <td>1</td>\n",
       "      <td>0</td>\n",
       "      <td>0</td>\n",
       "      <td>0</td>\n",
       "    </tr>\n",
       "    <tr>\n",
       "      <th>2</th>\n",
       "      <td>/ca/noticias/84/sitges-obt%C3%A9-el-certificat...</td>\n",
       "      <td>-0.244845</td>\n",
       "      <td>-</td>\n",
       "      <td>Mozilla/5.0 AppleWebKit/537.36 (KHTML, like Ge...</td>\n",
       "      <td>0.333333</td>\n",
       "      <td>12379</td>\n",
       "      <td>0.000000</td>\n",
       "      <td>-1.594980</td>\n",
       "      <td>-0.920316</td>\n",
       "      <td>1.101653</td>\n",
       "      <td>...</td>\n",
       "      <td>0</td>\n",
       "      <td>1</td>\n",
       "      <td>0</td>\n",
       "      <td>0</td>\n",
       "      <td>0</td>\n",
       "      <td>False</td>\n",
       "      <td>0</td>\n",
       "      <td>0</td>\n",
       "      <td>1</td>\n",
       "      <td>0</td>\n",
       "    </tr>\n",
       "    <tr>\n",
       "      <th>3</th>\n",
       "      <td>/fr/pag492/explora-platges-i-ports-2/id12/les-...</td>\n",
       "      <td>0.157270</td>\n",
       "      <td>-</td>\n",
       "      <td>Mozilla/5.0 (Windows NT 6.1; Win64; x64) Apple...</td>\n",
       "      <td>0.000000</td>\n",
       "      <td>20285</td>\n",
       "      <td>0.000000</td>\n",
       "      <td>-1.478924</td>\n",
       "      <td>-0.936277</td>\n",
       "      <td>-1.236864</td>\n",
       "      <td>...</td>\n",
       "      <td>0</td>\n",
       "      <td>0</td>\n",
       "      <td>1</td>\n",
       "      <td>0</td>\n",
       "      <td>0</td>\n",
       "      <td>False</td>\n",
       "      <td>0</td>\n",
       "      <td>1</td>\n",
       "      <td>0</td>\n",
       "      <td>0</td>\n",
       "    </tr>\n",
       "    <tr>\n",
       "      <th>4</th>\n",
       "      <td>/fr/pag492/explora-platges-i-ports-2/id12/les-...</td>\n",
       "      <td>0.208205</td>\n",
       "      <td>-</td>\n",
       "      <td>Mozilla/5.0 (Windows NT 6.1; Win64; x64) Apple...</td>\n",
       "      <td>0.000000</td>\n",
       "      <td>20285</td>\n",
       "      <td>0.693147</td>\n",
       "      <td>-1.478924</td>\n",
       "      <td>-0.936277</td>\n",
       "      <td>-1.236864</td>\n",
       "      <td>...</td>\n",
       "      <td>0</td>\n",
       "      <td>0</td>\n",
       "      <td>1</td>\n",
       "      <td>0</td>\n",
       "      <td>0</td>\n",
       "      <td>False</td>\n",
       "      <td>1</td>\n",
       "      <td>0</td>\n",
       "      <td>0</td>\n",
       "      <td>0</td>\n",
       "    </tr>\n",
       "  </tbody>\n",
       "</table>\n",
       "<p>5 rows × 31 columns</p>\n",
       "</div>"
      ],
      "text/plain": [
       "                                                 URL     bytes referer  \\\n",
       "0  /fr/pag492/explora-platges-i-ports-2/id12/les-...  0.157270       -   \n",
       "1  /fr/pag492/explora-platges-i-ports-2/id12/les-...  0.203884       -   \n",
       "2  /ca/noticias/84/sitges-obt%C3%A9-el-certificat... -0.244845       -   \n",
       "3  /fr/pag492/explora-platges-i-ports-2/id12/les-...  0.157270       -   \n",
       "4  /fr/pag492/explora-platges-i-ports-2/id12/les-...  0.208205       -   \n",
       "\n",
       "                                          user-agent     level  group  \\\n",
       "0  Mozilla/5.0 (Windows NT 10.0; Win64; x64) Appl...  0.000000  14921   \n",
       "1  Mozilla/5.0 (Windows NT 10.0; Win64; x64) Appl...  0.000000  14921   \n",
       "2  Mozilla/5.0 AppleWebKit/537.36 (KHTML, like Ge...  0.333333  12379   \n",
       "3  Mozilla/5.0 (Windows NT 6.1; Win64; x64) Apple...  0.000000  20285   \n",
       "4  Mozilla/5.0 (Windows NT 6.1; Win64; x64) Apple...  0.000000  20285   \n",
       "\n",
       "    elapsed   IP_oct0   IP_oct1   IP_oct2  ...  petition_-  petition_GET  \\\n",
       "0  0.000000 -1.478924 -0.936277 -1.236864  ...           0             0   \n",
       "1  0.693147 -1.478924 -0.936277 -1.236864  ...           0             0   \n",
       "2  0.000000 -1.594980 -0.920316  1.101653  ...           0             1   \n",
       "3  0.000000 -1.478924 -0.936277 -1.236864  ...           0             0   \n",
       "4  0.693147 -1.478924 -0.936277 -1.236864  ...           0             0   \n",
       "\n",
       "   petition_HEAD  petition_POST  petition_other  status_1  status_2  status_3  \\\n",
       "0              1              0               0     False         0         1   \n",
       "1              1              0               0     False         1         0   \n",
       "2              0              0               0     False         0         0   \n",
       "3              1              0               0     False         0         1   \n",
       "4              1              0               0     False         1         0   \n",
       "\n",
       "   status_4  status_5  \n",
       "0         0         0  \n",
       "1         0         0  \n",
       "2         1         0  \n",
       "3         0         0  \n",
       "4         0         0  \n",
       "\n",
       "[5 rows x 31 columns]"
      ]
     },
     "execution_count": 2,
     "metadata": {},
     "output_type": "execute_result"
    }
   ],
   "source": [
    "df.head()"
   ]
  },
  {
   "cell_type": "code",
   "execution_count": 3,
   "metadata": {},
   "outputs": [
    {
     "data": {
      "text/plain": [
       "Index(['URL', 'bytes', 'referer', 'user-agent', 'level', 'group', 'elapsed',\n",
       "       'IP_oct0', 'IP_oct1', 'IP_oct2', 'IP_oct3', 'month_sin', 'month_cos',\n",
       "       'day_sin', 'day_cos', 'weekday_sin', 'weekday_cos', 'hour_sin',\n",
       "       'hour_cos', 'minute_sin', 'minute_cos', 'petition_-', 'petition_GET',\n",
       "       'petition_HEAD', 'petition_POST', 'petition_other', 'status_1',\n",
       "       'status_2', 'status_3', 'status_4', 'status_5'],\n",
       "      dtype='object')"
      ]
     },
     "execution_count": 3,
     "metadata": {},
     "output_type": "execute_result"
    }
   ],
   "source": [
    "df.columns"
   ]
  },
  {
   "cell_type": "markdown",
   "metadata": {},
   "source": [
    "Our dataset has about 1 million logs, and 29 features each. Most of them are numerical and already normalized, but we have URL, referer and user-agent that are currently text, here is where embeddings come into play:\n",
    "\n",
    "## Embeddings\n",
    "Our model can't understand text, so we have created embeddings, that are numerical vectors that represent tokens (words, or pieces of URL in our case), in such a way that similar tokens appear together in the embdedding space (so vectors are similar in terms of cosine similarity).  \n",
    "\n",
    "Our embeddings are currently vectors of 30 dimensions, and each token in the vocabulary has a corresponding embedding.  \n",
    "As we have 3 text features (`URL`, `referer` and `user-agent`), we have created a different vocabulary for each one, and trained different embeddings. However, the vocabulary of `referer` is just an extension of the one from `URL`, because `referer`s are in fact also URLs, but a bit different from the ones in `URL`, that's why they have not exactly the same vocab.\n",
    "\n",
    "> For curiosity, these embeddings were obtained by taking the weights of a 1-layer neural network trained to predict the context tokens in the text given a token. It's called the Skip-gram model (a variant of word2vec)."
   ]
  },
  {
   "cell_type": "markdown",
   "metadata": {},
   "source": [
    "Here is how you can transform the text features into a list of embeddings:"
   ]
  },
  {
   "cell_type": "code",
   "execution_count": 6,
   "metadata": {},
   "outputs": [],
   "source": [
    "# First we import all the necessary functions. `skipgram` is no library, it's just a python file where\n",
    "# we've defined classes and functions to manage embeddings\n",
    "from skipgram import *"
   ]
  },
  {
   "cell_type": "markdown",
   "metadata": {},
   "source": [
    "We start with `URL` embeddings:"
   ]
  },
  {
   "cell_type": "code",
   "execution_count": 17,
   "metadata": {},
   "outputs": [
    {
     "name": "stdout",
     "output_type": "stream",
     "text": [
      "torch.Size([923, 30])\n"
     ]
    }
   ],
   "source": [
    "# Load the embeddings\n",
    "embeddings_url = load_embeddings(os.path.join(ROOT_DIR, \"models\", \"embeddings-url.pt\"))\n",
    "# Load the idx2word. This is the vocabulary where each token is associated with an index\n",
    "idx2word_url = load_idx2word(os.path.join(ROOT_DIR, \"models\", \"idx2word-url.json\"))\n",
    "# Load the tokenizer. Just specify the name `charbpe-url` and it will load the tokenizer, which is saved\n",
    "# in the files `charbpe-url-vocab.json` and `charbpe-url-merges.txt`\n",
    "tokenizer_url = load_tokenizer(os.path.join(ROOT_DIR, \"models\"), \"charbpe-url\")\n",
    "print(embeddings_url.shape)"
   ]
  },
  {
   "cell_type": "markdown",
   "metadata": {},
   "source": [
    "Now we extract the embeddings from the column `URL` in our dataset. Basically, this tokenizes each URL, which means it divides the URL into pieces, obtaining a list of strings (tokens). Then it takes the corresponding embedding for each token, obtaining a list of vectors.  \n",
    "\n",
    "> The reason this process was not done and saved the result into a file is because the file would have taken a lot of space (3 GB for each text feature)."
   ]
  },
  {
   "cell_type": "code",
   "execution_count": 18,
   "metadata": {},
   "outputs": [
    {
     "name": "stderr",
     "output_type": "stream",
     "text": [
      "100%|██████████| 1076925/1076925 [01:40<00:00, 10710.48it/s]\n"
     ]
    }
   ],
   "source": [
    "# --- running might take ~2 min and 3.3 GB of memory---\n",
    "url_embeddings = extract_embeddings(\n",
    "\tsequence = df[\"URL\"],\n",
    "\tembeddings = embeddings_url,\n",
    "\tidx2word = idx2word_url,\n",
    "\ttokenizer = tokenizer_url\n",
    ")"
   ]
  },
  {
   "cell_type": "markdown",
   "metadata": {},
   "source": [
    "Observe we now have a list of embeddings for each of the 1 million URLs. Actually it's not a list but a a 2D `torch.Tensor`. For example, the first URL has 19 embeddings, each of lenght 30."
   ]
  },
  {
   "cell_type": "code",
   "execution_count": 21,
   "metadata": {},
   "outputs": [
    {
     "data": {
      "text/plain": [
       "(1076925, torch.Size([19, 30]))"
      ]
     },
     "execution_count": 21,
     "metadata": {},
     "output_type": "execute_result"
    }
   ],
   "source": [
    "len(url_embeddings), url_embeddings[0].shape"
   ]
  },
  {
   "cell_type": "markdown",
   "metadata": {},
   "source": [
    "Also, note that each URL may have a different number of embeddings. That's because the original URLs had different lenght."
   ]
  },
  {
   "cell_type": "code",
   "execution_count": 25,
   "metadata": {},
   "outputs": [
    {
     "name": "stdout",
     "output_type": "stream",
     "text": [
      "torch.Size([19, 30])\n",
      "torch.Size([21, 30])\n",
      "torch.Size([74, 30])\n",
      "torch.Size([51, 30])\n",
      "torch.Size([21, 30])\n"
     ]
    }
   ],
   "source": [
    "for i in range(5):\n",
    "\tprint(url_embeddings[i].shape)"
   ]
  },
  {
   "cell_type": "markdown",
   "metadata": {},
   "source": [
    "This means that **our logs will not have a fixed number of features**. So we have to take that into account when designing the model: the input size will be different for each log.\n",
    "\n",
    "Now we extract embeddings for `referer` and `user-agent`:"
   ]
  },
  {
   "cell_type": "code",
   "execution_count": 28,
   "metadata": {},
   "outputs": [
    {
     "name": "stderr",
     "output_type": "stream",
     "text": [
      "100%|██████████| 1076925/1076925 [02:05<00:00, 8554.24it/s]\n"
     ]
    }
   ],
   "source": [
    "embeddings_referer = load_embeddings(os.path.join(ROOT_DIR, \"models/embeddings-referer.pt\"))\n",
    "idx2word_referer = load_idx2word(os.path.join(ROOT_DIR, \"models/idx2word-referer.json\"))\n",
    "tokenizer_referer = load_tokenizer(os.path.join(ROOT_DIR, \"models\"), \"charbpe-referer\")\n",
    "embeddings_referer.shape, embeddings_referer.mean(), embeddings_referer.std()\n",
    "\n",
    "# --- this will take additional 3.3 GB of memory---\n",
    "referers_embeddings = extract_embeddings(\n",
    "\tsequence = df[\"referer\"],\n",
    "\tembeddings = embeddings_referer,\n",
    "\tidx2word = idx2word_referer,\n",
    "\ttokenizer = tokenizer_referer\n",
    ")"
   ]
  },
  {
   "cell_type": "code",
   "execution_count": 29,
   "metadata": {},
   "outputs": [
    {
     "name": "stderr",
     "output_type": "stream",
     "text": [
      "100%|██████████| 1076925/1076925 [02:18<00:00, 7788.83it/s]\n"
     ]
    }
   ],
   "source": [
    "embeddings_useragent = load_embeddings(os.path.join(ROOT_DIR, \"models/embeddings-useragent.pt\"))\n",
    "idx2word_useragent = load_idx2word(os.path.join(ROOT_DIR, \"models/idx2word-useragent.json\"))\n",
    "tokenizer_useragent = load_tokenizer(os.path.join(ROOT_DIR, \"models\"), \"charbpe-useragent\")\n",
    "embeddings_useragent.shape, embeddings_useragent.mean(), embeddings_useragent.std()\n",
    "\n",
    "# --- this will take additional 3.3 GB of memory---\n",
    "useragents_embeddings = extract_embeddings(\n",
    "\tsequence = df[\"user-agent\"],\n",
    "\tembeddings = embeddings_useragent,\n",
    "\tidx2word = idx2word_useragent,\n",
    "\ttokenizer = tokenizer_useragent\n",
    ")"
   ]
  },
  {
   "cell_type": "markdown",
   "metadata": {},
   "source": [
    "Now here is how we obtain the final features for one log:"
   ]
  },
  {
   "cell_type": "code",
   "execution_count": 4,
   "metadata": {},
   "outputs": [],
   "source": [
    "# take the output column\n",
    "out = df[\"level\"]\n",
    "# drop the columns that are not needed\n",
    "df = df.drop(columns=[\"URL\", \"referer\", \"user-agent\", \"level\", \"group\"])"
   ]
  },
  {
   "cell_type": "markdown",
   "metadata": {},
   "source": [
    ">Note: `group` should not be passed to the model, but can be used to group logs into sequences and pass them to the model as a batch.  \n",
    "Logs of the same group have same number in `group`. Groups are determined by logs that share same IP and user-agent. In the given dataset they are already sorted by date, so indexing the group members you will obtain a group of logs that are sorted by time, and `elapsed` will tell the time elapsed since the previous log."
   ]
  },
  {
   "cell_type": "code",
   "execution_count": 5,
   "metadata": {},
   "outputs": [],
   "source": [
    "# ensure that the columns are in the correct order\n",
    "df = df.reindex(columns=['bytes', 'elapsed', 'IP_oct0', 'IP_oct1', 'IP_oct2', 'IP_oct3', 'month_sin',\n",
    "       'month_cos', 'day_sin', 'day_cos', 'weekday_sin', 'weekday_cos',\n",
    "       'hour_sin', 'hour_cos', 'minute_sin', 'minute_cos', 'petition_-',\n",
    "       'petition_GET', 'petition_HEAD', 'petition_POST', 'petition_other',\n",
    "       'status_1', 'status_2', 'status_3', 'status_4', 'status_5'])"
   ]
  },
  {
   "cell_type": "code",
   "execution_count": 83,
   "metadata": {},
   "outputs": [
    {
     "name": "stderr",
     "output_type": "stream",
     "text": [
      "  0%|          | 4/1076925 [00:00<06:26, 2785.06it/s]\n"
     ]
    },
    {
     "data": {
      "text/plain": [
       "(5, torch.Size([5]))"
      ]
     },
     "execution_count": 83,
     "metadata": {},
     "output_type": "execute_result"
    }
   ],
   "source": [
    "input_features = []\n",
    "stop = 5\n",
    "for i in tqdm(range(len(df))):\n",
    "\t# add the numerical features \n",
    "\tinput_features.append(np.array(df.iloc[i].values, dtype=np.float32))\n",
    "\tinput_features[i] = torch.tensor(input_features[i], dtype=torch.float32)\n",
    "\t# add the list of embeddings, flattened to a single vector\n",
    "\tinput_features[i] = torch.cat((input_features[i], url_embeddings[i].flatten(), referers_embeddings[i].flatten(), useragents_embeddings[i].flatten()))\n",
    "\tif i >= stop-1: break # remove this line to process all dataset\n",
    "\n",
    "output = torch.tensor(out.values, dtype=torch.float32)[:stop]\n",
    "len(input_features), output.shape"
   ]
  },
  {
   "cell_type": "code",
   "execution_count": 84,
   "metadata": {},
   "outputs": [
    {
     "name": "stdout",
     "output_type": "stream",
     "text": [
      "torch.Size([2935])\n",
      "torch.Size([2605])\n",
      "torch.Size([2725])\n",
      "torch.Size([2515])\n",
      "torch.Size([2725])\n"
     ]
    }
   ],
   "source": [
    "for i in range(len(input_features)):\n",
    "\tprint(input_features[i].shape)"
   ]
  },
  {
   "cell_type": "markdown",
   "metadata": {},
   "source": [
    "Observe how each input has a different lenght.\n",
    "\n",
    "If you want them to have a constant lenght, you can do:\n",
    "- padding\n",
    "- replace `.flatten()` with `.mean(dim=0)`. You will obtain 3 vectors of 30 dim. This will be equivalent to having one vector for an entire URL\n",
    "- replace `.flatten()` with `.mean()`. You will obtain 3 floats\n",
    "\n",
    "Now you have input features ready to pass to your model. And output labels in case you want to do supervised."
   ]
  },
  {
   "cell_type": "code",
   "execution_count": 86,
   "metadata": {},
   "outputs": [
    {
     "data": {
      "text/plain": [
       "(5, torch.Size([2935]), torch.Size([5]))"
      ]
     },
     "execution_count": 86,
     "metadata": {},
     "output_type": "execute_result"
    }
   ],
   "source": [
    "len(input_features), input_features[0].shape, output.shape"
   ]
  },
  {
   "cell_type": "markdown",
   "metadata": {},
   "source": [
    "## Note on rest of features"
   ]
  },
  {
   "cell_type": "code",
   "execution_count": 6,
   "metadata": {},
   "outputs": [
    {
     "data": {
      "text/plain": [
       "Index(['bytes', 'elapsed', 'IP_oct0', 'IP_oct1', 'IP_oct2', 'IP_oct3',\n",
       "       'month_sin', 'month_cos', 'day_sin', 'day_cos', 'weekday_sin',\n",
       "       'weekday_cos', 'hour_sin', 'hour_cos', 'minute_sin', 'minute_cos',\n",
       "       'petition_-', 'petition_GET', 'petition_HEAD', 'petition_POST',\n",
       "       'petition_other', 'status_1', 'status_2', 'status_3', 'status_4',\n",
       "       'status_5'],\n",
       "      dtype='object')"
      ]
     },
     "execution_count": 6,
     "metadata": {},
     "output_type": "execute_result"
    }
   ],
   "source": [
    "df.columns"
   ]
  },
  {
   "cell_type": "markdown",
   "metadata": {},
   "source": [
    "- `bytes`: Before they ranged from 0 up to millions (1 MB = 1 million B). We applied first **log**, so big numbers were no different from very big numbers, and then standardized. Now `bytes` has mean = 0 and std = 1.\n",
    "\n",
    "- `elapsed`: Time elapsed since last log from the same group. It was in seconds, then **log** was applied. It is not standardized. You should standardize it if you intend to pass it as a normal feature.\n",
    "\n",
    "- `IP`: Before they were like \"86.4.35.245\". We separated them into 4 integers and then standardized. So now we have 4 columns `IP_oc1`, `IP_oc2`, `IP_oc3`, `IP_oc4`, each with mean = 0 and std = 1. Like [-0.832332, -2.085490, -1.236864, 1.598875]\n",
    "\n",
    "- `date`: Before they were like 2024-01-22 12:56:40\". We separated into month, day, weekday, hour and minute, and then applied a sine and cosine transform to each, to encode the fact that time is cyclical (23:59 ≈ 00:00). For example: if minute 59 has `minute_sin = -0.10` and `minute_cos = 0.99`, hour 00 will be `minute_sin = 0.00` and `minute_cos = 1.00`.  \n",
    "Also, note that logs were all from the same month and from only 8 days, so `month_sin = 0.5` and `month_cos = 0.86` for all logs, and `day_sin` and `day_cos` do not exploit the full range of [-1, +1]."
   ]
  },
  {
   "cell_type": "code",
   "execution_count": 90,
   "metadata": {},
   "outputs": [
    {
     "data": {
      "image/png": "[encoded data removed]",
      "text/plain": [
       "<Figure size 600x400 with 5 Axes>"
      ]
     },
     "metadata": {},
     "output_type": "display_data"
    }
   ],
   "source": [
    "plt.figure(figsize=(3*2, 2*2))\n",
    "plt.subplot(2, 3, 1)\n",
    "plt.title(\"month\")\n",
    "plt.scatter(df[\"month_sin\"], df[\"month_cos\"], color=\"green\")\n",
    "plt.xlim(-1, 1)\n",
    "plt.ylim(-1, 1)\n",
    "plt.subplot(2, 3, 2)\n",
    "plt.title(\"day\")\n",
    "plt.scatter(df[\"day_sin\"], df[\"day_cos\"], color=\"yellow\")\n",
    "plt.xlim(-1, 1)\n",
    "plt.ylim(-1, 1)\n",
    "plt.subplot(2, 3, 3)\n",
    "plt.title(\"weekday\")\n",
    "plt.scatter(df[\"weekday_sin\"], df[\"weekday_cos\"], color=\"purple\")\n",
    "plt.subplot(2, 3, 4)\n",
    "plt.title(\"hour\")\n",
    "plt.scatter(df[\"hour_sin\"], df[\"hour_cos\"], color=\"blue\")\n",
    "plt.subplot(2, 3, 5)\n",
    "plt.title(\"minute\")\n",
    "plt.scatter(df[\"minute_sin\"], df[\"minute_cos\"], color=\"red\")\n",
    "plt.tight_layout()\n",
    "\n",
    "plt.show()"
   ]
  },
  {
   "cell_type": "markdown",
   "metadata": {},
   "source": [
    "- `petition`: Before they were strings like \"GET\". We applied one-hot encoding and now we have `petition_GET`, `petition_HEAD`, `petition_POST`, which are the 3 most common, and `petition_other` for the rest. Each log will have a 1 on only one of this columns, 0 for the rest.\n",
    "\n",
    "- `status`: Before they were integers like 404, 200... We took only the first digit (we considered the other two were not that relevant and were noise that could potentially damage the model), and made one-hot encoding. Now we have `status_1`, `status_2`, `status_3`, `status_4`, `status_5`. Each log will have a 1 on only one of this columns, 0 for the rest."
   ]
  }
 ],
 "metadata": {
  "kernelspec": {
   "display_name": "base",
   "language": "python",
   "name": "python3"
  },
  "language_info": {
   "codemirror_mode": {
    "name": "ipython",
    "version": 3
   },
   "file_extension": ".py",
   "mimetype": "text/x-python",
   "name": "python",
   "nbconvert_exporter": "python",
   "pygments_lexer": "ipython3",
   "version": "3.11.5"
  }
 },
 "nbformat": 4,
 "nbformat_minor": 2
}
