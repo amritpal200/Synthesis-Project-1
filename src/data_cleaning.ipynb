{
 "cells": [
  {
   "cell_type": "code",
   "execution_count": 1,
   "metadata": {},
   "outputs": [
    {
     "data": {
      "text/html": [
       "<div>\n",
       "<style scoped>\n",
       "    .dataframe tbody tr th:only-of-type {\n",
       "        vertical-align: middle;\n",
       "    }\n",
       "\n",
       "    .dataframe tbody tr th {\n",
       "        vertical-align: top;\n",
       "    }\n",
       "\n",
       "    .dataframe thead th {\n",
       "        text-align: right;\n",
       "    }\n",
       "</style>\n",
       "<table border=\"1\" class=\"dataframe\">\n",
       "  <thead>\n",
       "    <tr style=\"text-align: right;\">\n",
       "      <th></th>\n",
       "      <th>Unnamed: 0</th>\n",
       "      <th>server_name</th>\n",
       "      <th>IP</th>\n",
       "      <th>logname</th>\n",
       "      <th>authenticate</th>\n",
       "      <th>date</th>\n",
       "      <th>petition</th>\n",
       "      <th>URL</th>\n",
       "      <th>status</th>\n",
       "      <th>bytes</th>\n",
       "      <th>referer</th>\n",
       "      <th>user-agent</th>\n",
       "      <th>level</th>\n",
       "    </tr>\n",
       "  </thead>\n",
       "  <tbody>\n",
       "    <tr>\n",
       "      <th>0</th>\n",
       "      <td>0</td>\n",
       "      <td>sitgesanytime.com</td>\n",
       "      <td>47.76.35.19</td>\n",
       "      <td>-</td>\n",
       "      <td>-</td>\n",
       "      <td>2024-01-22 00:00:00+01:00</td>\n",
       "      <td>HEAD</td>\n",
       "      <td>/fr/pag492/explora-platges-i-ports-2/id12/les-...</td>\n",
       "      <td>301</td>\n",
       "      <td>4840</td>\n",
       "      <td>-</td>\n",
       "      <td>Mozilla/5.0 (Windows NT 10.0; Win64; x64) Appl...</td>\n",
       "      <td>0</td>\n",
       "    </tr>\n",
       "    <tr>\n",
       "      <th>1</th>\n",
       "      <td>1</td>\n",
       "      <td>www.sitgesanytime.com</td>\n",
       "      <td>47.76.35.19</td>\n",
       "      <td>-</td>\n",
       "      <td>-</td>\n",
       "      <td>2024-01-22 00:00:01+01:00</td>\n",
       "      <td>HEAD</td>\n",
       "      <td>/fr/pag492/explora-platges-i-ports-2/id12/les-...</td>\n",
       "      <td>200</td>\n",
       "      <td>5223</td>\n",
       "      <td>-</td>\n",
       "      <td>Mozilla/5.0 (Windows NT 10.0; Win64; x64) Appl...</td>\n",
       "      <td>0</td>\n",
       "    </tr>\n",
       "    <tr>\n",
       "      <th>2</th>\n",
       "      <td>2</td>\n",
       "      <td>www.sitgesanytime.com</td>\n",
       "      <td>40.77.167.53</td>\n",
       "      <td>-</td>\n",
       "      <td>-</td>\n",
       "      <td>2024-01-22 00:00:06+01:00</td>\n",
       "      <td>GET</td>\n",
       "      <td>/ca/noticias/84/sitges-obt%C3%A9-el-certificat...</td>\n",
       "      <td>404</td>\n",
       "      <td>2509</td>\n",
       "      <td>-</td>\n",
       "      <td>Mozilla/5.0 AppleWebKit/537.36 (KHTML, like Ge...</td>\n",
       "      <td>5</td>\n",
       "    </tr>\n",
       "    <tr>\n",
       "      <th>3</th>\n",
       "      <td>3</td>\n",
       "      <td>sitgesanytime.com</td>\n",
       "      <td>47.76.35.19</td>\n",
       "      <td>-</td>\n",
       "      <td>-</td>\n",
       "      <td>2024-01-22 00:00:06+01:00</td>\n",
       "      <td>HEAD</td>\n",
       "      <td>/fr/pag492/explora-platges-i-ports-2/id12/les-...</td>\n",
       "      <td>301</td>\n",
       "      <td>4840</td>\n",
       "      <td>-</td>\n",
       "      <td>Mozilla/5.0 (Windows NT 6.1; Win64; x64) Apple...</td>\n",
       "      <td>0</td>\n",
       "    </tr>\n",
       "    <tr>\n",
       "      <th>4</th>\n",
       "      <td>4</td>\n",
       "      <td>www.sitgesanytime.com</td>\n",
       "      <td>47.76.35.19</td>\n",
       "      <td>-</td>\n",
       "      <td>-</td>\n",
       "      <td>2024-01-22 00:00:07+01:00</td>\n",
       "      <td>HEAD</td>\n",
       "      <td>/fr/pag492/explora-platges-i-ports-2/id12/les-...</td>\n",
       "      <td>200</td>\n",
       "      <td>5260</td>\n",
       "      <td>-</td>\n",
       "      <td>Mozilla/5.0 (Windows NT 6.1; Win64; x64) Apple...</td>\n",
       "      <td>0</td>\n",
       "    </tr>\n",
       "  </tbody>\n",
       "</table>\n",
       "</div>"
      ],
      "text/plain": [
       "   Unnamed: 0            server_name            IP logname authenticate  \\\n",
       "0           0      sitgesanytime.com   47.76.35.19       -            -   \n",
       "1           1  www.sitgesanytime.com   47.76.35.19       -            -   \n",
       "2           2  www.sitgesanytime.com  40.77.167.53       -            -   \n",
       "3           3      sitgesanytime.com   47.76.35.19       -            -   \n",
       "4           4  www.sitgesanytime.com   47.76.35.19       -            -   \n",
       "\n",
       "                        date petition  \\\n",
       "0  2024-01-22 00:00:00+01:00     HEAD   \n",
       "1  2024-01-22 00:00:01+01:00     HEAD   \n",
       "2  2024-01-22 00:00:06+01:00      GET   \n",
       "3  2024-01-22 00:00:06+01:00     HEAD   \n",
       "4  2024-01-22 00:00:07+01:00     HEAD   \n",
       "\n",
       "                                                 URL  status  bytes referer  \\\n",
       "0  /fr/pag492/explora-platges-i-ports-2/id12/les-...     301   4840       -   \n",
       "1  /fr/pag492/explora-platges-i-ports-2/id12/les-...     200   5223       -   \n",
       "2  /ca/noticias/84/sitges-obt%C3%A9-el-certificat...     404   2509       -   \n",
       "3  /fr/pag492/explora-platges-i-ports-2/id12/les-...     301   4840       -   \n",
       "4  /fr/pag492/explora-platges-i-ports-2/id12/les-...     200   5260       -   \n",
       "\n",
       "                                          user-agent  level  \n",
       "0  Mozilla/5.0 (Windows NT 10.0; Win64; x64) Appl...      0  \n",
       "1  Mozilla/5.0 (Windows NT 10.0; Win64; x64) Appl...      0  \n",
       "2  Mozilla/5.0 AppleWebKit/537.36 (KHTML, like Ge...      5  \n",
       "3  Mozilla/5.0 (Windows NT 6.1; Win64; x64) Apple...      0  \n",
       "4  Mozilla/5.0 (Windows NT 6.1; Win64; x64) Apple...      0  "
      ]
     },
     "execution_count": 1,
     "metadata": {},
     "output_type": "execute_result"
    }
   ],
   "source": [
    "import pandas as pd\n",
    "import os\n",
    "import matplotlib.pyplot as plt\n",
    "import seaborn as sns\n",
    "import numpy as np\n",
    "\n",
    "ROOT_DIR = os.path.dirname(os.path.abspath(\"\"))\n",
    "\n",
    "file = os.path.join(ROOT_DIR, \"data/sitges_access.csv\")\n",
    "df = pd.read_csv(file)\n",
    "df.head()"
   ]
  },
  {
   "cell_type": "code",
   "execution_count": 2,
   "metadata": {},
   "outputs": [],
   "source": [
    "df_clean = df.copy()"
   ]
  },
  {
   "cell_type": "markdown",
   "metadata": {},
   "source": [
    "### Drop useless columns"
   ]
  },
  {
   "cell_type": "code",
   "execution_count": 3,
   "metadata": {},
   "outputs": [
    {
     "data": {
      "text/plain": [
       "Index(['server_name', 'IP', 'date', 'petition', 'URL', 'status', 'bytes',\n",
       "       'referer', 'user-agent', 'level'],\n",
       "      dtype='object')"
      ]
     },
     "execution_count": 3,
     "metadata": {},
     "output_type": "execute_result"
    }
   ],
   "source": [
    "# remove columns\n",
    "df_clean = df_clean.drop(columns=[\"logname\", \"authenticate\", \"Unnamed: 0\"])\n",
    "df_clean.columns"
   ]
  },
  {
   "cell_type": "markdown",
   "metadata": {},
   "source": [
    "### Server name"
   ]
  },
  {
   "cell_type": "code",
   "execution_count": null,
   "metadata": {},
   "outputs": [],
   "source": []
  },
  {
   "cell_type": "markdown",
   "metadata": {},
   "source": [
    "### IP"
   ]
  },
  {
   "cell_type": "code",
   "execution_count": null,
   "metadata": {},
   "outputs": [],
   "source": []
  },
  {
   "cell_type": "markdown",
   "metadata": {},
   "source": [
    "### Date"
   ]
  },
  {
   "cell_type": "code",
   "execution_count": 3,
   "metadata": {},
   "outputs": [
    {
     "data": {
      "text/plain": [
       "0    2024-01-22 00:00:00\n",
       "1    2024-01-22 00:00:01\n",
       "2    2024-01-22 00:00:06\n",
       "3    2024-01-22 00:00:06\n",
       "4    2024-01-22 00:00:07\n",
       "Name: date, dtype: object"
      ]
     },
     "execution_count": 3,
     "metadata": {},
     "output_type": "execute_result"
    }
   ],
   "source": [
    "df_clean[\"date\"] = df[\"date\"].str.split(\"+\").str[0]\n",
    "df_clean[\"date\"].head()"
   ]
  },
  {
   "cell_type": "markdown",
   "metadata": {},
   "source": [
    "### Petition"
   ]
  },
  {
   "cell_type": "code",
   "execution_count": 5,
   "metadata": {},
   "outputs": [
    {
     "data": {
      "text/plain": [
       "petition\n",
       "GET        1024862\n",
       "POST         27258\n",
       "HEAD         24800\n",
       "-              436\n",
       "CONNECT         29\n",
       "OPTIONS          7\n",
       "USER             1\n",
       "Name: count, dtype: int64"
      ]
     },
     "execution_count": 5,
     "metadata": {},
     "output_type": "execute_result"
    }
   ],
   "source": [
    "df_clean[\"petition\"].value_counts()"
   ]
  },
  {
   "cell_type": "code",
   "execution_count": 8,
   "metadata": {},
   "outputs": [
    {
     "name": "stdout",
     "output_type": "stream",
     "text": [
      "petition_other\n",
      "False    1077356\n",
      "True          37\n",
      "Name: count, dtype: int64\n"
     ]
    },
    {
     "data": {
      "text/html": [
       "<div>\n",
       "<style scoped>\n",
       "    .dataframe tbody tr th:only-of-type {\n",
       "        vertical-align: middle;\n",
       "    }\n",
       "\n",
       "    .dataframe tbody tr th {\n",
       "        vertical-align: top;\n",
       "    }\n",
       "\n",
       "    .dataframe thead th {\n",
       "        text-align: right;\n",
       "    }\n",
       "</style>\n",
       "<table border=\"1\" class=\"dataframe\">\n",
       "  <thead>\n",
       "    <tr style=\"text-align: right;\">\n",
       "      <th></th>\n",
       "      <th>server_name</th>\n",
       "      <th>IP</th>\n",
       "      <th>date</th>\n",
       "      <th>URL</th>\n",
       "      <th>status</th>\n",
       "      <th>bytes</th>\n",
       "      <th>referer</th>\n",
       "      <th>user-agent</th>\n",
       "      <th>level</th>\n",
       "      <th>petition_-</th>\n",
       "      <th>petition_GET</th>\n",
       "      <th>petition_HEAD</th>\n",
       "      <th>petition_POST</th>\n",
       "      <th>petition_other</th>\n",
       "    </tr>\n",
       "  </thead>\n",
       "  <tbody>\n",
       "    <tr>\n",
       "      <th>0</th>\n",
       "      <td>sitgesanytime.com</td>\n",
       "      <td>47.76.35.19</td>\n",
       "      <td>2024-01-22 00:00:00</td>\n",
       "      <td>/fr/pag492/explora-platges-i-ports-2/id12/les-...</td>\n",
       "      <td>301</td>\n",
       "      <td>4840</td>\n",
       "      <td>-</td>\n",
       "      <td>Mozilla/5.0 (Windows NT 10.0; Win64; x64) Appl...</td>\n",
       "      <td>0</td>\n",
       "      <td>False</td>\n",
       "      <td>False</td>\n",
       "      <td>True</td>\n",
       "      <td>False</td>\n",
       "      <td>False</td>\n",
       "    </tr>\n",
       "    <tr>\n",
       "      <th>1</th>\n",
       "      <td>www.sitgesanytime.com</td>\n",
       "      <td>47.76.35.19</td>\n",
       "      <td>2024-01-22 00:00:01</td>\n",
       "      <td>/fr/pag492/explora-platges-i-ports-2/id12/les-...</td>\n",
       "      <td>200</td>\n",
       "      <td>5223</td>\n",
       "      <td>-</td>\n",
       "      <td>Mozilla/5.0 (Windows NT 10.0; Win64; x64) Appl...</td>\n",
       "      <td>0</td>\n",
       "      <td>False</td>\n",
       "      <td>False</td>\n",
       "      <td>True</td>\n",
       "      <td>False</td>\n",
       "      <td>False</td>\n",
       "    </tr>\n",
       "    <tr>\n",
       "      <th>2</th>\n",
       "      <td>www.sitgesanytime.com</td>\n",
       "      <td>40.77.167.53</td>\n",
       "      <td>2024-01-22 00:00:06</td>\n",
       "      <td>/ca/noticias/84/sitges-obt%C3%A9-el-certificat...</td>\n",
       "      <td>404</td>\n",
       "      <td>2509</td>\n",
       "      <td>-</td>\n",
       "      <td>Mozilla/5.0 AppleWebKit/537.36 (KHTML, like Ge...</td>\n",
       "      <td>5</td>\n",
       "      <td>False</td>\n",
       "      <td>True</td>\n",
       "      <td>False</td>\n",
       "      <td>False</td>\n",
       "      <td>False</td>\n",
       "    </tr>\n",
       "    <tr>\n",
       "      <th>3</th>\n",
       "      <td>sitgesanytime.com</td>\n",
       "      <td>47.76.35.19</td>\n",
       "      <td>2024-01-22 00:00:06</td>\n",
       "      <td>/fr/pag492/explora-platges-i-ports-2/id12/les-...</td>\n",
       "      <td>301</td>\n",
       "      <td>4840</td>\n",
       "      <td>-</td>\n",
       "      <td>Mozilla/5.0 (Windows NT 6.1; Win64; x64) Apple...</td>\n",
       "      <td>0</td>\n",
       "      <td>False</td>\n",
       "      <td>False</td>\n",
       "      <td>True</td>\n",
       "      <td>False</td>\n",
       "      <td>False</td>\n",
       "    </tr>\n",
       "    <tr>\n",
       "      <th>4</th>\n",
       "      <td>www.sitgesanytime.com</td>\n",
       "      <td>47.76.35.19</td>\n",
       "      <td>2024-01-22 00:00:07</td>\n",
       "      <td>/fr/pag492/explora-platges-i-ports-2/id12/les-...</td>\n",
       "      <td>200</td>\n",
       "      <td>5260</td>\n",
       "      <td>-</td>\n",
       "      <td>Mozilla/5.0 (Windows NT 6.1; Win64; x64) Apple...</td>\n",
       "      <td>0</td>\n",
       "      <td>False</td>\n",
       "      <td>False</td>\n",
       "      <td>True</td>\n",
       "      <td>False</td>\n",
       "      <td>False</td>\n",
       "    </tr>\n",
       "  </tbody>\n",
       "</table>\n",
       "</div>"
      ],
      "text/plain": [
       "             server_name            IP                 date  \\\n",
       "0      sitgesanytime.com   47.76.35.19  2024-01-22 00:00:00   \n",
       "1  www.sitgesanytime.com   47.76.35.19  2024-01-22 00:00:01   \n",
       "2  www.sitgesanytime.com  40.77.167.53  2024-01-22 00:00:06   \n",
       "3      sitgesanytime.com   47.76.35.19  2024-01-22 00:00:06   \n",
       "4  www.sitgesanytime.com   47.76.35.19  2024-01-22 00:00:07   \n",
       "\n",
       "                                                 URL  status  bytes referer  \\\n",
       "0  /fr/pag492/explora-platges-i-ports-2/id12/les-...     301   4840       -   \n",
       "1  /fr/pag492/explora-platges-i-ports-2/id12/les-...     200   5223       -   \n",
       "2  /ca/noticias/84/sitges-obt%C3%A9-el-certificat...     404   2509       -   \n",
       "3  /fr/pag492/explora-platges-i-ports-2/id12/les-...     301   4840       -   \n",
       "4  /fr/pag492/explora-platges-i-ports-2/id12/les-...     200   5260       -   \n",
       "\n",
       "                                          user-agent  level  petition_-  \\\n",
       "0  Mozilla/5.0 (Windows NT 10.0; Win64; x64) Appl...      0       False   \n",
       "1  Mozilla/5.0 (Windows NT 10.0; Win64; x64) Appl...      0       False   \n",
       "2  Mozilla/5.0 AppleWebKit/537.36 (KHTML, like Ge...      5       False   \n",
       "3  Mozilla/5.0 (Windows NT 6.1; Win64; x64) Apple...      0       False   \n",
       "4  Mozilla/5.0 (Windows NT 6.1; Win64; x64) Apple...      0       False   \n",
       "\n",
       "   petition_GET  petition_HEAD  petition_POST  petition_other  \n",
       "0         False           True          False           False  \n",
       "1         False           True          False           False  \n",
       "2          True          False          False           False  \n",
       "3         False           True          False           False  \n",
       "4         False           True          False           False  "
      ]
     },
     "execution_count": 8,
     "metadata": {},
     "output_type": "execute_result"
    }
   ],
   "source": [
    "df_clean = pd.get_dummies(df_clean, columns=[\"petition\"])\n",
    "columns_to_combine = [\"petition_CONNECT\", \"petition_OPTIONS\", \"petition_USER\"]\n",
    "df_clean[\"petition_other\"] = df_clean[columns_to_combine].max(axis=1) # combine using OR\n",
    "df_clean = df_clean.drop(columns=columns_to_combine)\n",
    "print(df_clean[\"petition_other\"].value_counts())\n",
    "df_clean.head()"
   ]
  },
  {
   "cell_type": "markdown",
   "metadata": {},
   "source": [
    "### URL"
   ]
  },
  {
   "cell_type": "code",
   "execution_count": null,
   "metadata": {},
   "outputs": [],
   "source": []
  },
  {
   "cell_type": "markdown",
   "metadata": {},
   "source": [
    "### Status"
   ]
  },
  {
   "cell_type": "code",
   "execution_count": null,
   "metadata": {},
   "outputs": [],
   "source": []
  },
  {
   "cell_type": "markdown",
   "metadata": {},
   "source": [
    "### Bytes"
   ]
  },
  {
   "cell_type": "code",
   "execution_count": null,
   "metadata": {},
   "outputs": [],
   "source": []
  },
  {
   "cell_type": "markdown",
   "metadata": {},
   "source": [
    "### Referer"
   ]
  },
  {
   "cell_type": "code",
   "execution_count": null,
   "metadata": {},
   "outputs": [],
   "source": []
  },
  {
   "cell_type": "markdown",
   "metadata": {},
   "source": [
    "### User agent"
   ]
  },
  {
   "cell_type": "code",
   "execution_count": null,
   "metadata": {},
   "outputs": [],
   "source": []
  }
 ],
 "metadata": {
  "kernelspec": {
   "display_name": "base",
   "language": "python",
   "name": "python3"
  },
  "language_info": {
   "codemirror_mode": {
    "name": "ipython",
    "version": 3
   },
   "file_extension": ".py",
   "mimetype": "text/x-python",
   "name": "python",
   "nbconvert_exporter": "python",
   "pygments_lexer": "ipython3",
   "version": "3.11.5"
  }
 },
 "nbformat": 4,
 "nbformat_minor": 2
}
