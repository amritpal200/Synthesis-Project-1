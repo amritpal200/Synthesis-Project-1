{
 "cells": [
  {
   "cell_type": "markdown",
   "metadata": {},
   "source": [
    "# Encoding URLs"
   ]
  },
  {
   "cell_type": "code",
   "execution_count": 1,
   "metadata": {},
   "outputs": [
    {
     "data": {
      "text/html": [
       "<div>\n",
       "<style scoped>\n",
       "    .dataframe tbody tr th:only-of-type {\n",
       "        vertical-align: middle;\n",
       "    }\n",
       "\n",
       "    .dataframe tbody tr th {\n",
       "        vertical-align: top;\n",
       "    }\n",
       "\n",
       "    .dataframe thead th {\n",
       "        text-align: right;\n",
       "    }\n",
       "</style>\n",
       "<table border=\"1\" class=\"dataframe\">\n",
       "  <thead>\n",
       "    <tr style=\"text-align: right;\">\n",
       "      <th></th>\n",
       "      <th>Unnamed: 0</th>\n",
       "      <th>server_name</th>\n",
       "      <th>IP</th>\n",
       "      <th>logname</th>\n",
       "      <th>authenticate</th>\n",
       "      <th>date</th>\n",
       "      <th>petition</th>\n",
       "      <th>URL</th>\n",
       "      <th>status</th>\n",
       "      <th>bytes</th>\n",
       "      <th>referer</th>\n",
       "      <th>user-agent</th>\n",
       "      <th>level</th>\n",
       "    </tr>\n",
       "  </thead>\n",
       "  <tbody>\n",
       "    <tr>\n",
       "      <th>0</th>\n",
       "      <td>0</td>\n",
       "      <td>sitgesanytime.com</td>\n",
       "      <td>47.76.35.19</td>\n",
       "      <td>-</td>\n",
       "      <td>-</td>\n",
       "      <td>2024-01-22 00:00:00+01:00</td>\n",
       "      <td>HEAD</td>\n",
       "      <td>/fr/pag492/explora-platges-i-ports-2/id12/les-...</td>\n",
       "      <td>301</td>\n",
       "      <td>4840</td>\n",
       "      <td>-</td>\n",
       "      <td>Mozilla/5.0 (Windows NT 10.0; Win64; x64) Appl...</td>\n",
       "      <td>0</td>\n",
       "    </tr>\n",
       "    <tr>\n",
       "      <th>1</th>\n",
       "      <td>1</td>\n",
       "      <td>www.sitgesanytime.com</td>\n",
       "      <td>47.76.35.19</td>\n",
       "      <td>-</td>\n",
       "      <td>-</td>\n",
       "      <td>2024-01-22 00:00:01+01:00</td>\n",
       "      <td>HEAD</td>\n",
       "      <td>/fr/pag492/explora-platges-i-ports-2/id12/les-...</td>\n",
       "      <td>200</td>\n",
       "      <td>5223</td>\n",
       "      <td>-</td>\n",
       "      <td>Mozilla/5.0 (Windows NT 10.0; Win64; x64) Appl...</td>\n",
       "      <td>0</td>\n",
       "    </tr>\n",
       "    <tr>\n",
       "      <th>2</th>\n",
       "      <td>2</td>\n",
       "      <td>www.sitgesanytime.com</td>\n",
       "      <td>40.77.167.53</td>\n",
       "      <td>-</td>\n",
       "      <td>-</td>\n",
       "      <td>2024-01-22 00:00:06+01:00</td>\n",
       "      <td>GET</td>\n",
       "      <td>/ca/noticias/84/sitges-obt%C3%A9-el-certificat...</td>\n",
       "      <td>404</td>\n",
       "      <td>2509</td>\n",
       "      <td>-</td>\n",
       "      <td>Mozilla/5.0 AppleWebKit/537.36 (KHTML, like Ge...</td>\n",
       "      <td>5</td>\n",
       "    </tr>\n",
       "    <tr>\n",
       "      <th>3</th>\n",
       "      <td>3</td>\n",
       "      <td>sitgesanytime.com</td>\n",
       "      <td>47.76.35.19</td>\n",
       "      <td>-</td>\n",
       "      <td>-</td>\n",
       "      <td>2024-01-22 00:00:06+01:00</td>\n",
       "      <td>HEAD</td>\n",
       "      <td>/fr/pag492/explora-platges-i-ports-2/id12/les-...</td>\n",
       "      <td>301</td>\n",
       "      <td>4840</td>\n",
       "      <td>-</td>\n",
       "      <td>Mozilla/5.0 (Windows NT 6.1; Win64; x64) Apple...</td>\n",
       "      <td>0</td>\n",
       "    </tr>\n",
       "    <tr>\n",
       "      <th>4</th>\n",
       "      <td>4</td>\n",
       "      <td>www.sitgesanytime.com</td>\n",
       "      <td>47.76.35.19</td>\n",
       "      <td>-</td>\n",
       "      <td>-</td>\n",
       "      <td>2024-01-22 00:00:07+01:00</td>\n",
       "      <td>HEAD</td>\n",
       "      <td>/fr/pag492/explora-platges-i-ports-2/id12/les-...</td>\n",
       "      <td>200</td>\n",
       "      <td>5260</td>\n",
       "      <td>-</td>\n",
       "      <td>Mozilla/5.0 (Windows NT 6.1; Win64; x64) Apple...</td>\n",
       "      <td>0</td>\n",
       "    </tr>\n",
       "  </tbody>\n",
       "</table>\n",
       "</div>"
      ],
      "text/plain": [
       "   Unnamed: 0            server_name            IP logname authenticate  \\\n",
       "0           0      sitgesanytime.com   47.76.35.19       -            -   \n",
       "1           1  www.sitgesanytime.com   47.76.35.19       -            -   \n",
       "2           2  www.sitgesanytime.com  40.77.167.53       -            -   \n",
       "3           3      sitgesanytime.com   47.76.35.19       -            -   \n",
       "4           4  www.sitgesanytime.com   47.76.35.19       -            -   \n",
       "\n",
       "                        date petition  \\\n",
       "0  2024-01-22 00:00:00+01:00     HEAD   \n",
       "1  2024-01-22 00:00:01+01:00     HEAD   \n",
       "2  2024-01-22 00:00:06+01:00      GET   \n",
       "3  2024-01-22 00:00:06+01:00     HEAD   \n",
       "4  2024-01-22 00:00:07+01:00     HEAD   \n",
       "\n",
       "                                                 URL  status  bytes referer  \\\n",
       "0  /fr/pag492/explora-platges-i-ports-2/id12/les-...     301   4840       -   \n",
       "1  /fr/pag492/explora-platges-i-ports-2/id12/les-...     200   5223       -   \n",
       "2  /ca/noticias/84/sitges-obt%C3%A9-el-certificat...     404   2509       -   \n",
       "3  /fr/pag492/explora-platges-i-ports-2/id12/les-...     301   4840       -   \n",
       "4  /fr/pag492/explora-platges-i-ports-2/id12/les-...     200   5260       -   \n",
       "\n",
       "                                          user-agent  level  \n",
       "0  Mozilla/5.0 (Windows NT 10.0; Win64; x64) Appl...      0  \n",
       "1  Mozilla/5.0 (Windows NT 10.0; Win64; x64) Appl...      0  \n",
       "2  Mozilla/5.0 AppleWebKit/537.36 (KHTML, like Ge...      5  \n",
       "3  Mozilla/5.0 (Windows NT 6.1; Win64; x64) Apple...      0  \n",
       "4  Mozilla/5.0 (Windows NT 6.1; Win64; x64) Apple...      0  "
      ]
     },
     "execution_count": 1,
     "metadata": {},
     "output_type": "execute_result"
    }
   ],
   "source": [
    "import pandas as pd\n",
    "import os\n",
    "import matplotlib.pyplot as plt\n",
    "import seaborn as sns\n",
    "import numpy as np\n",
    "\n",
    "ROOT_DIR = os.path.dirname(os.path.abspath(\"\"))\n",
    "\n",
    "file = os.path.join(ROOT_DIR, \"data/sitges_access.csv\")\n",
    "df = pd.read_csv(file)\n",
    "df.head()"
   ]
  },
  {
   "cell_type": "code",
   "execution_count": 2,
   "metadata": {},
   "outputs": [
    {
     "data": {
      "text/plain": [
       "{'HTTP/1.1': 69449, 'HTTP/2.0': 25303, 'HTTP/1.0': 158}"
      ]
     },
     "execution_count": 2,
     "metadata": {},
     "output_type": "execute_result"
    }
   ],
   "source": [
    "counts = pd.Series([str(u).split(\" \")[-1] for u in df[\"URL\"].unique()]).value_counts()\n",
    "{url: count for url, count in counts.items() if count > 1}"
   ]
  },
  {
   "cell_type": "code",
   "execution_count": 3,
   "metadata": {},
   "outputs": [
    {
     "data": {
      "text/plain": [
       "432"
      ]
     },
     "execution_count": 3,
     "metadata": {},
     "output_type": "execute_result"
    }
   ],
   "source": [
    "len(df[~df[\"URL\"].str.contains(\"HTTP\").astype(bool)])"
   ]
  },
  {
   "cell_type": "code",
   "execution_count": 4,
   "metadata": {},
   "outputs": [
    {
     "data": {
      "text/plain": [
       "{'HTTP/2.0': '0.82%', 'HTTP/1.1': '0.18%', 'HTTP/1.0': '0.00%'}"
      ]
     },
     "execution_count": 4,
     "metadata": {},
     "output_type": "execute_result"
    }
   ],
   "source": [
    "clean_url = df[df[\"URL\"].str.contains(\"HTTP\").astype(bool)][\"URL\"].dropna()\n",
    "counts = pd.Series([str(u).split(\" \")[-1] for u in clean_url]).value_counts()\n",
    "{url: f\"{count/len(df):.2f}%\" for url, count in counts.items()}"
   ]
  },
  {
   "cell_type": "markdown",
   "metadata": {},
   "source": [
    "## Tokenization"
   ]
  },
  {
   "cell_type": "code",
   "execution_count": 55,
   "metadata": {},
   "outputs": [
    {
     "name": "stdout",
     "output_type": "stream",
     "text": [
      "{'A', 'I', 'r', 'Q', 'F', '@', 'W', ')', '1', 'M', 'h', '+', '=', 'V', ':', '}', '>', 'K', 'G', 'y', 'R', 'v', 'q', ']', '\\\\', 'w', 'i', 'f', '$', 's', 'X', 'H', 'N', 'C', ';', 'o', 'm', 'p', '/', ' ', '9', 'Y', '&', 'x', 't', '(', 'a', '4', '5', 'E', '2', '_', 'S', '*', 'c', \"'\", 'J', '.', '-', 'P', 'D', 'g', 'O', '?', 'e', '7', 'n', '!', '0', 'd', 'j', 'T', '8', 'z', 'U', 'b', 'Z', '3', 'k', 'u', 'B', '[', 'L', '6', ',', '%', '{', 'l'}\n"
     ]
    },
    {
     "data": {
      "text/plain": [
       "['/fr/pag492/explora-platges-i-ports-2/id12/les-anquines.htm HTTP/1.1',\n",
       " '/fr/pag492/explora-platges-i-ports-2/id12/les-anquines.htm HTTP/1.1',\n",
       " '/ca/noticias/84/sitges-obt%C3%A9-el-certificat-de-turisme-responsable-biosphere.html HTTP/2.0',\n",
       " '/fr/pag492/explora-platges-i-ports-2/id12/les-anquines.htm HTTP/1.1',\n",
       " '/fr/pag492/explora-platges-i-ports-2/id12/les-anquines.htm HTTP/1.1']"
      ]
     },
     "execution_count": 55,
     "metadata": {},
     "output_type": "execute_result"
    }
   ],
   "source": [
    "corpus = clean_url.to_list()\n",
    "vocab_init = set(\" \".join(corpus))\n",
    "print(vocab_init)\n",
    "corpus[:5]"
   ]
  },
  {
   "cell_type": "markdown",
   "metadata": {},
   "source": [
    "### Byte Pair Encoding (BPE)"
   ]
  },
  {
   "cell_type": "code",
   "execution_count": 89,
   "metadata": {},
   "outputs": [
    {
     "name": "stdout",
     "output_type": "stream",
     "text": [
      "\n",
      "\n",
      "\n"
     ]
    }
   ],
   "source": [
    "from tokenizers import ByteLevelBPETokenizer # https://github.com/huggingface/tokenizers/blob/main/bindings/python/py_src/tokenizers/implementations/byte_level_bpe.py\n",
    "tokenizer = ByteLevelBPETokenizer()\n",
    "\n",
    "special_tokens = [\"<s>\", \"<pad>\", \"</s>\", \"<unk>\", \"<mask>\"]\n",
    "tokenizer.train_from_iterator(corpus, vocab_size=1000, min_frequency=2, special_tokens=special_tokens)"
   ]
  },
  {
   "cell_type": "code",
   "execution_count": 84,
   "metadata": {},
   "outputs": [
    {
     "data": {
      "text/plain": [
       "['/media/eric/D/repos/Synthesis-Project-1/models/bpe-vocab.json',\n",
       " '/media/eric/D/repos/Synthesis-Project-1/models/bpe-merges.txt']"
      ]
     },
     "execution_count": 84,
     "metadata": {},
     "output_type": "execute_result"
    }
   ],
   "source": [
    "tokenizer.save_model(os.path.join(ROOT_DIR, \"models/\"), prefix=\"bpe\")"
   ]
  },
  {
   "cell_type": "code",
   "execution_count": 90,
   "metadata": {},
   "outputs": [],
   "source": [
    "tokenizer = ByteLevelBPETokenizer(\n",
    "    vocab = os.path.join(ROOT_DIR, \"models/\", \"bpe-vocab.json\"),\n",
    "    merges = os.path.join(ROOT_DIR, \"models/\", \"bpe-merges.txt\")\n",
    ")"
   ]
  },
  {
   "cell_type": "code",
   "execution_count": 91,
   "metadata": {},
   "outputs": [
    {
     "data": {
      "text/plain": [
       "['oncssanimationend',\n",
       " 'pictogramestaules',\n",
       " 'responsivemenu',\n",
       " 'cookiemanager',\n",
       " 'internacional']"
      ]
     },
     "execution_count": 91,
     "metadata": {},
     "output_type": "execute_result"
    }
   ],
   "source": [
    "# print 5 longest vocab items\n",
    "sorted(tokenizer.get_vocab(), key=len, reverse=True)[:5]"
   ]
  },
  {
   "cell_type": "code",
   "execution_count": 92,
   "metadata": {},
   "outputs": [
    {
     "name": "stdout",
     "output_type": "stream",
     "text": [
      "['/', 'fr', '/', 'pag', '492', '/', 'explora', '-', 'platges', '-', 'i', '-', 'ports', '-', '2', '/', 'id', '12', '/', 'les', '-', 'an', 'qu', 'in', 'es', '.', 'htm', 'ĠHTTP', '/', '1', '.', '1']\n",
      "['/', 'plantilles', '/', 'turisme', '/', 'css', '/', 'estils', '-', 'capcalera', '.', 'css', '?', 'v', '=', '3', 'ĠHTTP', '/', '2', '.', '0']\n"
     ]
    }
   ],
   "source": [
    "print(tokenizer.encode(clean_url.iloc[0]).tokens)\n",
    "print(tokenizer.encode(clean_url.iloc[-1]).tokens)"
   ]
  },
  {
   "cell_type": "code",
   "execution_count": 88,
   "metadata": {},
   "outputs": [
    {
     "data": {
      "text/plain": [
       "('/fr/pag492/explora-platges-i-ports-2/id12/les-anquines.htm HTTP/1.1',\n",
       " '/plantilles/turisme/css/estils-capcalera.css?v=3 HTTP/2.0')"
      ]
     },
     "execution_count": 88,
     "metadata": {},
     "output_type": "execute_result"
    }
   ],
   "source": [
    "clean_url.iloc[0], clean_url.iloc[-1]"
   ]
  },
  {
   "cell_type": "markdown",
   "metadata": {},
   "source": [
    "### Wordpiece"
   ]
  },
  {
   "cell_type": "code",
   "execution_count": 100,
   "metadata": {},
   "outputs": [
    {
     "name": "stdout",
     "output_type": "stream",
     "text": [
      "\n",
      "\n",
      "\n"
     ]
    }
   ],
   "source": [
    "from tokenizers import BertWordPieceTokenizer\n",
    "tokenizer = BertWordPieceTokenizer()\n",
    "\n",
    "special_tokens = [\"[PAD]\", \"[UNK]\", \"[CLS]\", \"[SEP]\", \"[MASK]\"]\n",
    "tokenizer.train_from_iterator(corpus, vocab_size=1000, min_frequency=2, special_tokens=special_tokens)"
   ]
  },
  {
   "cell_type": "code",
   "execution_count": 101,
   "metadata": {},
   "outputs": [
    {
     "data": {
      "text/plain": [
       "['/media/eric/D/repos/Synthesis-Project-1/models/wordpiece-vocab.txt']"
      ]
     },
     "execution_count": 101,
     "metadata": {},
     "output_type": "execute_result"
    }
   ],
   "source": [
    "tokenizer.save_model(os.path.join(ROOT_DIR, \"models/\"), prefix=\"wordpiece\")"
   ]
  },
  {
   "cell_type": "code",
   "execution_count": 102,
   "metadata": {},
   "outputs": [],
   "source": [
    "tokenizer = BertWordPieceTokenizer(\n",
    "\tvocab = os.path.join(ROOT_DIR, \"models/\", \"wordpiece-vocab.txt\"),\n",
    ")"
   ]
  },
  {
   "cell_type": "code",
   "execution_count": 103,
   "metadata": {},
   "outputs": [
    {
     "data": {
      "text/plain": [
       "['oncssanimationend',\n",
       " 'pictogramestaules',\n",
       " 'oncssanimation',\n",
       " 'responsivemenu',\n",
       " '##ssanimation']"
      ]
     },
     "execution_count": 103,
     "metadata": {},
     "output_type": "execute_result"
    }
   ],
   "source": [
    "# print 5 longest vocab items\n",
    "sorted(tokenizer.get_vocab(), key=len, reverse=True)[:5]"
   ]
  },
  {
   "cell_type": "code",
   "execution_count": 104,
   "metadata": {},
   "outputs": [
    {
     "name": "stdout",
     "output_type": "stream",
     "text": [
      "['[CLS]', '/', 'fr', '/', 'pag', '##49', '##2', '/', 'explora', '-', 'platges', '-', 'i', '-', 'ports', '-', '2', '/', 'id1', '##2', '/', 'les', '-', 'an', '##qu', '##ine', '##s', '.', 'htm', 'http', '/', '1', '.', '1', '[SEP]']\n",
      "['[CLS]', '/', 'plantilles', '/', 'turisme', '/', 'css', '/', 'estils', '-', 'capcalera', '.', 'css', '?', 'v', '=', '3', 'http', '/', '2', '.', '0', '[SEP]']\n"
     ]
    }
   ],
   "source": [
    "print(tokenizer.encode(clean_url.iloc[0]).tokens)\n",
    "print(tokenizer.encode(clean_url.iloc[-1]).tokens)"
   ]
  }
 ],
 "metadata": {
  "kernelspec": {
   "display_name": "base",
   "language": "python",
   "name": "python3"
  },
  "language_info": {
   "codemirror_mode": {
    "name": "ipython",
    "version": 3
   },
   "file_extension": ".py",
   "mimetype": "text/x-python",
   "name": "python",
   "nbconvert_exporter": "python",
   "pygments_lexer": "ipython3",
   "version": "3.11.5"
  }
 },
 "nbformat": 4,
 "nbformat_minor": 2
}
