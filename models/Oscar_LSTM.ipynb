{
  "nbformat": 4,
  "nbformat_minor": 0,
  "metadata": {
    "colab": {
      "provenance": [],
      "gpuType": "T4"
    },
    "kernelspec": {
      "name": "python3",
      "display_name": "Python 3"
    },
    "language_info": {
      "name": "python"
    },
    "accelerator": "GPU"
  },
  "cells": [
    {
      "cell_type": "markdown",
      "source": [
        "##Simple Example of LSTM"
      ],
      "metadata": {
        "id": "StXkBL_k-7KF"
      }
    },
    {
      "cell_type": "markdown",
      "source": [
        "The idea of this approach is that the model has to be able to represent the same log after being transfered into a low dimension. Then, if we train the model with the normal logs (the majority of logs in our dataset) we would have trained the model to represent the normal logs. Therefore, if an anomalous log is presented, the model would work badly, and here is where we can identify the anomaly."
      ],
      "metadata": {
        "id": "mmOe2Y7vrdDN"
      }
    },
    {
      "cell_type": "code",
      "source": [
        "# imports:\n",
        "\n",
        "import pandas as pd\n",
        "from torch.utils.data import Dataset, DataLoader\n",
        "import torch.optim as optim\n",
        "import torch\n",
        "import torch.nn as nn\n",
        "import numpy as np\n",
        "from tqdm import tqdm\n",
        "from sklearn.model_selection import train_test_split\n",
        "\n",
        "from sklearn.preprocessing import OneHotEncoder, StandardScaler\n",
        "from sklearn.compose import ColumnTransformer\n",
        "from sklearn.pipeline import Pipeline\n"
      ],
      "metadata": {
        "id": "qP7KGPQV_LXg"
      },
      "execution_count": 25,
      "outputs": []
    },
    {
      "cell_type": "markdown",
      "source": [
        "###Step 1: Preprocessing"
      ],
      "metadata": {
        "id": "xbGvOnVo_SzQ"
      }
    },
    {
      "cell_type": "code",
      "source": [
        "# Assuming you have a CSV file named 'logs.csv' with columns ['date', 'petition', 'URL', 'status', 'referer', 'user-agent']\n",
        "# Load the CSV file into a pandas DataFrame\n",
        "logs_df = pd.read_csv('sitges_access_prepared.csv')\n",
        "logs_df.head()"
      ],
      "metadata": {
        "colab": {
          "base_uri": "https://localhost:8080/",
          "height": 256
        },
        "id": "HZ09UG7d27HS",
        "outputId": "c1f68b97-d568-497e-f893-d693d2a7c59d"
      },
      "execution_count": 26,
      "outputs": [
        {
          "output_type": "execute_result",
          "data": {
            "text/plain": [
              "      bytes  elapsed   IP_oct0   IP_oct1   IP_oct2   IP_oct3  month_sin  \\\n",
              "0 -0.597348  0.00000  0.427313 -0.342599 -0.744068  1.620095        0.5   \n",
              "1  0.418239  1.94591 -1.820773 -1.110110  2.453028 -0.878825        0.5   \n",
              "2  1.804745  6.21060 -1.283917  1.652930 -0.635692 -0.464640        0.5   \n",
              "3  0.808723  0.00000 -1.065819  0.240710  0.104878  1.482033        0.5   \n",
              "4  1.747754  0.00000 -0.981935  1.008220  2.145962 -1.582941        0.5   \n",
              "\n",
              "   month_cos   day_sin   day_cos  ...  petition_-  petition_GET  \\\n",
              "0   0.866025 -0.998717 -0.050649  ...           0             1   \n",
              "1   0.866025 -0.998717 -0.050649  ...           0             1   \n",
              "2   0.866025 -0.998717 -0.050649  ...           0             1   \n",
              "3   0.866025 -0.998717 -0.050649  ...           0             1   \n",
              "4   0.866025 -0.998717 -0.050649  ...           0             1   \n",
              "\n",
              "   petition_HEAD  petition_POST  petition_other  status_1  status_2  status_3  \\\n",
              "0              0              0               0     False         1         0   \n",
              "1              0              0               0     False         0         0   \n",
              "2              0              0               0     False         1         0   \n",
              "3              0              0               0     False         1         0   \n",
              "4              0              0               0     False         1         0   \n",
              "\n",
              "   status_4  status_5  \n",
              "0         0       NaN  \n",
              "1         1       NaN  \n",
              "2         0       NaN  \n",
              "3         0       NaN  \n",
              "4         0       NaN  \n",
              "\n",
              "[5 rows x 26 columns]"
            ],
            "text/html": [
              "\n",
              "  <div id=\"df-4a5a2e07-89df-481c-8b60-1775ebefae49\" class=\"colab-df-container\">\n",
              "    <div>\n",
              "<style scoped>\n",
              "    .dataframe tbody tr th:only-of-type {\n",
              "        vertical-align: middle;\n",
              "    }\n",
              "\n",
              "    .dataframe tbody tr th {\n",
              "        vertical-align: top;\n",
              "    }\n",
              "\n",
              "    .dataframe thead th {\n",
              "        text-align: right;\n",
              "    }\n",
              "</style>\n",
              "<table border=\"1\" class=\"dataframe\">\n",
              "  <thead>\n",
              "    <tr style=\"text-align: right;\">\n",
              "      <th></th>\n",
              "      <th>bytes</th>\n",
              "      <th>elapsed</th>\n",
              "      <th>IP_oct0</th>\n",
              "      <th>IP_oct1</th>\n",
              "      <th>IP_oct2</th>\n",
              "      <th>IP_oct3</th>\n",
              "      <th>month_sin</th>\n",
              "      <th>month_cos</th>\n",
              "      <th>day_sin</th>\n",
              "      <th>day_cos</th>\n",
              "      <th>...</th>\n",
              "      <th>petition_-</th>\n",
              "      <th>petition_GET</th>\n",
              "      <th>petition_HEAD</th>\n",
              "      <th>petition_POST</th>\n",
              "      <th>petition_other</th>\n",
              "      <th>status_1</th>\n",
              "      <th>status_2</th>\n",
              "      <th>status_3</th>\n",
              "      <th>status_4</th>\n",
              "      <th>status_5</th>\n",
              "    </tr>\n",
              "  </thead>\n",
              "  <tbody>\n",
              "    <tr>\n",
              "      <th>0</th>\n",
              "      <td>-0.597348</td>\n",
              "      <td>0.00000</td>\n",
              "      <td>0.427313</td>\n",
              "      <td>-0.342599</td>\n",
              "      <td>-0.744068</td>\n",
              "      <td>1.620095</td>\n",
              "      <td>0.5</td>\n",
              "      <td>0.866025</td>\n",
              "      <td>-0.998717</td>\n",
              "      <td>-0.050649</td>\n",
              "      <td>...</td>\n",
              "      <td>0</td>\n",
              "      <td>1</td>\n",
              "      <td>0</td>\n",
              "      <td>0</td>\n",
              "      <td>0</td>\n",
              "      <td>False</td>\n",
              "      <td>1</td>\n",
              "      <td>0</td>\n",
              "      <td>0</td>\n",
              "      <td>NaN</td>\n",
              "    </tr>\n",
              "    <tr>\n",
              "      <th>1</th>\n",
              "      <td>0.418239</td>\n",
              "      <td>1.94591</td>\n",
              "      <td>-1.820773</td>\n",
              "      <td>-1.110110</td>\n",
              "      <td>2.453028</td>\n",
              "      <td>-0.878825</td>\n",
              "      <td>0.5</td>\n",
              "      <td>0.866025</td>\n",
              "      <td>-0.998717</td>\n",
              "      <td>-0.050649</td>\n",
              "      <td>...</td>\n",
              "      <td>0</td>\n",
              "      <td>1</td>\n",
              "      <td>0</td>\n",
              "      <td>0</td>\n",
              "      <td>0</td>\n",
              "      <td>False</td>\n",
              "      <td>0</td>\n",
              "      <td>0</td>\n",
              "      <td>1</td>\n",
              "      <td>NaN</td>\n",
              "    </tr>\n",
              "    <tr>\n",
              "      <th>2</th>\n",
              "      <td>1.804745</td>\n",
              "      <td>6.21060</td>\n",
              "      <td>-1.283917</td>\n",
              "      <td>1.652930</td>\n",
              "      <td>-0.635692</td>\n",
              "      <td>-0.464640</td>\n",
              "      <td>0.5</td>\n",
              "      <td>0.866025</td>\n",
              "      <td>-0.998717</td>\n",
              "      <td>-0.050649</td>\n",
              "      <td>...</td>\n",
              "      <td>0</td>\n",
              "      <td>1</td>\n",
              "      <td>0</td>\n",
              "      <td>0</td>\n",
              "      <td>0</td>\n",
              "      <td>False</td>\n",
              "      <td>1</td>\n",
              "      <td>0</td>\n",
              "      <td>0</td>\n",
              "      <td>NaN</td>\n",
              "    </tr>\n",
              "    <tr>\n",
              "      <th>3</th>\n",
              "      <td>0.808723</td>\n",
              "      <td>0.00000</td>\n",
              "      <td>-1.065819</td>\n",
              "      <td>0.240710</td>\n",
              "      <td>0.104878</td>\n",
              "      <td>1.482033</td>\n",
              "      <td>0.5</td>\n",
              "      <td>0.866025</td>\n",
              "      <td>-0.998717</td>\n",
              "      <td>-0.050649</td>\n",
              "      <td>...</td>\n",
              "      <td>0</td>\n",
              "      <td>1</td>\n",
              "      <td>0</td>\n",
              "      <td>0</td>\n",
              "      <td>0</td>\n",
              "      <td>False</td>\n",
              "      <td>1</td>\n",
              "      <td>0</td>\n",
              "      <td>0</td>\n",
              "      <td>NaN</td>\n",
              "    </tr>\n",
              "    <tr>\n",
              "      <th>4</th>\n",
              "      <td>1.747754</td>\n",
              "      <td>0.00000</td>\n",
              "      <td>-0.981935</td>\n",
              "      <td>1.008220</td>\n",
              "      <td>2.145962</td>\n",
              "      <td>-1.582941</td>\n",
              "      <td>0.5</td>\n",
              "      <td>0.866025</td>\n",
              "      <td>-0.998717</td>\n",
              "      <td>-0.050649</td>\n",
              "      <td>...</td>\n",
              "      <td>0</td>\n",
              "      <td>1</td>\n",
              "      <td>0</td>\n",
              "      <td>0</td>\n",
              "      <td>0</td>\n",
              "      <td>False</td>\n",
              "      <td>1</td>\n",
              "      <td>0</td>\n",
              "      <td>0</td>\n",
              "      <td>NaN</td>\n",
              "    </tr>\n",
              "  </tbody>\n",
              "</table>\n",
              "<p>5 rows × 26 columns</p>\n",
              "</div>\n",
              "    <div class=\"colab-df-buttons\">\n",
              "\n",
              "  <div class=\"colab-df-container\">\n",
              "    <button class=\"colab-df-convert\" onclick=\"convertToInteractive('df-4a5a2e07-89df-481c-8b60-1775ebefae49')\"\n",
              "            title=\"Convert this dataframe to an interactive table.\"\n",
              "            style=\"display:none;\">\n",
              "\n",
              "  <svg xmlns=\"http://www.w3.org/2000/svg\" height=\"24px\" viewBox=\"0 -960 960 960\">\n",
              "    <path d=\"M120-120v-720h720v720H120Zm60-500h600v-160H180v160Zm220 220h160v-160H400v160Zm0 220h160v-160H400v160ZM180-400h160v-160H180v160Zm440 0h160v-160H620v160ZM180-180h160v-160H180v160Zm440 0h160v-160H620v160Z\"/>\n",
              "  </svg>\n",
              "    </button>\n",
              "\n",
              "  <style>\n",
              "    .colab-df-container {\n",
              "      display:flex;\n",
              "      gap: 12px;\n",
              "    }\n",
              "\n",
              "    .colab-df-convert {\n",
              "      background-color: #E8F0FE;\n",
              "      border: none;\n",
              "      border-radius: 50%;\n",
              "      cursor: pointer;\n",
              "      display: none;\n",
              "      fill: #1967D2;\n",
              "      height: 32px;\n",
              "      padding: 0 0 0 0;\n",
              "      width: 32px;\n",
              "    }\n",
              "\n",
              "    .colab-df-convert:hover {\n",
              "      background-color: #E2EBFA;\n",
              "      box-shadow: 0px 1px 2px rgba(60, 64, 67, 0.3), 0px 1px 3px 1px rgba(60, 64, 67, 0.15);\n",
              "      fill: #174EA6;\n",
              "    }\n",
              "\n",
              "    .colab-df-buttons div {\n",
              "      margin-bottom: 4px;\n",
              "    }\n",
              "\n",
              "    [theme=dark] .colab-df-convert {\n",
              "      background-color: #3B4455;\n",
              "      fill: #D2E3FC;\n",
              "    }\n",
              "\n",
              "    [theme=dark] .colab-df-convert:hover {\n",
              "      background-color: #434B5C;\n",
              "      box-shadow: 0px 1px 3px 1px rgba(0, 0, 0, 0.15);\n",
              "      filter: drop-shadow(0px 1px 2px rgba(0, 0, 0, 0.3));\n",
              "      fill: #FFFFFF;\n",
              "    }\n",
              "  </style>\n",
              "\n",
              "    <script>\n",
              "      const buttonEl =\n",
              "        document.querySelector('#df-4a5a2e07-89df-481c-8b60-1775ebefae49 button.colab-df-convert');\n",
              "      buttonEl.style.display =\n",
              "        google.colab.kernel.accessAllowed ? 'block' : 'none';\n",
              "\n",
              "      async function convertToInteractive(key) {\n",
              "        const element = document.querySelector('#df-4a5a2e07-89df-481c-8b60-1775ebefae49');\n",
              "        const dataTable =\n",
              "          await google.colab.kernel.invokeFunction('convertToInteractive',\n",
              "                                                    [key], {});\n",
              "        if (!dataTable) return;\n",
              "\n",
              "        const docLinkHtml = 'Like what you see? Visit the ' +\n",
              "          '<a target=\"_blank\" href=https://colab.research.google.com/notebooks/data_table.ipynb>data table notebook</a>'\n",
              "          + ' to learn more about interactive tables.';\n",
              "        element.innerHTML = '';\n",
              "        dataTable['output_type'] = 'display_data';\n",
              "        await google.colab.output.renderOutput(dataTable, element);\n",
              "        const docLink = document.createElement('div');\n",
              "        docLink.innerHTML = docLinkHtml;\n",
              "        element.appendChild(docLink);\n",
              "      }\n",
              "    </script>\n",
              "  </div>\n",
              "\n",
              "\n",
              "<div id=\"df-e400f158-1246-4e33-95cc-aa250b19051a\">\n",
              "  <button class=\"colab-df-quickchart\" onclick=\"quickchart('df-e400f158-1246-4e33-95cc-aa250b19051a')\"\n",
              "            title=\"Suggest charts\"\n",
              "            style=\"display:none;\">\n",
              "\n",
              "<svg xmlns=\"http://www.w3.org/2000/svg\" height=\"24px\"viewBox=\"0 0 24 24\"\n",
              "     width=\"24px\">\n",
              "    <g>\n",
              "        <path d=\"M19 3H5c-1.1 0-2 .9-2 2v14c0 1.1.9 2 2 2h14c1.1 0 2-.9 2-2V5c0-1.1-.9-2-2-2zM9 17H7v-7h2v7zm4 0h-2V7h2v10zm4 0h-2v-4h2v4z\"/>\n",
              "    </g>\n",
              "</svg>\n",
              "  </button>\n",
              "\n",
              "<style>\n",
              "  .colab-df-quickchart {\n",
              "      --bg-color: #E8F0FE;\n",
              "      --fill-color: #1967D2;\n",
              "      --hover-bg-color: #E2EBFA;\n",
              "      --hover-fill-color: #174EA6;\n",
              "      --disabled-fill-color: #AAA;\n",
              "      --disabled-bg-color: #DDD;\n",
              "  }\n",
              "\n",
              "  [theme=dark] .colab-df-quickchart {\n",
              "      --bg-color: #3B4455;\n",
              "      --fill-color: #D2E3FC;\n",
              "      --hover-bg-color: #434B5C;\n",
              "      --hover-fill-color: #FFFFFF;\n",
              "      --disabled-bg-color: #3B4455;\n",
              "      --disabled-fill-color: #666;\n",
              "  }\n",
              "\n",
              "  .colab-df-quickchart {\n",
              "    background-color: var(--bg-color);\n",
              "    border: none;\n",
              "    border-radius: 50%;\n",
              "    cursor: pointer;\n",
              "    display: none;\n",
              "    fill: var(--fill-color);\n",
              "    height: 32px;\n",
              "    padding: 0;\n",
              "    width: 32px;\n",
              "  }\n",
              "\n",
              "  .colab-df-quickchart:hover {\n",
              "    background-color: var(--hover-bg-color);\n",
              "    box-shadow: 0 1px 2px rgba(60, 64, 67, 0.3), 0 1px 3px 1px rgba(60, 64, 67, 0.15);\n",
              "    fill: var(--button-hover-fill-color);\n",
              "  }\n",
              "\n",
              "  .colab-df-quickchart-complete:disabled,\n",
              "  .colab-df-quickchart-complete:disabled:hover {\n",
              "    background-color: var(--disabled-bg-color);\n",
              "    fill: var(--disabled-fill-color);\n",
              "    box-shadow: none;\n",
              "  }\n",
              "\n",
              "  .colab-df-spinner {\n",
              "    border: 2px solid var(--fill-color);\n",
              "    border-color: transparent;\n",
              "    border-bottom-color: var(--fill-color);\n",
              "    animation:\n",
              "      spin 1s steps(1) infinite;\n",
              "  }\n",
              "\n",
              "  @keyframes spin {\n",
              "    0% {\n",
              "      border-color: transparent;\n",
              "      border-bottom-color: var(--fill-color);\n",
              "      border-left-color: var(--fill-color);\n",
              "    }\n",
              "    20% {\n",
              "      border-color: transparent;\n",
              "      border-left-color: var(--fill-color);\n",
              "      border-top-color: var(--fill-color);\n",
              "    }\n",
              "    30% {\n",
              "      border-color: transparent;\n",
              "      border-left-color: var(--fill-color);\n",
              "      border-top-color: var(--fill-color);\n",
              "      border-right-color: var(--fill-color);\n",
              "    }\n",
              "    40% {\n",
              "      border-color: transparent;\n",
              "      border-right-color: var(--fill-color);\n",
              "      border-top-color: var(--fill-color);\n",
              "    }\n",
              "    60% {\n",
              "      border-color: transparent;\n",
              "      border-right-color: var(--fill-color);\n",
              "    }\n",
              "    80% {\n",
              "      border-color: transparent;\n",
              "      border-right-color: var(--fill-color);\n",
              "      border-bottom-color: var(--fill-color);\n",
              "    }\n",
              "    90% {\n",
              "      border-color: transparent;\n",
              "      border-bottom-color: var(--fill-color);\n",
              "    }\n",
              "  }\n",
              "</style>\n",
              "\n",
              "  <script>\n",
              "    async function quickchart(key) {\n",
              "      const quickchartButtonEl =\n",
              "        document.querySelector('#' + key + ' button');\n",
              "      quickchartButtonEl.disabled = true;  // To prevent multiple clicks.\n",
              "      quickchartButtonEl.classList.add('colab-df-spinner');\n",
              "      try {\n",
              "        const charts = await google.colab.kernel.invokeFunction(\n",
              "            'suggestCharts', [key], {});\n",
              "      } catch (error) {\n",
              "        console.error('Error during call to suggestCharts:', error);\n",
              "      }\n",
              "      quickchartButtonEl.classList.remove('colab-df-spinner');\n",
              "      quickchartButtonEl.classList.add('colab-df-quickchart-complete');\n",
              "    }\n",
              "    (() => {\n",
              "      let quickchartButtonEl =\n",
              "        document.querySelector('#df-e400f158-1246-4e33-95cc-aa250b19051a button');\n",
              "      quickchartButtonEl.style.display =\n",
              "        google.colab.kernel.accessAllowed ? 'block' : 'none';\n",
              "    })();\n",
              "  </script>\n",
              "</div>\n",
              "    </div>\n",
              "  </div>\n"
            ],
            "application/vnd.google.colaboratory.intrinsic+json": {
              "type": "dataframe",
              "variable_name": "logs_df"
            }
          },
          "metadata": {},
          "execution_count": 26
        }
      ]
    },
    {
      "cell_type": "code",
      "source": [
        "print(logs_df[[\"status_1\", \"status_5\"]].head())"
      ],
      "metadata": {
        "colab": {
          "base_uri": "https://localhost:8080/"
        },
        "id": "om3ABrBhkUdE",
        "outputId": "ece5ce9b-a9b7-4e5f-85bf-f6d7e8173cd7"
      },
      "execution_count": 27,
      "outputs": [
        {
          "output_type": "stream",
          "name": "stdout",
          "text": [
            "   status_1  status_5\n",
            "0     False       NaN\n",
            "1     False       NaN\n",
            "2     False       NaN\n",
            "3     False       NaN\n",
            "4     False       NaN\n"
          ]
        }
      ]
    },
    {
      "cell_type": "code",
      "execution_count": 28,
      "metadata": {
        "id": "tQnGjLqufgNZ",
        "colab": {
          "base_uri": "https://localhost:8080/",
          "height": 481
        },
        "outputId": "7fae9696-e1c9-4fd5-da04-b7b52ff79163"
      },
      "outputs": [
        {
          "output_type": "stream",
          "name": "stdout",
          "text": [
            "Index(['bytes', 'elapsed', 'IP_oct0', 'IP_oct1', 'IP_oct2', 'IP_oct3',\n",
            "       'month_sin', 'month_cos', 'day_sin', 'day_cos', 'weekday_sin',\n",
            "       'weekday_cos', 'hour_sin', 'hour_cos', 'minute_sin', 'minute_cos',\n",
            "       'petition_-', 'petition_GET', 'petition_HEAD', 'petition_POST',\n",
            "       'petition_other', 'status_1', 'status_2', 'status_3', 'status_4',\n",
            "       'status_5'],\n",
            "      dtype='object')\n",
            "   status_1  status_5\n",
            "0         0       0.0\n",
            "1         0       0.0\n",
            "2         0       0.0\n",
            "3         0       0.0\n",
            "4         0       0.0\n"
          ]
        },
        {
          "output_type": "execute_result",
          "data": {
            "text/plain": [
              "          bytes   elapsed   IP_oct0   IP_oct1   IP_oct2   IP_oct3  month_sin  \\\n",
              "41781 -2.630782  0.000000 -1.770443 -0.127696  1.224765 -0.920244        0.5   \n",
              "89004  1.818868  0.000000  1.165491 -1.278962 -0.057686  0.211864        0.5   \n",
              "16853  0.808723  0.000000 -0.998712 -1.555266  2.200151 -0.851213        0.5   \n",
              "43588 -0.440833  0.000000  0.880286  0.194659  0.303568  1.564870        0.5   \n",
              "38249  0.672890  7.798933 -1.720113 -0.987308  1.116389 -1.348236        0.5   \n",
              "\n",
              "       month_cos   day_sin   day_cos  ...  petition_-  petition_GET  \\\n",
              "41781   0.866025 -0.998717 -0.050649  ...           0             1   \n",
              "89004   0.866025 -0.998717 -0.050649  ...           0             1   \n",
              "16853   0.866025 -0.998717 -0.050649  ...           0             1   \n",
              "43588   0.866025 -0.998717 -0.050649  ...           0             1   \n",
              "38249   0.866025 -0.998717 -0.050649  ...           0             1   \n",
              "\n",
              "       petition_HEAD  petition_POST  petition_other  status_1  status_2  \\\n",
              "41781              0              0               0         0         0   \n",
              "89004              0              0               0         0         1   \n",
              "16853              0              0               0         0         1   \n",
              "43588              0              0               0         0         1   \n",
              "38249              0              0               0         0         1   \n",
              "\n",
              "       status_3  status_4  status_5  \n",
              "41781         1         0       0.0  \n",
              "89004         0         0       0.0  \n",
              "16853         0         0       0.0  \n",
              "43588         0         0       0.0  \n",
              "38249         0         0       0.0  \n",
              "\n",
              "[5 rows x 26 columns]"
            ],
            "text/html": [
              "\n",
              "  <div id=\"df-b1762db1-1da6-412e-bed2-25257f269f94\" class=\"colab-df-container\">\n",
              "    <div>\n",
              "<style scoped>\n",
              "    .dataframe tbody tr th:only-of-type {\n",
              "        vertical-align: middle;\n",
              "    }\n",
              "\n",
              "    .dataframe tbody tr th {\n",
              "        vertical-align: top;\n",
              "    }\n",
              "\n",
              "    .dataframe thead th {\n",
              "        text-align: right;\n",
              "    }\n",
              "</style>\n",
              "<table border=\"1\" class=\"dataframe\">\n",
              "  <thead>\n",
              "    <tr style=\"text-align: right;\">\n",
              "      <th></th>\n",
              "      <th>bytes</th>\n",
              "      <th>elapsed</th>\n",
              "      <th>IP_oct0</th>\n",
              "      <th>IP_oct1</th>\n",
              "      <th>IP_oct2</th>\n",
              "      <th>IP_oct3</th>\n",
              "      <th>month_sin</th>\n",
              "      <th>month_cos</th>\n",
              "      <th>day_sin</th>\n",
              "      <th>day_cos</th>\n",
              "      <th>...</th>\n",
              "      <th>petition_-</th>\n",
              "      <th>petition_GET</th>\n",
              "      <th>petition_HEAD</th>\n",
              "      <th>petition_POST</th>\n",
              "      <th>petition_other</th>\n",
              "      <th>status_1</th>\n",
              "      <th>status_2</th>\n",
              "      <th>status_3</th>\n",
              "      <th>status_4</th>\n",
              "      <th>status_5</th>\n",
              "    </tr>\n",
              "  </thead>\n",
              "  <tbody>\n",
              "    <tr>\n",
              "      <th>41781</th>\n",
              "      <td>-2.630782</td>\n",
              "      <td>0.000000</td>\n",
              "      <td>-1.770443</td>\n",
              "      <td>-0.127696</td>\n",
              "      <td>1.224765</td>\n",
              "      <td>-0.920244</td>\n",
              "      <td>0.5</td>\n",
              "      <td>0.866025</td>\n",
              "      <td>-0.998717</td>\n",
              "      <td>-0.050649</td>\n",
              "      <td>...</td>\n",
              "      <td>0</td>\n",
              "      <td>1</td>\n",
              "      <td>0</td>\n",
              "      <td>0</td>\n",
              "      <td>0</td>\n",
              "      <td>0</td>\n",
              "      <td>0</td>\n",
              "      <td>1</td>\n",
              "      <td>0</td>\n",
              "      <td>0.0</td>\n",
              "    </tr>\n",
              "    <tr>\n",
              "      <th>89004</th>\n",
              "      <td>1.818868</td>\n",
              "      <td>0.000000</td>\n",
              "      <td>1.165491</td>\n",
              "      <td>-1.278962</td>\n",
              "      <td>-0.057686</td>\n",
              "      <td>0.211864</td>\n",
              "      <td>0.5</td>\n",
              "      <td>0.866025</td>\n",
              "      <td>-0.998717</td>\n",
              "      <td>-0.050649</td>\n",
              "      <td>...</td>\n",
              "      <td>0</td>\n",
              "      <td>1</td>\n",
              "      <td>0</td>\n",
              "      <td>0</td>\n",
              "      <td>0</td>\n",
              "      <td>0</td>\n",
              "      <td>1</td>\n",
              "      <td>0</td>\n",
              "      <td>0</td>\n",
              "      <td>0.0</td>\n",
              "    </tr>\n",
              "    <tr>\n",
              "      <th>16853</th>\n",
              "      <td>0.808723</td>\n",
              "      <td>0.000000</td>\n",
              "      <td>-0.998712</td>\n",
              "      <td>-1.555266</td>\n",
              "      <td>2.200151</td>\n",
              "      <td>-0.851213</td>\n",
              "      <td>0.5</td>\n",
              "      <td>0.866025</td>\n",
              "      <td>-0.998717</td>\n",
              "      <td>-0.050649</td>\n",
              "      <td>...</td>\n",
              "      <td>0</td>\n",
              "      <td>1</td>\n",
              "      <td>0</td>\n",
              "      <td>0</td>\n",
              "      <td>0</td>\n",
              "      <td>0</td>\n",
              "      <td>1</td>\n",
              "      <td>0</td>\n",
              "      <td>0</td>\n",
              "      <td>0.0</td>\n",
              "    </tr>\n",
              "    <tr>\n",
              "      <th>43588</th>\n",
              "      <td>-0.440833</td>\n",
              "      <td>0.000000</td>\n",
              "      <td>0.880286</td>\n",
              "      <td>0.194659</td>\n",
              "      <td>0.303568</td>\n",
              "      <td>1.564870</td>\n",
              "      <td>0.5</td>\n",
              "      <td>0.866025</td>\n",
              "      <td>-0.998717</td>\n",
              "      <td>-0.050649</td>\n",
              "      <td>...</td>\n",
              "      <td>0</td>\n",
              "      <td>1</td>\n",
              "      <td>0</td>\n",
              "      <td>0</td>\n",
              "      <td>0</td>\n",
              "      <td>0</td>\n",
              "      <td>1</td>\n",
              "      <td>0</td>\n",
              "      <td>0</td>\n",
              "      <td>0.0</td>\n",
              "    </tr>\n",
              "    <tr>\n",
              "      <th>38249</th>\n",
              "      <td>0.672890</td>\n",
              "      <td>7.798933</td>\n",
              "      <td>-1.720113</td>\n",
              "      <td>-0.987308</td>\n",
              "      <td>1.116389</td>\n",
              "      <td>-1.348236</td>\n",
              "      <td>0.5</td>\n",
              "      <td>0.866025</td>\n",
              "      <td>-0.998717</td>\n",
              "      <td>-0.050649</td>\n",
              "      <td>...</td>\n",
              "      <td>0</td>\n",
              "      <td>1</td>\n",
              "      <td>0</td>\n",
              "      <td>0</td>\n",
              "      <td>0</td>\n",
              "      <td>0</td>\n",
              "      <td>1</td>\n",
              "      <td>0</td>\n",
              "      <td>0</td>\n",
              "      <td>0.0</td>\n",
              "    </tr>\n",
              "  </tbody>\n",
              "</table>\n",
              "<p>5 rows × 26 columns</p>\n",
              "</div>\n",
              "    <div class=\"colab-df-buttons\">\n",
              "\n",
              "  <div class=\"colab-df-container\">\n",
              "    <button class=\"colab-df-convert\" onclick=\"convertToInteractive('df-b1762db1-1da6-412e-bed2-25257f269f94')\"\n",
              "            title=\"Convert this dataframe to an interactive table.\"\n",
              "            style=\"display:none;\">\n",
              "\n",
              "  <svg xmlns=\"http://www.w3.org/2000/svg\" height=\"24px\" viewBox=\"0 -960 960 960\">\n",
              "    <path d=\"M120-120v-720h720v720H120Zm60-500h600v-160H180v160Zm220 220h160v-160H400v160Zm0 220h160v-160H400v160ZM180-400h160v-160H180v160Zm440 0h160v-160H620v160ZM180-180h160v-160H180v160Zm440 0h160v-160H620v160Z\"/>\n",
              "  </svg>\n",
              "    </button>\n",
              "\n",
              "  <style>\n",
              "    .colab-df-container {\n",
              "      display:flex;\n",
              "      gap: 12px;\n",
              "    }\n",
              "\n",
              "    .colab-df-convert {\n",
              "      background-color: #E8F0FE;\n",
              "      border: none;\n",
              "      border-radius: 50%;\n",
              "      cursor: pointer;\n",
              "      display: none;\n",
              "      fill: #1967D2;\n",
              "      height: 32px;\n",
              "      padding: 0 0 0 0;\n",
              "      width: 32px;\n",
              "    }\n",
              "\n",
              "    .colab-df-convert:hover {\n",
              "      background-color: #E2EBFA;\n",
              "      box-shadow: 0px 1px 2px rgba(60, 64, 67, 0.3), 0px 1px 3px 1px rgba(60, 64, 67, 0.15);\n",
              "      fill: #174EA6;\n",
              "    }\n",
              "\n",
              "    .colab-df-buttons div {\n",
              "      margin-bottom: 4px;\n",
              "    }\n",
              "\n",
              "    [theme=dark] .colab-df-convert {\n",
              "      background-color: #3B4455;\n",
              "      fill: #D2E3FC;\n",
              "    }\n",
              "\n",
              "    [theme=dark] .colab-df-convert:hover {\n",
              "      background-color: #434B5C;\n",
              "      box-shadow: 0px 1px 3px 1px rgba(0, 0, 0, 0.15);\n",
              "      filter: drop-shadow(0px 1px 2px rgba(0, 0, 0, 0.3));\n",
              "      fill: #FFFFFF;\n",
              "    }\n",
              "  </style>\n",
              "\n",
              "    <script>\n",
              "      const buttonEl =\n",
              "        document.querySelector('#df-b1762db1-1da6-412e-bed2-25257f269f94 button.colab-df-convert');\n",
              "      buttonEl.style.display =\n",
              "        google.colab.kernel.accessAllowed ? 'block' : 'none';\n",
              "\n",
              "      async function convertToInteractive(key) {\n",
              "        const element = document.querySelector('#df-b1762db1-1da6-412e-bed2-25257f269f94');\n",
              "        const dataTable =\n",
              "          await google.colab.kernel.invokeFunction('convertToInteractive',\n",
              "                                                    [key], {});\n",
              "        if (!dataTable) return;\n",
              "\n",
              "        const docLinkHtml = 'Like what you see? Visit the ' +\n",
              "          '<a target=\"_blank\" href=https://colab.research.google.com/notebooks/data_table.ipynb>data table notebook</a>'\n",
              "          + ' to learn more about interactive tables.';\n",
              "        element.innerHTML = '';\n",
              "        dataTable['output_type'] = 'display_data';\n",
              "        await google.colab.output.renderOutput(dataTable, element);\n",
              "        const docLink = document.createElement('div');\n",
              "        docLink.innerHTML = docLinkHtml;\n",
              "        element.appendChild(docLink);\n",
              "      }\n",
              "    </script>\n",
              "  </div>\n",
              "\n",
              "\n",
              "<div id=\"df-8c2662c0-ad62-48c3-acb2-34b04701aec0\">\n",
              "  <button class=\"colab-df-quickchart\" onclick=\"quickchart('df-8c2662c0-ad62-48c3-acb2-34b04701aec0')\"\n",
              "            title=\"Suggest charts\"\n",
              "            style=\"display:none;\">\n",
              "\n",
              "<svg xmlns=\"http://www.w3.org/2000/svg\" height=\"24px\"viewBox=\"0 0 24 24\"\n",
              "     width=\"24px\">\n",
              "    <g>\n",
              "        <path d=\"M19 3H5c-1.1 0-2 .9-2 2v14c0 1.1.9 2 2 2h14c1.1 0 2-.9 2-2V5c0-1.1-.9-2-2-2zM9 17H7v-7h2v7zm4 0h-2V7h2v10zm4 0h-2v-4h2v4z\"/>\n",
              "    </g>\n",
              "</svg>\n",
              "  </button>\n",
              "\n",
              "<style>\n",
              "  .colab-df-quickchart {\n",
              "      --bg-color: #E8F0FE;\n",
              "      --fill-color: #1967D2;\n",
              "      --hover-bg-color: #E2EBFA;\n",
              "      --hover-fill-color: #174EA6;\n",
              "      --disabled-fill-color: #AAA;\n",
              "      --disabled-bg-color: #DDD;\n",
              "  }\n",
              "\n",
              "  [theme=dark] .colab-df-quickchart {\n",
              "      --bg-color: #3B4455;\n",
              "      --fill-color: #D2E3FC;\n",
              "      --hover-bg-color: #434B5C;\n",
              "      --hover-fill-color: #FFFFFF;\n",
              "      --disabled-bg-color: #3B4455;\n",
              "      --disabled-fill-color: #666;\n",
              "  }\n",
              "\n",
              "  .colab-df-quickchart {\n",
              "    background-color: var(--bg-color);\n",
              "    border: none;\n",
              "    border-radius: 50%;\n",
              "    cursor: pointer;\n",
              "    display: none;\n",
              "    fill: var(--fill-color);\n",
              "    height: 32px;\n",
              "    padding: 0;\n",
              "    width: 32px;\n",
              "  }\n",
              "\n",
              "  .colab-df-quickchart:hover {\n",
              "    background-color: var(--hover-bg-color);\n",
              "    box-shadow: 0 1px 2px rgba(60, 64, 67, 0.3), 0 1px 3px 1px rgba(60, 64, 67, 0.15);\n",
              "    fill: var(--button-hover-fill-color);\n",
              "  }\n",
              "\n",
              "  .colab-df-quickchart-complete:disabled,\n",
              "  .colab-df-quickchart-complete:disabled:hover {\n",
              "    background-color: var(--disabled-bg-color);\n",
              "    fill: var(--disabled-fill-color);\n",
              "    box-shadow: none;\n",
              "  }\n",
              "\n",
              "  .colab-df-spinner {\n",
              "    border: 2px solid var(--fill-color);\n",
              "    border-color: transparent;\n",
              "    border-bottom-color: var(--fill-color);\n",
              "    animation:\n",
              "      spin 1s steps(1) infinite;\n",
              "  }\n",
              "\n",
              "  @keyframes spin {\n",
              "    0% {\n",
              "      border-color: transparent;\n",
              "      border-bottom-color: var(--fill-color);\n",
              "      border-left-color: var(--fill-color);\n",
              "    }\n",
              "    20% {\n",
              "      border-color: transparent;\n",
              "      border-left-color: var(--fill-color);\n",
              "      border-top-color: var(--fill-color);\n",
              "    }\n",
              "    30% {\n",
              "      border-color: transparent;\n",
              "      border-left-color: var(--fill-color);\n",
              "      border-top-color: var(--fill-color);\n",
              "      border-right-color: var(--fill-color);\n",
              "    }\n",
              "    40% {\n",
              "      border-color: transparent;\n",
              "      border-right-color: var(--fill-color);\n",
              "      border-top-color: var(--fill-color);\n",
              "    }\n",
              "    60% {\n",
              "      border-color: transparent;\n",
              "      border-right-color: var(--fill-color);\n",
              "    }\n",
              "    80% {\n",
              "      border-color: transparent;\n",
              "      border-right-color: var(--fill-color);\n",
              "      border-bottom-color: var(--fill-color);\n",
              "    }\n",
              "    90% {\n",
              "      border-color: transparent;\n",
              "      border-bottom-color: var(--fill-color);\n",
              "    }\n",
              "  }\n",
              "</style>\n",
              "\n",
              "  <script>\n",
              "    async function quickchart(key) {\n",
              "      const quickchartButtonEl =\n",
              "        document.querySelector('#' + key + ' button');\n",
              "      quickchartButtonEl.disabled = true;  // To prevent multiple clicks.\n",
              "      quickchartButtonEl.classList.add('colab-df-spinner');\n",
              "      try {\n",
              "        const charts = await google.colab.kernel.invokeFunction(\n",
              "            'suggestCharts', [key], {});\n",
              "      } catch (error) {\n",
              "        console.error('Error during call to suggestCharts:', error);\n",
              "      }\n",
              "      quickchartButtonEl.classList.remove('colab-df-spinner');\n",
              "      quickchartButtonEl.classList.add('colab-df-quickchart-complete');\n",
              "    }\n",
              "    (() => {\n",
              "      let quickchartButtonEl =\n",
              "        document.querySelector('#df-8c2662c0-ad62-48c3-acb2-34b04701aec0 button');\n",
              "      quickchartButtonEl.style.display =\n",
              "        google.colab.kernel.accessAllowed ? 'block' : 'none';\n",
              "    })();\n",
              "  </script>\n",
              "</div>\n",
              "    </div>\n",
              "  </div>\n"
            ],
            "application/vnd.google.colaboratory.intrinsic+json": {
              "type": "dataframe",
              "variable_name": "X_train"
            }
          },
          "metadata": {},
          "execution_count": 28
        }
      ],
      "source": [
        "# Divide the data into features (X)\n",
        "print(logs_df.columns)\n",
        "\n",
        "# Convert boolean column to integers\n",
        "logs_df['status_1'] = logs_df['status_1'].astype(int)\n",
        "\n",
        "# Replace NaN values with 0 in the 'column_with_nan'\n",
        "logs_df['status_5'] = logs_df['status_5'].fillna(0)\n",
        "\n",
        "print(logs_df[[\"status_1\", \"status_5\"]].head())\n",
        "\n",
        "#logs_df = logs_df.drop([\"status_1\", \"status_5\"], axis=1)\n",
        "# Split the data into train, validation, and test sets\n",
        "X_train, X_test = train_test_split(logs_df, test_size=0.2, random_state=42)\n",
        "X_train.head()"
      ]
    },
    {
      "cell_type": "code",
      "source": [
        "class CustomDataset(Dataset):\n",
        "    def __init__(self, dataframe):\n",
        "        self.data = dataframe.values.astype(np.float32) # Assuming dataframe is a pandas DataFrame\n",
        "\n",
        "    def __len__(self):\n",
        "        return len(self.data)\n",
        "\n",
        "    def __getitem__(self, idx):\n",
        "        sample = self.data[idx]\n",
        "        return torch.tensor(sample)"
      ],
      "metadata": {
        "id": "Lm-4z82nrEpL"
      },
      "execution_count": 29,
      "outputs": []
    },
    {
      "cell_type": "code",
      "source": [
        "train_dataset = CustomDataset(X_train)\n",
        "train_loader = DataLoader(train_dataset, batch_size=32, shuffle=True)\n",
        "\n",
        "test_dataset = CustomDataset(X_test)\n",
        "test_loader = DataLoader(test_dataset, batch_size=32, shuffle=True)"
      ],
      "metadata": {
        "id": "fCejiapprJDR"
      },
      "execution_count": 30,
      "outputs": []
    },
    {
      "cell_type": "markdown",
      "source": [
        "###Step 3: Model"
      ],
      "metadata": {
        "id": "z8nswgcS_daf"
      }
    },
    {
      "cell_type": "code",
      "source": [
        "# Define LSTM Autoencoder Model\n",
        "class LogAnomalyDetector(nn.Module):\n",
        "    def __init__(self, input_size, hidden_size, num_layers):\n",
        "        super(LogAnomalyDetector, self).__init__()\n",
        "        self.encoder = nn.LSTM(input_size=input_size, hidden_size=hidden_size, num_layers=num_layers, batch_first=True)\n",
        "        self.decoder = nn.LSTM(input_size=hidden_size, hidden_size=input_size, num_layers=num_layers, batch_first=True)\n",
        "\n",
        "    def forward(self, x):\n",
        "        _, (hidden, cell) = self.encoder(x)\n",
        "        output, _ = self.decoder(hidden)\n",
        "        return output[-1] #Return just the last layer\n",
        "\n",
        "input_size=len(logs_df.columns)\n",
        "hidden_size=input_size//4\n",
        "num_layers=3\n",
        "\n",
        "# Create an instance of the model\n",
        "model = LogAnomalyDetector(input_size=input_size, hidden_size=hidden_size, num_layers=num_layers)\n",
        "\n",
        "# Print model summary\n",
        "print(model)"
      ],
      "metadata": {
        "id": "UBTChfNT_GgH",
        "colab": {
          "base_uri": "https://localhost:8080/"
        },
        "outputId": "f5de7756-1db4-4922-d55e-434efaba3528"
      },
      "execution_count": 31,
      "outputs": [
        {
          "output_type": "stream",
          "name": "stdout",
          "text": [
            "LogAnomalyDetector(\n",
            "  (encoder): LSTM(26, 6, num_layers=3, batch_first=True)\n",
            "  (decoder): LSTM(6, 26, num_layers=3, batch_first=True)\n",
            ")\n"
          ]
        }
      ]
    },
    {
      "cell_type": "markdown",
      "source": [
        "###Step 4: Train the model"
      ],
      "metadata": {
        "id": "T6DDCe0ZmoCQ"
      }
    },
    {
      "cell_type": "code",
      "source": [
        "# Function for training the model\n",
        "def train_model(model, train_loader, criterion, optimizer, num_epochs=10):\n",
        "    device = torch.device(\"cuda\" if torch.cuda.is_available() else \"cpu\")\n",
        "    model.to(device)\n",
        "\n",
        "    for epoch in range(num_epochs):\n",
        "        running_loss = 0.0\n",
        "        for i, inputs in tqdm(enumerate(train_loader, 0)):\n",
        "            inputs = inputs.to(device)\n",
        "\n",
        "            optimizer.zero_grad()\n",
        "\n",
        "            outputs = model(inputs)\n",
        "            loss = criterion(outputs.squeeze(), inputs.squeeze())\n",
        "\n",
        "            loss.backward()\n",
        "            optimizer.step()\n",
        "\n",
        "            running_loss += loss.item()\n",
        "\n",
        "        print(f\"Epoch [{epoch+1}/{num_epochs}], Loss: {running_loss / len(train_loader)}\")\n",
        "\n"
      ],
      "metadata": {
        "id": "rYl5i8mHmiQu"
      },
      "execution_count": 36,
      "outputs": []
    },
    {
      "cell_type": "code",
      "source": [
        "# Sample log entry\n",
        "log_entry = [-2.630782, -2.630782, -2.630782, -2.630782, -2.630782, -2.630782, 0.000000, -1.770443, -0.127696, 1.224765, -0.920244, 0.5, 0.866025, -0.998717, -0.050649, 0, 1, 0, 0, 0, 0, 1, 0]\n",
        "\n",
        "# Convert the log entry to a tensor\n",
        "log_tensor = torch.tensor(log_entry).unsqueeze(0)  # Add batch dimension\n",
        "\n",
        "# Pass the log tensor through the model\n",
        "output_log_tensor = model(log_tensor)\n",
        "\n",
        "# Convert the output tensor back to a numpy array\n",
        "#output_log_entry = output_log_tensor.squeeze().detach().numpy()\n",
        "\n",
        "# Output the reconstructed log entry\n",
        "print(\"Reconstructed Log Entry:\")\n",
        "print(output_log_tensor)\n",
        "print(log_tensor)"
      ],
      "metadata": {
        "colab": {
          "base_uri": "https://localhost:8080/"
        },
        "id": "_vfyP4x8yc2m",
        "outputId": "fe187fbc-21d4-4296-8a64-81b8cc83e2f4"
      },
      "execution_count": 33,
      "outputs": [
        {
          "output_type": "stream",
          "name": "stdout",
          "text": [
            "Reconstructed Log Entry:\n",
            "tensor([-0.0170, -0.0134,  0.0100,  0.0140,  0.0920,  0.0436, -0.0111,  0.0225,\n",
            "         0.0649,  0.0248,  0.0347,  0.0638,  0.0835,  0.1617,  0.1700,  0.0633,\n",
            "        -0.0106, -0.0038,  0.0894,  0.0599,  0.0501, -0.0260,  0.1218,  0.1616,\n",
            "        -0.1232, -0.1718], grad_fn=<SelectBackward0>)\n",
            "tensor([[-2.6308, -2.6308, -2.6308, -2.6308, -2.6308, -2.6308,  0.0000, -1.7704,\n",
            "         -0.1277,  1.2248, -0.9202,  0.5000,  0.8660, -0.9987, -0.0506,  0.0000,\n",
            "          1.0000,  0.0000,  0.0000,  0.0000,  0.0000,  1.0000,  0.0000]])\n"
          ]
        }
      ]
    },
    {
      "cell_type": "code",
      "source": [
        "# Define the criterion (loss function)\n",
        "criterion = nn.MSELoss()\n",
        "\n",
        "# Define the optimizer\n",
        "optimizer = optim.Adam(model.parameters(), lr=0.01)  # Adjust learning rate as needed\n",
        "\n",
        "# Train the model\n",
        "num_epochs = 20\n",
        "\n",
        "train_loss = train_model(model, train_loader, criterion, optimizer, num_epochs=num_epochs)"
      ],
      "metadata": {
        "id": "g7oWsSQ8onvr",
        "colab": {
          "base_uri": "https://localhost:8080/"
        },
        "outputId": "86e8f865-b58a-4fe8-ab10-7ace42263bbb"
      },
      "execution_count": 37,
      "outputs": [
        {
          "output_type": "stream",
          "name": "stderr",
          "text": [
            "3325it [00:12, 266.10it/s]\n"
          ]
        },
        {
          "output_type": "stream",
          "name": "stdout",
          "text": [
            "Epoch [1/20], Loss: 0.39923158237360473\n"
          ]
        },
        {
          "output_type": "stream",
          "name": "stderr",
          "text": [
            "3325it [00:12, 276.69it/s]\n"
          ]
        },
        {
          "output_type": "stream",
          "name": "stdout",
          "text": [
            "Epoch [2/20], Loss: 0.3992271705095033\n"
          ]
        },
        {
          "output_type": "stream",
          "name": "stderr",
          "text": [
            "3325it [00:13, 252.18it/s]\n"
          ]
        },
        {
          "output_type": "stream",
          "name": "stdout",
          "text": [
            "Epoch [3/20], Loss: 0.3993775367871263\n"
          ]
        },
        {
          "output_type": "stream",
          "name": "stderr",
          "text": [
            "3325it [00:12, 272.59it/s]\n"
          ]
        },
        {
          "output_type": "stream",
          "name": "stdout",
          "text": [
            "Epoch [4/20], Loss: 0.399202653389228\n"
          ]
        },
        {
          "output_type": "stream",
          "name": "stderr",
          "text": [
            "3325it [00:12, 274.61it/s]\n"
          ]
        },
        {
          "output_type": "stream",
          "name": "stdout",
          "text": [
            "Epoch [5/20], Loss: 0.3991735292511775\n"
          ]
        },
        {
          "output_type": "stream",
          "name": "stderr",
          "text": [
            "3325it [00:13, 254.29it/s]\n"
          ]
        },
        {
          "output_type": "stream",
          "name": "stdout",
          "text": [
            "Epoch [6/20], Loss: 0.3993849283008647\n"
          ]
        },
        {
          "output_type": "stream",
          "name": "stderr",
          "text": [
            "3325it [00:12, 267.31it/s]\n"
          ]
        },
        {
          "output_type": "stream",
          "name": "stdout",
          "text": [
            "Epoch [7/20], Loss: 0.3992680248550903\n"
          ]
        },
        {
          "output_type": "stream",
          "name": "stderr",
          "text": [
            "3325it [00:12, 266.71it/s]\n"
          ]
        },
        {
          "output_type": "stream",
          "name": "stdout",
          "text": [
            "Epoch [8/20], Loss: 0.3993122111899512\n"
          ]
        },
        {
          "output_type": "stream",
          "name": "stderr",
          "text": [
            "3325it [00:12, 270.45it/s]\n"
          ]
        },
        {
          "output_type": "stream",
          "name": "stdout",
          "text": [
            "Epoch [9/20], Loss: 0.39924472778363335\n"
          ]
        },
        {
          "output_type": "stream",
          "name": "stderr",
          "text": [
            "3325it [00:15, 219.10it/s]\n"
          ]
        },
        {
          "output_type": "stream",
          "name": "stdout",
          "text": [
            "Epoch [10/20], Loss: 0.39927182684267376\n"
          ]
        },
        {
          "output_type": "stream",
          "name": "stderr",
          "text": [
            "3325it [00:13, 253.33it/s]\n"
          ]
        },
        {
          "output_type": "stream",
          "name": "stdout",
          "text": [
            "Epoch [11/20], Loss: 0.39916962575643583\n"
          ]
        },
        {
          "output_type": "stream",
          "name": "stderr",
          "text": [
            "3325it [00:12, 265.45it/s]\n"
          ]
        },
        {
          "output_type": "stream",
          "name": "stdout",
          "text": [
            "Epoch [12/20], Loss: 0.3991554999082608\n"
          ]
        },
        {
          "output_type": "stream",
          "name": "stderr",
          "text": [
            "3325it [00:15, 220.87it/s]\n"
          ]
        },
        {
          "output_type": "stream",
          "name": "stdout",
          "text": [
            "Epoch [13/20], Loss: 0.3993976580738125\n"
          ]
        },
        {
          "output_type": "stream",
          "name": "stderr",
          "text": [
            "3325it [00:14, 229.18it/s]\n"
          ]
        },
        {
          "output_type": "stream",
          "name": "stdout",
          "text": [
            "Epoch [14/20], Loss: 0.3990990041476443\n"
          ]
        },
        {
          "output_type": "stream",
          "name": "stderr",
          "text": [
            "3325it [00:13, 247.86it/s]\n"
          ]
        },
        {
          "output_type": "stream",
          "name": "stdout",
          "text": [
            "Epoch [15/20], Loss: 0.3992182392867884\n"
          ]
        },
        {
          "output_type": "stream",
          "name": "stderr",
          "text": [
            "3325it [00:14, 232.45it/s]\n"
          ]
        },
        {
          "output_type": "stream",
          "name": "stdout",
          "text": [
            "Epoch [16/20], Loss: 0.3992101382985151\n"
          ]
        },
        {
          "output_type": "stream",
          "name": "stderr",
          "text": [
            "3325it [00:13, 255.73it/s]\n"
          ]
        },
        {
          "output_type": "stream",
          "name": "stdout",
          "text": [
            "Epoch [17/20], Loss: 0.39914701779982203\n"
          ]
        },
        {
          "output_type": "stream",
          "name": "stderr",
          "text": [
            "3325it [00:13, 239.42it/s]\n"
          ]
        },
        {
          "output_type": "stream",
          "name": "stdout",
          "text": [
            "Epoch [18/20], Loss: 0.39920004202907244\n"
          ]
        },
        {
          "output_type": "stream",
          "name": "stderr",
          "text": [
            "3325it [00:13, 244.52it/s]\n"
          ]
        },
        {
          "output_type": "stream",
          "name": "stdout",
          "text": [
            "Epoch [19/20], Loss: 0.3992282909782309\n"
          ]
        },
        {
          "output_type": "stream",
          "name": "stderr",
          "text": [
            "3325it [00:12, 270.15it/s]"
          ]
        },
        {
          "output_type": "stream",
          "name": "stdout",
          "text": [
            "Epoch [20/20], Loss: 0.3991897730137173\n"
          ]
        },
        {
          "output_type": "stream",
          "name": "stderr",
          "text": [
            "\n"
          ]
        }
      ]
    },
    {
      "cell_type": "markdown",
      "source": [
        "### Step 5: Test the model"
      ],
      "metadata": {
        "id": "4zsPupZvuTjS"
      }
    },
    {
      "cell_type": "code",
      "source": [
        "# Test the model\n",
        "def test_model(model, test_loader, criterion):\n",
        "    device = torch.device(\"cuda\" if torch.cuda.is_available() else \"cpu\")\n",
        "    model.eval()  # Set model to evaluation mode\n",
        "    model.to(device)\n",
        "    test_loss = 0.0\n",
        "\n",
        "    with torch.no_grad():\n",
        "        for inputs in test_loader:\n",
        "            inputs = inputs.to(device)\n",
        "\n",
        "            outputs = model(inputs)\n",
        "            loss = criterion(outputs.squeeze(), inputs.squeeze())\n",
        "\n",
        "            test_loss += loss.item()\n",
        "\n",
        "    avg_test_loss = test_loss / len(test_loader)\n",
        "    print(f\"Average Test Loss: {avg_test_loss}\")"
      ],
      "metadata": {
        "id": "i7ETMlWmtj7q"
      },
      "execution_count": 38,
      "outputs": []
    },
    {
      "cell_type": "code",
      "source": [
        "test_loss = test_model(model, test_loader, criterion)"
      ],
      "metadata": {
        "id": "DQTccfm-rbWB",
        "colab": {
          "base_uri": "https://localhost:8080/"
        },
        "outputId": "09bfd6ab-b9b9-42a2-96b3-be1438e80885"
      },
      "execution_count": 39,
      "outputs": [
        {
          "output_type": "stream",
          "name": "stdout",
          "text": [
            "Average Test Loss: 0.4015493282976632\n"
          ]
        },
        {
          "output_type": "stream",
          "name": "stderr",
          "text": [
            "/usr/local/lib/python3.10/dist-packages/torch/nn/modules/loss.py:535: UserWarning: Using a target size (torch.Size([2, 26])) that is different to the input size (torch.Size([26])). This will likely lead to incorrect results due to broadcasting. Please ensure they have the same size.\n",
            "  return F.mse_loss(input, target, reduction=self.reduction)\n"
          ]
        }
      ]
    },
    {
      "cell_type": "code",
      "source": [
        "# To get the scoring system, compute the similarity between the output vector and the input vector. (This is just an idea)\n",
        "# An anomaly should give low similarity (This is if the model performs accuratelly the task of autoencode the same vector)"
      ],
      "metadata": {
        "id": "N086256EqqPU"
      },
      "execution_count": null,
      "outputs": []
    }
  ]
}